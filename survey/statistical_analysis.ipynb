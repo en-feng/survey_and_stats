{
 "cells": [
  {
   "cell_type": "code",
   "execution_count": 31,
   "metadata": {},
   "outputs": [],
   "source": [
    "# 整理数据的库\n",
    "import numpy as np\n",
    "import pandas as pd\n",
    "# 数据可视化的库\n",
    "import matplotlib as mpl\n",
    "import matplotlib.pyplot as plt\n",
    "import seaborn as sns\n",
    "\n",
    "plt.rcParams['font.sans-serif'] = ['SimHei']  # 中文字体设置-黑体\n",
    "plt.rcParams['axes.unicode_minus'] = False  # 解决保存图像是负号'-'显示为方块的问题\n",
    "sns.set(font='SimHei')  # 解决Seaborn中文显示问题\n",
    "# 数据分析的库\n",
    "from scipy import stats\n",
    "import scipy.stats as stats\n",
    "import statsmodels.formula.api as smf # 回归分析\n",
    "from scipy.stats import chi2_contingency #卡方检验\n",
    "import pingouin as pg\n",
    "# 其它\n",
    "import warnings\n",
    "warnings.filterwarnings('ignore') #忽视警告\n"
   ]
  },
  {
   "cell_type": "code",
   "execution_count": 32,
   "metadata": {},
   "outputs": [],
   "source": [
    "# 读取数据\n",
    "df = pd.read_excel(\"D:\\\\work\\github\\\\survey_and_stats\\\\survey\\\\data\\\\inm.xlsx\")"
   ]
  },
  {
   "cell_type": "markdown",
   "metadata": {},
   "source": [
    "# 数据清洗"
   ]
  },
  {
   "cell_type": "code",
   "execution_count": 33,
   "metadata": {},
   "outputs": [],
   "source": [
    "# 定义函数方法:将数字和数字和代表含义一一映射\n",
    "\n",
    "# high_school_major变量：1为文科，2为理科\n",
    "def high_school_major(series):\n",
    "    if series == 1:\n",
    "        return '文科'\n",
    "    else:\n",
    "        return '理科'\n",
    "\n",
    "# gender变量：1为男性，2为女性\n",
    "def gender(series):\n",
    "    if series == 1:\n",
    "        return '男性'\n",
    "    else:\n",
    "        return '女性'\n",
    "# hukou变量：1为城镇，2为非城镇\n",
    "def hukou(series):\n",
    "    if series == 1:\n",
    "        return '城镇'\n",
    "    else:\n",
    "        return '非城镇'\n",
    "# location变量：1为广东地区，2为珠三角地区，3为粤东，4为粤西，5为粤北\n",
    "def location (series):\n",
    "    if series == 1:\n",
    "        return \"非广东地区\"\n",
    "    elif series == 2:\n",
    "        return \"珠三角地区\"\n",
    "    elif series == 3:\n",
    "        return \"粤东\"\n",
    "    elif series == 4:\n",
    "        return \"粤西\"\n",
    "    else:\n",
    "        return \"粤北\"\n",
    "# like变量：1为喜欢，0为不喜欢\n",
    "def like(series):\n",
    "    if series == 1:\n",
    "        return '喜欢'\n",
    "    else:\n",
    "        return '不喜欢'\n",
    "# impr变量：1为有提升空间，0为挺好的\n",
    "def impr(series):\n",
    "    if series == 1:\n",
    "        return '有提升空间'\n",
    "    else:\n",
    "        return '挺好的'\n"
   ]
  },
  {
   "cell_type": "code",
   "execution_count": 34,
   "metadata": {},
   "outputs": [],
   "source": [
    "# 将high_school_major，gender,hukou,location变量转为“类别型变量”\n",
    "df.high_school_major = df.high_school_major.apply(high_school_major).astype('category')\n",
    "df.gender = df.gender.apply(gender).astype('category')\n",
    "df.hukou = df.hukou.apply(hukou).astype('category')\n",
    "df.location = df.location.apply(location).astype('category')"
   ]
  },
  {
   "cell_type": "code",
   "execution_count": 35,
   "metadata": {},
   "outputs": [
    {
     "name": "stdout",
     "output_type": "stream",
     "text": [
      "0 method\n",
      "1 l_code\n",
      "2 l_design\n",
      "3 l_operation\n",
      "4 l_production\n",
      "5 l_copywriter\n",
      "6 l_market\n",
      "7 l_other\n",
      "8 l_non\n",
      "9 maj_work\n",
      "10 maj_dir\n",
      "11 cap_code\n",
      "12 cap_design\n",
      "13 cap_operation\n",
      "14 cap_production\n",
      "15 cap_copywriter\n",
      "16 cap_market\n",
      "17 ranking\n",
      "18 effort_read\n",
      "19 effort_info\n",
      "20 effort_res\n",
      "21 effort_project\n",
      "22 effort_overall\n",
      "23 sati_code\n",
      "24 sati_design\n",
      "25 sati_operation\n",
      "26 sati_production\n",
      "27 sati_copywriter\n",
      "28 sati_market\n",
      "29 sati_other\n",
      "30 impr_code\n",
      "31 impr_design\n",
      "32 impr_operation\n",
      "33 impr_production\n",
      "34 impr_copywriter\n",
      "35 impr_market\n",
      "36 impr_other\n",
      "37 sati_overall\n",
      "38 grade\n",
      "39 gender\n",
      "40 spending\n",
      "41 high_school_major\n",
      "42 location\n",
      "43 hukou\n"
     ]
    }
   ],
   "source": [
    "# 看一下每一个变量对应的是第几个变量（变量名前的数字为其顺序）\n",
    "for i in range(len(df.columns)):\n",
    "    print(i,df.columns[i])"
   ]
  },
  {
   "cell_type": "code",
   "execution_count": 36,
   "metadata": {},
   "outputs": [],
   "source": [
    "# 将以“l_”开头的变量（第1~9列的变量）转为“类别型变量”\n",
    "for i in range(1,9):\n",
    "    df.iloc[:,i] = df.iloc[:,i].apply(like).astype('category')"
   ]
  },
  {
   "cell_type": "code",
   "execution_count": 37,
   "metadata": {},
   "outputs": [
    {
     "data": {
      "text/html": [
       "<div>\n",
       "<style scoped>\n",
       "    .dataframe tbody tr th:only-of-type {\n",
       "        vertical-align: middle;\n",
       "    }\n",
       "\n",
       "    .dataframe tbody tr th {\n",
       "        vertical-align: top;\n",
       "    }\n",
       "\n",
       "    .dataframe thead th {\n",
       "        text-align: right;\n",
       "    }\n",
       "</style>\n",
       "<table border=\"1\" class=\"dataframe\">\n",
       "  <thead>\n",
       "    <tr style=\"text-align: right;\">\n",
       "      <th></th>\n",
       "      <th>l_code</th>\n",
       "      <th>l_design</th>\n",
       "      <th>l_operation</th>\n",
       "      <th>l_production</th>\n",
       "      <th>l_copywriter</th>\n",
       "      <th>l_market</th>\n",
       "      <th>l_other</th>\n",
       "      <th>l_non</th>\n",
       "    </tr>\n",
       "  </thead>\n",
       "  <tbody>\n",
       "    <tr>\n",
       "      <th>0</th>\n",
       "      <td>不喜欢</td>\n",
       "      <td>喜欢</td>\n",
       "      <td>喜欢</td>\n",
       "      <td>喜欢</td>\n",
       "      <td>喜欢</td>\n",
       "      <td>不喜欢</td>\n",
       "      <td>不喜欢</td>\n",
       "      <td>不喜欢</td>\n",
       "    </tr>\n",
       "    <tr>\n",
       "      <th>1</th>\n",
       "      <td>喜欢</td>\n",
       "      <td>不喜欢</td>\n",
       "      <td>喜欢</td>\n",
       "      <td>喜欢</td>\n",
       "      <td>不喜欢</td>\n",
       "      <td>不喜欢</td>\n",
       "      <td>不喜欢</td>\n",
       "      <td>不喜欢</td>\n",
       "    </tr>\n",
       "    <tr>\n",
       "      <th>2</th>\n",
       "      <td>不喜欢</td>\n",
       "      <td>喜欢</td>\n",
       "      <td>喜欢</td>\n",
       "      <td>喜欢</td>\n",
       "      <td>喜欢</td>\n",
       "      <td>不喜欢</td>\n",
       "      <td>不喜欢</td>\n",
       "      <td>不喜欢</td>\n",
       "    </tr>\n",
       "    <tr>\n",
       "      <th>3</th>\n",
       "      <td>不喜欢</td>\n",
       "      <td>不喜欢</td>\n",
       "      <td>喜欢</td>\n",
       "      <td>喜欢</td>\n",
       "      <td>喜欢</td>\n",
       "      <td>不喜欢</td>\n",
       "      <td>不喜欢</td>\n",
       "      <td>不喜欢</td>\n",
       "    </tr>\n",
       "    <tr>\n",
       "      <th>4</th>\n",
       "      <td>不喜欢</td>\n",
       "      <td>喜欢</td>\n",
       "      <td>不喜欢</td>\n",
       "      <td>不喜欢</td>\n",
       "      <td>不喜欢</td>\n",
       "      <td>不喜欢</td>\n",
       "      <td>不喜欢</td>\n",
       "      <td>不喜欢</td>\n",
       "    </tr>\n",
       "    <tr>\n",
       "      <th>...</th>\n",
       "      <td>...</td>\n",
       "      <td>...</td>\n",
       "      <td>...</td>\n",
       "      <td>...</td>\n",
       "      <td>...</td>\n",
       "      <td>...</td>\n",
       "      <td>...</td>\n",
       "      <td>...</td>\n",
       "    </tr>\n",
       "    <tr>\n",
       "      <th>75</th>\n",
       "      <td>喜欢</td>\n",
       "      <td>不喜欢</td>\n",
       "      <td>不喜欢</td>\n",
       "      <td>喜欢</td>\n",
       "      <td>不喜欢</td>\n",
       "      <td>不喜欢</td>\n",
       "      <td>不喜欢</td>\n",
       "      <td>不喜欢</td>\n",
       "    </tr>\n",
       "    <tr>\n",
       "      <th>76</th>\n",
       "      <td>不喜欢</td>\n",
       "      <td>不喜欢</td>\n",
       "      <td>喜欢</td>\n",
       "      <td>喜欢</td>\n",
       "      <td>不喜欢</td>\n",
       "      <td>不喜欢</td>\n",
       "      <td>不喜欢</td>\n",
       "      <td>不喜欢</td>\n",
       "    </tr>\n",
       "    <tr>\n",
       "      <th>77</th>\n",
       "      <td>喜欢</td>\n",
       "      <td>喜欢</td>\n",
       "      <td>喜欢</td>\n",
       "      <td>喜欢</td>\n",
       "      <td>不喜欢</td>\n",
       "      <td>不喜欢</td>\n",
       "      <td>不喜欢</td>\n",
       "      <td>不喜欢</td>\n",
       "    </tr>\n",
       "    <tr>\n",
       "      <th>78</th>\n",
       "      <td>不喜欢</td>\n",
       "      <td>喜欢</td>\n",
       "      <td>喜欢</td>\n",
       "      <td>喜欢</td>\n",
       "      <td>喜欢</td>\n",
       "      <td>喜欢</td>\n",
       "      <td>不喜欢</td>\n",
       "      <td>不喜欢</td>\n",
       "    </tr>\n",
       "    <tr>\n",
       "      <th>79</th>\n",
       "      <td>不喜欢</td>\n",
       "      <td>喜欢</td>\n",
       "      <td>喜欢</td>\n",
       "      <td>喜欢</td>\n",
       "      <td>喜欢</td>\n",
       "      <td>喜欢</td>\n",
       "      <td>不喜欢</td>\n",
       "      <td>不喜欢</td>\n",
       "    </tr>\n",
       "  </tbody>\n",
       "</table>\n",
       "<p>80 rows × 8 columns</p>\n",
       "</div>"
      ],
      "text/plain": [
       "   l_code l_design l_operation l_production l_copywriter l_market l_other  \\\n",
       "0     不喜欢       喜欢          喜欢           喜欢           喜欢      不喜欢     不喜欢   \n",
       "1      喜欢      不喜欢          喜欢           喜欢          不喜欢      不喜欢     不喜欢   \n",
       "2     不喜欢       喜欢          喜欢           喜欢           喜欢      不喜欢     不喜欢   \n",
       "3     不喜欢      不喜欢          喜欢           喜欢           喜欢      不喜欢     不喜欢   \n",
       "4     不喜欢       喜欢         不喜欢          不喜欢          不喜欢      不喜欢     不喜欢   \n",
       "..    ...      ...         ...          ...          ...      ...     ...   \n",
       "75     喜欢      不喜欢         不喜欢           喜欢          不喜欢      不喜欢     不喜欢   \n",
       "76    不喜欢      不喜欢          喜欢           喜欢          不喜欢      不喜欢     不喜欢   \n",
       "77     喜欢       喜欢          喜欢           喜欢          不喜欢      不喜欢     不喜欢   \n",
       "78    不喜欢       喜欢          喜欢           喜欢           喜欢       喜欢     不喜欢   \n",
       "79    不喜欢       喜欢          喜欢           喜欢           喜欢       喜欢     不喜欢   \n",
       "\n",
       "   l_non  \n",
       "0    不喜欢  \n",
       "1    不喜欢  \n",
       "2    不喜欢  \n",
       "3    不喜欢  \n",
       "4    不喜欢  \n",
       "..   ...  \n",
       "75   不喜欢  \n",
       "76   不喜欢  \n",
       "77   不喜欢  \n",
       "78   不喜欢  \n",
       "79   不喜欢  \n",
       "\n",
       "[80 rows x 8 columns]"
      ]
     },
     "execution_count": 37,
     "metadata": {},
     "output_type": "execute_result"
    }
   ],
   "source": [
    "# 检查一下结果\n",
    "df.filter(regex = \"^l_.*\")"
   ]
  },
  {
   "cell_type": "code",
   "execution_count": 38,
   "metadata": {},
   "outputs": [],
   "source": [
    "# 将以“impr_”开头的变量（第30~37列的变量）转成“类别型变量”\n",
    "for i in range(30,37):\n",
    "    df.iloc[:,i] = df.iloc[:,i].apply(impr).astype('category')"
   ]
  },
  {
   "cell_type": "code",
   "execution_count": 39,
   "metadata": {},
   "outputs": [
    {
     "data": {
      "text/html": [
       "<div>\n",
       "<style scoped>\n",
       "    .dataframe tbody tr th:only-of-type {\n",
       "        vertical-align: middle;\n",
       "    }\n",
       "\n",
       "    .dataframe tbody tr th {\n",
       "        vertical-align: top;\n",
       "    }\n",
       "\n",
       "    .dataframe thead th {\n",
       "        text-align: right;\n",
       "    }\n",
       "</style>\n",
       "<table border=\"1\" class=\"dataframe\">\n",
       "  <thead>\n",
       "    <tr style=\"text-align: right;\">\n",
       "      <th></th>\n",
       "      <th>impr_code</th>\n",
       "      <th>impr_design</th>\n",
       "      <th>impr_operation</th>\n",
       "      <th>impr_production</th>\n",
       "      <th>impr_copywriter</th>\n",
       "      <th>impr_market</th>\n",
       "      <th>impr_other</th>\n",
       "    </tr>\n",
       "  </thead>\n",
       "  <tbody>\n",
       "    <tr>\n",
       "      <th>0</th>\n",
       "      <td>挺好的</td>\n",
       "      <td>有提升空间</td>\n",
       "      <td>有提升空间</td>\n",
       "      <td>有提升空间</td>\n",
       "      <td>有提升空间</td>\n",
       "      <td>有提升空间</td>\n",
       "      <td>挺好的</td>\n",
       "    </tr>\n",
       "    <tr>\n",
       "      <th>1</th>\n",
       "      <td>有提升空间</td>\n",
       "      <td>有提升空间</td>\n",
       "      <td>挺好的</td>\n",
       "      <td>挺好的</td>\n",
       "      <td>有提升空间</td>\n",
       "      <td>有提升空间</td>\n",
       "      <td>挺好的</td>\n",
       "    </tr>\n",
       "    <tr>\n",
       "      <th>2</th>\n",
       "      <td>挺好的</td>\n",
       "      <td>有提升空间</td>\n",
       "      <td>有提升空间</td>\n",
       "      <td>有提升空间</td>\n",
       "      <td>有提升空间</td>\n",
       "      <td>挺好的</td>\n",
       "      <td>挺好的</td>\n",
       "    </tr>\n",
       "    <tr>\n",
       "      <th>3</th>\n",
       "      <td>挺好的</td>\n",
       "      <td>挺好的</td>\n",
       "      <td>有提升空间</td>\n",
       "      <td>有提升空间</td>\n",
       "      <td>有提升空间</td>\n",
       "      <td>挺好的</td>\n",
       "      <td>挺好的</td>\n",
       "    </tr>\n",
       "    <tr>\n",
       "      <th>4</th>\n",
       "      <td>挺好的</td>\n",
       "      <td>有提升空间</td>\n",
       "      <td>挺好的</td>\n",
       "      <td>挺好的</td>\n",
       "      <td>有提升空间</td>\n",
       "      <td>挺好的</td>\n",
       "      <td>挺好的</td>\n",
       "    </tr>\n",
       "    <tr>\n",
       "      <th>...</th>\n",
       "      <td>...</td>\n",
       "      <td>...</td>\n",
       "      <td>...</td>\n",
       "      <td>...</td>\n",
       "      <td>...</td>\n",
       "      <td>...</td>\n",
       "      <td>...</td>\n",
       "    </tr>\n",
       "    <tr>\n",
       "      <th>75</th>\n",
       "      <td>有提升空间</td>\n",
       "      <td>挺好的</td>\n",
       "      <td>挺好的</td>\n",
       "      <td>有提升空间</td>\n",
       "      <td>挺好的</td>\n",
       "      <td>有提升空间</td>\n",
       "      <td>挺好的</td>\n",
       "    </tr>\n",
       "    <tr>\n",
       "      <th>76</th>\n",
       "      <td>挺好的</td>\n",
       "      <td>有提升空间</td>\n",
       "      <td>有提升空间</td>\n",
       "      <td>挺好的</td>\n",
       "      <td>挺好的</td>\n",
       "      <td>有提升空间</td>\n",
       "      <td>挺好的</td>\n",
       "    </tr>\n",
       "    <tr>\n",
       "      <th>77</th>\n",
       "      <td>有提升空间</td>\n",
       "      <td>挺好的</td>\n",
       "      <td>有提升空间</td>\n",
       "      <td>有提升空间</td>\n",
       "      <td>挺好的</td>\n",
       "      <td>有提升空间</td>\n",
       "      <td>挺好的</td>\n",
       "    </tr>\n",
       "    <tr>\n",
       "      <th>78</th>\n",
       "      <td>挺好的</td>\n",
       "      <td>有提升空间</td>\n",
       "      <td>挺好的</td>\n",
       "      <td>挺好的</td>\n",
       "      <td>挺好的</td>\n",
       "      <td>有提升空间</td>\n",
       "      <td>挺好的</td>\n",
       "    </tr>\n",
       "    <tr>\n",
       "      <th>79</th>\n",
       "      <td>有提升空间</td>\n",
       "      <td>挺好的</td>\n",
       "      <td>有提升空间</td>\n",
       "      <td>有提升空间</td>\n",
       "      <td>挺好的</td>\n",
       "      <td>有提升空间</td>\n",
       "      <td>挺好的</td>\n",
       "    </tr>\n",
       "  </tbody>\n",
       "</table>\n",
       "<p>80 rows × 7 columns</p>\n",
       "</div>"
      ],
      "text/plain": [
       "   impr_code impr_design impr_operation impr_production impr_copywriter  \\\n",
       "0        挺好的       有提升空间          有提升空间           有提升空间           有提升空间   \n",
       "1      有提升空间       有提升空间            挺好的             挺好的           有提升空间   \n",
       "2        挺好的       有提升空间          有提升空间           有提升空间           有提升空间   \n",
       "3        挺好的         挺好的          有提升空间           有提升空间           有提升空间   \n",
       "4        挺好的       有提升空间            挺好的             挺好的           有提升空间   \n",
       "..       ...         ...            ...             ...             ...   \n",
       "75     有提升空间         挺好的            挺好的           有提升空间             挺好的   \n",
       "76       挺好的       有提升空间          有提升空间             挺好的             挺好的   \n",
       "77     有提升空间         挺好的          有提升空间           有提升空间             挺好的   \n",
       "78       挺好的       有提升空间            挺好的             挺好的             挺好的   \n",
       "79     有提升空间         挺好的          有提升空间           有提升空间             挺好的   \n",
       "\n",
       "   impr_market impr_other  \n",
       "0        有提升空间        挺好的  \n",
       "1        有提升空间        挺好的  \n",
       "2          挺好的        挺好的  \n",
       "3          挺好的        挺好的  \n",
       "4          挺好的        挺好的  \n",
       "..         ...        ...  \n",
       "75       有提升空间        挺好的  \n",
       "76       有提升空间        挺好的  \n",
       "77       有提升空间        挺好的  \n",
       "78       有提升空间        挺好的  \n",
       "79       有提升空间        挺好的  \n",
       "\n",
       "[80 rows x 7 columns]"
      ]
     },
     "execution_count": 39,
     "metadata": {},
     "output_type": "execute_result"
    }
   ],
   "source": [
    "# 检查一下结果\n",
    "df.filter(regex = \"^impr_.*\")"
   ]
  },
  {
   "cell_type": "markdown",
   "metadata": {},
   "source": [
    "# 数据分析"
   ]
  },
  {
   "cell_type": "markdown",
   "metadata": {},
   "source": [
    "## ✨探索数据（描述性统计）"
   ]
  },
  {
   "cell_type": "code",
   "execution_count": 40,
   "metadata": {},
   "outputs": [
    {
     "data": {
      "text/html": [
       "<div>\n",
       "<style scoped>\n",
       "    .dataframe tbody tr th:only-of-type {\n",
       "        vertical-align: middle;\n",
       "    }\n",
       "\n",
       "    .dataframe tbody tr th {\n",
       "        vertical-align: top;\n",
       "    }\n",
       "\n",
       "    .dataframe thead th {\n",
       "        text-align: right;\n",
       "    }\n",
       "</style>\n",
       "<table border=\"1\" class=\"dataframe\">\n",
       "  <thead>\n",
       "    <tr style=\"text-align: right;\">\n",
       "      <th></th>\n",
       "      <th>method</th>\n",
       "      <th>maj_work</th>\n",
       "      <th>maj_dir</th>\n",
       "      <th>cap_code</th>\n",
       "      <th>cap_design</th>\n",
       "      <th>cap_operation</th>\n",
       "      <th>cap_production</th>\n",
       "      <th>cap_copywriter</th>\n",
       "      <th>cap_market</th>\n",
       "      <th>ranking</th>\n",
       "      <th>...</th>\n",
       "      <th>sati_code</th>\n",
       "      <th>sati_design</th>\n",
       "      <th>sati_operation</th>\n",
       "      <th>sati_production</th>\n",
       "      <th>sati_copywriter</th>\n",
       "      <th>sati_market</th>\n",
       "      <th>sati_other</th>\n",
       "      <th>sati_overall</th>\n",
       "      <th>grade</th>\n",
       "      <th>spending</th>\n",
       "    </tr>\n",
       "  </thead>\n",
       "  <tbody>\n",
       "    <tr>\n",
       "      <th>count</th>\n",
       "      <td>80.00000</td>\n",
       "      <td>80.000000</td>\n",
       "      <td>80.000000</td>\n",
       "      <td>80.000000</td>\n",
       "      <td>80.000000</td>\n",
       "      <td>80.000000</td>\n",
       "      <td>80.000000</td>\n",
       "      <td>80.000000</td>\n",
       "      <td>80.000000</td>\n",
       "      <td>80.000000</td>\n",
       "      <td>...</td>\n",
       "      <td>80.000000</td>\n",
       "      <td>80.000000</td>\n",
       "      <td>80.000000</td>\n",
       "      <td>80.000000</td>\n",
       "      <td>80.000000</td>\n",
       "      <td>80.000000</td>\n",
       "      <td>80.000000</td>\n",
       "      <td>80.000000</td>\n",
       "      <td>80.000000</td>\n",
       "      <td>80.000000</td>\n",
       "    </tr>\n",
       "    <tr>\n",
       "      <th>mean</th>\n",
       "      <td>1.47500</td>\n",
       "      <td>3.300000</td>\n",
       "      <td>2.900000</td>\n",
       "      <td>2.000000</td>\n",
       "      <td>3.300000</td>\n",
       "      <td>3.312500</td>\n",
       "      <td>3.287500</td>\n",
       "      <td>3.300000</td>\n",
       "      <td>3.100000</td>\n",
       "      <td>3.250000</td>\n",
       "      <td>...</td>\n",
       "      <td>2.900000</td>\n",
       "      <td>3.487500</td>\n",
       "      <td>3.462500</td>\n",
       "      <td>3.662500</td>\n",
       "      <td>3.575000</td>\n",
       "      <td>3.275000</td>\n",
       "      <td>3.275000</td>\n",
       "      <td>3.412500</td>\n",
       "      <td>3.000000</td>\n",
       "      <td>3.350000</td>\n",
       "    </tr>\n",
       "    <tr>\n",
       "      <th>std</th>\n",
       "      <td>1.04306</td>\n",
       "      <td>0.919549</td>\n",
       "      <td>1.120579</td>\n",
       "      <td>0.856841</td>\n",
       "      <td>0.769679</td>\n",
       "      <td>0.704304</td>\n",
       "      <td>0.766279</td>\n",
       "      <td>0.624398</td>\n",
       "      <td>0.704416</td>\n",
       "      <td>0.849423</td>\n",
       "      <td>...</td>\n",
       "      <td>0.962591</td>\n",
       "      <td>0.693437</td>\n",
       "      <td>0.810434</td>\n",
       "      <td>0.825906</td>\n",
       "      <td>0.689432</td>\n",
       "      <td>0.655551</td>\n",
       "      <td>0.635948</td>\n",
       "      <td>0.923583</td>\n",
       "      <td>0.159111</td>\n",
       "      <td>0.982119</td>\n",
       "    </tr>\n",
       "    <tr>\n",
       "      <th>min</th>\n",
       "      <td>1.00000</td>\n",
       "      <td>1.000000</td>\n",
       "      <td>1.000000</td>\n",
       "      <td>1.000000</td>\n",
       "      <td>1.000000</td>\n",
       "      <td>1.000000</td>\n",
       "      <td>1.000000</td>\n",
       "      <td>2.000000</td>\n",
       "      <td>1.000000</td>\n",
       "      <td>1.000000</td>\n",
       "      <td>...</td>\n",
       "      <td>1.000000</td>\n",
       "      <td>1.000000</td>\n",
       "      <td>1.000000</td>\n",
       "      <td>1.000000</td>\n",
       "      <td>1.000000</td>\n",
       "      <td>1.000000</td>\n",
       "      <td>1.000000</td>\n",
       "      <td>1.000000</td>\n",
       "      <td>2.000000</td>\n",
       "      <td>1.000000</td>\n",
       "    </tr>\n",
       "    <tr>\n",
       "      <th>25%</th>\n",
       "      <td>1.00000</td>\n",
       "      <td>3.000000</td>\n",
       "      <td>2.000000</td>\n",
       "      <td>1.000000</td>\n",
       "      <td>3.000000</td>\n",
       "      <td>3.000000</td>\n",
       "      <td>3.000000</td>\n",
       "      <td>3.000000</td>\n",
       "      <td>3.000000</td>\n",
       "      <td>3.000000</td>\n",
       "      <td>...</td>\n",
       "      <td>3.000000</td>\n",
       "      <td>3.000000</td>\n",
       "      <td>3.000000</td>\n",
       "      <td>3.000000</td>\n",
       "      <td>3.000000</td>\n",
       "      <td>3.000000</td>\n",
       "      <td>3.000000</td>\n",
       "      <td>3.000000</td>\n",
       "      <td>3.000000</td>\n",
       "      <td>3.000000</td>\n",
       "    </tr>\n",
       "    <tr>\n",
       "      <th>50%</th>\n",
       "      <td>1.00000</td>\n",
       "      <td>4.000000</td>\n",
       "      <td>3.000000</td>\n",
       "      <td>2.000000</td>\n",
       "      <td>3.000000</td>\n",
       "      <td>3.000000</td>\n",
       "      <td>3.000000</td>\n",
       "      <td>3.000000</td>\n",
       "      <td>3.000000</td>\n",
       "      <td>3.000000</td>\n",
       "      <td>...</td>\n",
       "      <td>3.000000</td>\n",
       "      <td>4.000000</td>\n",
       "      <td>4.000000</td>\n",
       "      <td>4.000000</td>\n",
       "      <td>4.000000</td>\n",
       "      <td>3.000000</td>\n",
       "      <td>3.000000</td>\n",
       "      <td>4.000000</td>\n",
       "      <td>3.000000</td>\n",
       "      <td>3.000000</td>\n",
       "    </tr>\n",
       "    <tr>\n",
       "      <th>75%</th>\n",
       "      <td>1.00000</td>\n",
       "      <td>4.000000</td>\n",
       "      <td>4.000000</td>\n",
       "      <td>2.000000</td>\n",
       "      <td>4.000000</td>\n",
       "      <td>4.000000</td>\n",
       "      <td>4.000000</td>\n",
       "      <td>4.000000</td>\n",
       "      <td>3.000000</td>\n",
       "      <td>4.000000</td>\n",
       "      <td>...</td>\n",
       "      <td>3.000000</td>\n",
       "      <td>4.000000</td>\n",
       "      <td>4.000000</td>\n",
       "      <td>4.000000</td>\n",
       "      <td>4.000000</td>\n",
       "      <td>4.000000</td>\n",
       "      <td>4.000000</td>\n",
       "      <td>4.000000</td>\n",
       "      <td>3.000000</td>\n",
       "      <td>4.000000</td>\n",
       "    </tr>\n",
       "    <tr>\n",
       "      <th>max</th>\n",
       "      <td>4.00000</td>\n",
       "      <td>5.000000</td>\n",
       "      <td>5.000000</td>\n",
       "      <td>4.000000</td>\n",
       "      <td>5.000000</td>\n",
       "      <td>5.000000</td>\n",
       "      <td>5.000000</td>\n",
       "      <td>5.000000</td>\n",
       "      <td>5.000000</td>\n",
       "      <td>5.000000</td>\n",
       "      <td>...</td>\n",
       "      <td>5.000000</td>\n",
       "      <td>5.000000</td>\n",
       "      <td>5.000000</td>\n",
       "      <td>5.000000</td>\n",
       "      <td>5.000000</td>\n",
       "      <td>5.000000</td>\n",
       "      <td>5.000000</td>\n",
       "      <td>5.000000</td>\n",
       "      <td>4.000000</td>\n",
       "      <td>6.000000</td>\n",
       "    </tr>\n",
       "  </tbody>\n",
       "</table>\n",
       "<p>8 rows × 25 columns</p>\n",
       "</div>"
      ],
      "text/plain": [
       "         method   maj_work    maj_dir   cap_code  cap_design  cap_operation  \\\n",
       "count  80.00000  80.000000  80.000000  80.000000   80.000000      80.000000   \n",
       "mean    1.47500   3.300000   2.900000   2.000000    3.300000       3.312500   \n",
       "std     1.04306   0.919549   1.120579   0.856841    0.769679       0.704304   \n",
       "min     1.00000   1.000000   1.000000   1.000000    1.000000       1.000000   \n",
       "25%     1.00000   3.000000   2.000000   1.000000    3.000000       3.000000   \n",
       "50%     1.00000   4.000000   3.000000   2.000000    3.000000       3.000000   \n",
       "75%     1.00000   4.000000   4.000000   2.000000    4.000000       4.000000   \n",
       "max     4.00000   5.000000   5.000000   4.000000    5.000000       5.000000   \n",
       "\n",
       "       cap_production  cap_copywriter  cap_market    ranking  ...  sati_code  \\\n",
       "count       80.000000       80.000000   80.000000  80.000000  ...  80.000000   \n",
       "mean         3.287500        3.300000    3.100000   3.250000  ...   2.900000   \n",
       "std          0.766279        0.624398    0.704416   0.849423  ...   0.962591   \n",
       "min          1.000000        2.000000    1.000000   1.000000  ...   1.000000   \n",
       "25%          3.000000        3.000000    3.000000   3.000000  ...   3.000000   \n",
       "50%          3.000000        3.000000    3.000000   3.000000  ...   3.000000   \n",
       "75%          4.000000        4.000000    3.000000   4.000000  ...   3.000000   \n",
       "max          5.000000        5.000000    5.000000   5.000000  ...   5.000000   \n",
       "\n",
       "       sati_design  sati_operation  sati_production  sati_copywriter  \\\n",
       "count    80.000000       80.000000        80.000000        80.000000   \n",
       "mean      3.487500        3.462500         3.662500         3.575000   \n",
       "std       0.693437        0.810434         0.825906         0.689432   \n",
       "min       1.000000        1.000000         1.000000         1.000000   \n",
       "25%       3.000000        3.000000         3.000000         3.000000   \n",
       "50%       4.000000        4.000000         4.000000         4.000000   \n",
       "75%       4.000000        4.000000         4.000000         4.000000   \n",
       "max       5.000000        5.000000         5.000000         5.000000   \n",
       "\n",
       "       sati_market  sati_other  sati_overall      grade   spending  \n",
       "count    80.000000   80.000000     80.000000  80.000000  80.000000  \n",
       "mean      3.275000    3.275000      3.412500   3.000000   3.350000  \n",
       "std       0.655551    0.635948      0.923583   0.159111   0.982119  \n",
       "min       1.000000    1.000000      1.000000   2.000000   1.000000  \n",
       "25%       3.000000    3.000000      3.000000   3.000000   3.000000  \n",
       "50%       3.000000    3.000000      4.000000   3.000000   3.000000  \n",
       "75%       4.000000    4.000000      4.000000   3.000000   4.000000  \n",
       "max       5.000000    5.000000      5.000000   4.000000   6.000000  \n",
       "\n",
       "[8 rows x 25 columns]"
      ]
     },
     "execution_count": 40,
     "metadata": {},
     "output_type": "execute_result"
    }
   ],
   "source": [
    "# 返回所有变量的描述性统计结果（注意——这里的描述性统计结果仅适用于“数值型变量”）\n",
    "df.describe()"
   ]
  },
  {
   "cell_type": "code",
   "execution_count": 41,
   "metadata": {},
   "outputs": [
    {
     "data": {
      "text/plain": [
       "count    80.000000\n",
       "mean      3.175000\n",
       "std       0.707554\n",
       "min       1.000000\n",
       "25%       3.000000\n",
       "50%       3.000000\n",
       "75%       4.000000\n",
       "max       5.000000\n",
       "Name: effort_overall, dtype: float64"
      ]
     },
     "execution_count": 41,
     "metadata": {},
     "output_type": "execute_result"
    }
   ],
   "source": [
    "# 返回单个变量的描述性统计结果\n",
    "df[\"effort_overall\"].describe()\n"
   ]
  },
  {
   "cell_type": "code",
   "execution_count": 42,
   "metadata": {},
   "outputs": [
    {
     "data": {
      "text/plain": [
       "<AxesSubplot:xlabel='effort_overall', ylabel='count'>"
      ]
     },
     "execution_count": 42,
     "metadata": {},
     "output_type": "execute_result"
    },
    {
     "data": {
      "image/png": "[encoded data removed]",
      "text/plain": [
       "<Figure size 432x288 with 1 Axes>"
      ]
     },
     "metadata": {},
     "output_type": "display_data"
    }
   ],
   "source": [
    "# 直方图\n",
    "sns.countplot(x = \"effort_overall\", data = df)"
   ]
  },
  {
   "cell_type": "code",
   "execution_count": 43,
   "metadata": {},
   "outputs": [
    {
     "data": {
      "text/plain": [
       "女性    64\n",
       "男性    16\n",
       "Name: gender, dtype: int64"
      ]
     },
     "execution_count": 43,
     "metadata": {},
     "output_type": "execute_result"
    }
   ],
   "source": [
    "# 类别型变量的描述性统计结果\n",
    "df.gender.value_counts()\n"
   ]
  },
  {
   "cell_type": "code",
   "execution_count": 44,
   "metadata": {},
   "outputs": [
    {
     "data": {
      "text/plain": [
       "<AxesSubplot:xlabel='gender', ylabel='count'>"
      ]
     },
     "execution_count": 44,
     "metadata": {},
     "output_type": "execute_result"
    },
    {
     "data": {
      "image/png": "[encoded data removed]",
      "text/plain": [
       "<Figure size 432x288 with 1 Axes>"
      ]
     },
     "metadata": {},
     "output_type": "display_data"
    }
   ],
   "source": [
    "# 条形图\n",
    "sns.countplot(x=\"gender\", data=df)"
   ]
  },
  {
   "cell_type": "code",
   "execution_count": 77,
   "metadata": {},
   "outputs": [
    {
     "data": {
      "text/plain": [
       "珠三角地区    40\n",
       "粤东       17\n",
       "粤西       10\n",
       "非广东地区     7\n",
       "粤北        6\n",
       "Name: location, dtype: int64"
      ]
     },
     "execution_count": 77,
     "metadata": {},
     "output_type": "execute_result"
    }
   ],
   "source": [
    "# 饼状图\n",
    "table_location = df.location.value_counts()#将生源地变量整理成表格\n",
    "table_location\n"
   ]
  },
  {
   "cell_type": "code",
   "execution_count": 76,
   "metadata": {},
   "outputs": [
    {
     "data": {
      "text/plain": [
       "<AxesSubplot:ylabel='location'>"
      ]
     },
     "execution_count": 76,
     "metadata": {},
     "output_type": "execute_result"
    },
    {
     "data": {
      "image/png": "[encoded data removed]",
      "text/plain": [
       "<Figure size 432x288 with 1 Axes>"
      ]
     },
     "metadata": {},
     "output_type": "display_data"
    }
   ],
   "source": [
    "colors = sns.color_palette('pastel')[0:5] #使用seaborn的调色板\n",
    "\n",
    "table_location.plot.pie(colors = colors)#用matplotlib画图"
   ]
  },
  {
   "cell_type": "markdown",
   "metadata": {},
   "source": [
    "## 🎉推断性统计"
   ]
  },
  {
   "cell_type": "markdown",
   "metadata": {},
   "source": [
    "### 1、独立样本t检验"
   ]
  },
  {
   "cell_type": "markdown",
   "metadata": {},
   "source": [
    "比较“城镇户口”和“非城镇户口”的同学学习成绩是否有差异【分析“huku”（“户口类型”）和“ranking”（“学习成绩”）的关系】"
   ]
  },
  {
   "cell_type": "code",
   "execution_count": 46,
   "metadata": {},
   "outputs": [
    {
     "data": {
      "text/plain": [
       "hukou\n",
       "城镇     3.40\n",
       "非城镇    2.92\n",
       "Name: ranking, dtype: float64"
      ]
     },
     "execution_count": 46,
     "metadata": {},
     "output_type": "execute_result"
    }
   ],
   "source": [
    "# “城镇户口”和“非城镇户口”的同学学习成绩描述\n",
    "df.groupby('hukou').ranking.mean()"
   ]
  },
  {
   "cell_type": "code",
   "execution_count": 47,
   "metadata": {},
   "outputs": [
    {
     "data": {
      "text/plain": [
       "Ttest_indResult(statistic=2.413198999619531, pvalue=0.018159322230973312)"
      ]
     },
     "execution_count": 47,
     "metadata": {},
     "output_type": "execute_result"
    }
   ],
   "source": [
    "# 独立样本t检验结果（检验统计量t值，p值）\n",
    "stats.ttest_ind(df['ranking'][df['hukou'] == \"城镇\"],\n",
    "               df['ranking'][df['hukou'] == \"非城镇\"])   "
   ]
  },
  {
   "cell_type": "code",
   "execution_count": 48,
   "metadata": {},
   "outputs": [
    {
     "data": {
      "text/plain": [
       "<AxesSubplot:xlabel='hukou', ylabel='ranking'>"
      ]
     },
     "execution_count": 48,
     "metadata": {},
     "output_type": "execute_result"
    },
    {
     "data": {
      "image/png": "[encoded data removed]",
      "text/plain": [
       "<Figure size 432x288 with 1 Axes>"
      ]
     },
     "metadata": {},
     "output_type": "display_data"
    }
   ],
   "source": [
    "## 独立样本t检验结果可视化\n",
    "sns.boxplot(x = 'hukou', y = 'ranking', data = df) "
   ]
  },
  {
   "cell_type": "markdown",
   "metadata": {},
   "source": [
    "**结果解读：**\n",
    "城镇户口同学和非城镇户口同学的学习成绩分别是3.40和2.92.独立样本t检验显示城镇户口同学和非城镇户口同学学习成绩有显著差异(t=2.41,p=0.02 < 0.05)。"
   ]
  },
  {
   "cell_type": "markdown",
   "metadata": {},
   "source": [
    "### 2、单因素方差分析"
   ]
  },
  {
   "cell_type": "markdown",
   "metadata": {},
   "source": [
    "比较不同生源地（非广东地区/珠三角地区/粤东/粤西/粤北）的同学对学院课程的满意度是否有差异【分析“location”（“生源地”）和“sati_overall”（“学院课程”）的关系】"
   ]
  },
  {
   "cell_type": "code",
   "execution_count": 49,
   "metadata": {},
   "outputs": [
    {
     "data": {
      "text/plain": [
       "location\n",
       "珠三角地区    3.450000\n",
       "粤东       3.529412\n",
       "粤北       3.166667\n",
       "粤西       3.300000\n",
       "非广东地区    3.285714\n",
       "Name: sati_overall, dtype: float64"
      ]
     },
     "execution_count": 49,
     "metadata": {},
     "output_type": "execute_result"
    }
   ],
   "source": [
    "df.groupby('location').sati_overall.mean()"
   ]
  },
  {
   "cell_type": "code",
   "execution_count": 68,
   "metadata": {},
   "outputs": [
    {
     "name": "stdout",
     "output_type": "stream",
     "text": [
      "     Source         SS  DF        MS         F     p-unc       np2\n",
      "0  location   0.890301   4  0.222575  0.251035  0.908173  0.013212\n",
      "1    Within  66.497199  75  0.886629       NaN       NaN       NaN\n"
     ]
    }
   ],
   "source": [
    "# 单因素方差分析\n",
    "aov = pg.anova(data=df, dv='sati_overall', between='location', detailed=True)\n",
    "print(aov)\n"
   ]
  },
  {
   "cell_type": "code",
   "execution_count": 74,
   "metadata": {},
   "outputs": [
    {
     "name": "stdout",
     "output_type": "stream",
     "text": [
      "\n",
      "==============\n",
      "POST HOC TESTS\n",
      "==============\n",
      "\n",
      "Contrast    A           B           Paired    Parametric         T     dof  alternative      p-unc    BF10    hedges\n",
      "----------  ----------  ----------  --------  ------------  ------  ------  -------------  -------  ------  --------\n",
      "location    粤西        珠三角地区  False     True          -0.372  13.030  two-sided        0.716   0.354    -0.137\n",
      "location    粤西        粤东        False     True          -0.592  11.122  two-sided        0.565   0.417    -0.275\n",
      "location    粤西        非广东地区  False     True           0.035  12.892  two-sided        0.973   0.424     0.014\n",
      "location    粤西        粤北        False     True           0.245  12.133  two-sided        0.810   0.445     0.115\n",
      "location    珠三角地区  粤东        False     True          -0.380  53.886  two-sided        0.706   0.305    -0.084\n",
      "location    珠三角地区  非广东地区  False     True           0.659  18.126  two-sided        0.518   0.437     0.161\n",
      "location    珠三角地区  粤北        False     True           0.651   6.872  two-sided        0.536   0.454     0.265\n",
      "location    粤东        非广东地区  False     True           1.094  11.822  two-sided        0.296   0.604     0.464\n",
      "location    粤东        粤北        False     True           0.863   5.996  two-sided        0.421   0.533     0.532\n",
      "location    非广东地区  粤北        False     True           0.270   7.071  two-sided        0.795   0.468     0.147\n",
      "\n"
     ]
    }
   ],
   "source": [
    "#事后检验\n",
    "posthoc = pg.pairwise_ttests(data=df, dv='sati_overall', between='location')\n",
    "pg.print_table(posthoc, floatfmt='.3f')"
   ]
  },
  {
   "cell_type": "code",
   "execution_count": 51,
   "metadata": {},
   "outputs": [
    {
     "data": {
      "text/plain": [
       "<AxesSubplot:xlabel='location', ylabel='sati_overall'>"
      ]
     },
     "execution_count": 51,
     "metadata": {},
     "output_type": "execute_result"
    },
    {
     "data": {
      "image/png": "[encoded data removed]",
      "text/plain": [
       "<Figure size 432x288 with 1 Axes>"
      ]
     },
     "metadata": {},
     "output_type": "display_data"
    }
   ],
   "source": [
    "# 单因素方差分析结果可视化\n",
    "sns.boxplot(x = 'location', y = 'sati_overall', data = df) "
   ]
  },
  {
   "cell_type": "markdown",
   "metadata": {},
   "source": [
    "**结果解读：**\n",
    "非广东地区/珠三角地区/粤东/粤西/粤北等地的同学对学院专业的满意度分别是3.45,3.52,3.16,3.30,3.29；单因素分析结果显示不同生源地的同学对学院课程满意度没有显著差异(F = 0.25, p = 0.91 > 0.05)。"
   ]
  },
  {
   "cell_type": "markdown",
   "metadata": {},
   "source": [
    "### 3、卡方检验"
   ]
  },
  {
   "cell_type": "markdown",
   "metadata": {},
   "source": [
    "分析“gender”(性别)和“high_school_major”(高中选科)的关系"
   ]
  },
  {
   "cell_type": "code",
   "execution_count": 52,
   "metadata": {},
   "outputs": [
    {
     "data": {
      "text/html": [
       "<div>\n",
       "<style scoped>\n",
       "    .dataframe tbody tr th:only-of-type {\n",
       "        vertical-align: middle;\n",
       "    }\n",
       "\n",
       "    .dataframe tbody tr th {\n",
       "        vertical-align: top;\n",
       "    }\n",
       "\n",
       "    .dataframe thead th {\n",
       "        text-align: right;\n",
       "    }\n",
       "</style>\n",
       "<table border=\"1\" class=\"dataframe\">\n",
       "  <thead>\n",
       "    <tr style=\"text-align: right;\">\n",
       "      <th>high_school_major</th>\n",
       "      <th>文科</th>\n",
       "      <th>理科</th>\n",
       "    </tr>\n",
       "    <tr>\n",
       "      <th>gender</th>\n",
       "      <th></th>\n",
       "      <th></th>\n",
       "    </tr>\n",
       "  </thead>\n",
       "  <tbody>\n",
       "    <tr>\n",
       "      <th>女性</th>\n",
       "      <td>37</td>\n",
       "      <td>27</td>\n",
       "    </tr>\n",
       "    <tr>\n",
       "      <th>男性</th>\n",
       "      <td>8</td>\n",
       "      <td>8</td>\n",
       "    </tr>\n",
       "  </tbody>\n",
       "</table>\n",
       "</div>"
      ],
      "text/plain": [
       "high_school_major  文科  理科\n",
       "gender                   \n",
       "女性                 37  27\n",
       "男性                  8   8"
      ]
     },
     "execution_count": 52,
     "metadata": {},
     "output_type": "execute_result"
    }
   ],
   "source": [
    "# 列联表\n",
    "crosstab = pd.crosstab(df.gender,df.high_school_major)\n",
    "crosstab\n"
   ]
  },
  {
   "cell_type": "code",
   "execution_count": 53,
   "metadata": {},
   "outputs": [],
   "source": [
    "# 卡方检验结果（检验统计量卡方值，p值,自由度，期望频数）\n",
    "stat, p, dof, expected = chi2_contingency(crosstab) \n"
   ]
  },
  {
   "cell_type": "code",
   "execution_count": 58,
   "metadata": {},
   "outputs": [
    {
     "data": {
      "text/plain": [
       "0.07936507936507936"
      ]
     },
     "execution_count": 58,
     "metadata": {},
     "output_type": "execute_result"
    }
   ],
   "source": [
    "#卡方值\n",
    "stat\n"
   ]
  },
  {
   "cell_type": "code",
   "execution_count": 59,
   "metadata": {},
   "outputs": [
    {
     "name": "stdout",
     "output_type": "stream",
     "text": [
      "p = 0.7781596861761658\n"
     ]
    }
   ],
   "source": [
    "# p值\n",
    "print(\"p = \" + str(p))"
   ]
  },
  {
   "cell_type": "code",
   "execution_count": 56,
   "metadata": {},
   "outputs": [
    {
     "data": {
      "text/plain": [
       "<AxesSubplot:xlabel='gender', ylabel='count'>"
      ]
     },
     "execution_count": 56,
     "metadata": {},
     "output_type": "execute_result"
    },
    {
     "data": {
      "image/png": "[encoded data removed]",
      "text/plain": [
       "<Figure size 432x288 with 1 Axes>"
      ]
     },
     "metadata": {},
     "output_type": "display_data"
    }
   ],
   "source": [
    "# 卡方检验结果可视化\n",
    "sns.countplot(x = 'gender', hue = 'high_school_major', data = df) "
   ]
  },
  {
   "cell_type": "markdown",
   "metadata": {},
   "source": [
    "**结果解读：**\n",
    "卡方检验的结果显示“性别”与“高中选科”没有联系（chisq=0.79,p=0.78 >0.05）。"
   ]
  },
  {
   "cell_type": "markdown",
   "metadata": {},
   "source": [
    "### 4、相关分析"
   ]
  },
  {
   "cell_type": "code",
   "execution_count": 61,
   "metadata": {},
   "outputs": [
    {
     "data": {
      "text/html": [
       "<div>\n",
       "<style scoped>\n",
       "    .dataframe tbody tr th:only-of-type {\n",
       "        vertical-align: middle;\n",
       "    }\n",
       "\n",
       "    .dataframe tbody tr th {\n",
       "        vertical-align: top;\n",
       "    }\n",
       "\n",
       "    .dataframe thead th {\n",
       "        text-align: right;\n",
       "    }\n",
       "</style>\n",
       "<table border=\"1\" class=\"dataframe\">\n",
       "  <thead>\n",
       "    <tr style=\"text-align: right;\">\n",
       "      <th></th>\n",
       "      <th>X</th>\n",
       "      <th>Y</th>\n",
       "      <th>method</th>\n",
       "      <th>alternative</th>\n",
       "      <th>n</th>\n",
       "      <th>r</th>\n",
       "      <th>CI95%</th>\n",
       "      <th>p-unc</th>\n",
       "      <th>BF10</th>\n",
       "      <th>power</th>\n",
       "    </tr>\n",
       "  </thead>\n",
       "  <tbody>\n",
       "    <tr>\n",
       "      <th>0</th>\n",
       "      <td>effort_overall</td>\n",
       "      <td>ranking</td>\n",
       "      <td>pearson</td>\n",
       "      <td>two-sided</td>\n",
       "      <td>80</td>\n",
       "      <td>0.28433</td>\n",
       "      <td>[0.07, 0.47]</td>\n",
       "      <td>0.010585</td>\n",
       "      <td>3.454</td>\n",
       "      <td>0.732312</td>\n",
       "    </tr>\n",
       "  </tbody>\n",
       "</table>\n",
       "</div>"
      ],
      "text/plain": [
       "                X        Y   method alternative   n        r         CI95%  \\\n",
       "0  effort_overall  ranking  pearson   two-sided  80  0.28433  [0.07, 0.47]   \n",
       "\n",
       "      p-unc   BF10     power  \n",
       "0  0.010585  3.454  0.732312  "
      ]
     },
     "execution_count": 61,
     "metadata": {},
     "output_type": "execute_result"
    }
   ],
   "source": [
    "# 努力方式与排名的相关关系\n",
    "pg.pairwise_corr(df, columns=[\"effort_overall\",\"ranking\"], method='pearson')"
   ]
  },
  {
   "cell_type": "code",
   "execution_count": 38,
   "metadata": {},
   "outputs": [
    {
     "data": {
      "text/plain": [
       "<AxesSubplot:xlabel='effort_overall', ylabel='ranking'>"
      ]
     },
     "execution_count": 38,
     "metadata": {},
     "output_type": "execute_result"
    },
    {
     "data": {
      "image/png": "[encoded data removed]",
      "text/plain": [
       "<Figure size 432x288 with 1 Axes>"
      ]
     },
     "metadata": {},
     "output_type": "display_data"
    }
   ],
   "source": [
    "# 散点图（两变量）（包含拟合直线）\n",
    "sns.regplot(x = \"effort_overall\", y = \"ranking\", data = df)"
   ]
  },
  {
   "cell_type": "markdown",
   "metadata": {},
   "source": [
    "**结果解读：**\n",
    "相关分析的结果显示“总体努力程度”与“学习成绩”显著相关（r=0.28,p=0.01 < 0.05）。"
   ]
  },
  {
   "cell_type": "code",
   "execution_count": 39,
   "metadata": {},
   "outputs": [
    {
     "data": {
      "text/html": [
       "<div>\n",
       "<style scoped>\n",
       "    .dataframe tbody tr th:only-of-type {\n",
       "        vertical-align: middle;\n",
       "    }\n",
       "\n",
       "    .dataframe tbody tr th {\n",
       "        vertical-align: top;\n",
       "    }\n",
       "\n",
       "    .dataframe thead th {\n",
       "        text-align: right;\n",
       "    }\n",
       "</style>\n",
       "<table border=\"1\" class=\"dataframe\">\n",
       "  <thead>\n",
       "    <tr style=\"text-align: right;\">\n",
       "      <th></th>\n",
       "      <th>effort_read</th>\n",
       "      <th>effort_info</th>\n",
       "      <th>effort_res</th>\n",
       "      <th>effort_project</th>\n",
       "      <th>effort_overall</th>\n",
       "    </tr>\n",
       "  </thead>\n",
       "  <tbody>\n",
       "    <tr>\n",
       "      <th>effort_read</th>\n",
       "      <td>1.000000</td>\n",
       "      <td>0.467344</td>\n",
       "      <td>0.418508</td>\n",
       "      <td>0.247580</td>\n",
       "      <td>0.239919</td>\n",
       "    </tr>\n",
       "    <tr>\n",
       "      <th>effort_info</th>\n",
       "      <td>0.467344</td>\n",
       "      <td>1.000000</td>\n",
       "      <td>0.642064</td>\n",
       "      <td>0.468721</td>\n",
       "      <td>0.252594</td>\n",
       "    </tr>\n",
       "    <tr>\n",
       "      <th>effort_res</th>\n",
       "      <td>0.418508</td>\n",
       "      <td>0.642064</td>\n",
       "      <td>1.000000</td>\n",
       "      <td>0.372938</td>\n",
       "      <td>0.324249</td>\n",
       "    </tr>\n",
       "    <tr>\n",
       "      <th>effort_project</th>\n",
       "      <td>0.247580</td>\n",
       "      <td>0.468721</td>\n",
       "      <td>0.372938</td>\n",
       "      <td>1.000000</td>\n",
       "      <td>0.327957</td>\n",
       "    </tr>\n",
       "    <tr>\n",
       "      <th>effort_overall</th>\n",
       "      <td>0.239919</td>\n",
       "      <td>0.252594</td>\n",
       "      <td>0.324249</td>\n",
       "      <td>0.327957</td>\n",
       "      <td>1.000000</td>\n",
       "    </tr>\n",
       "  </tbody>\n",
       "</table>\n",
       "</div>"
      ],
      "text/plain": [
       "                effort_read  effort_info  effort_res  effort_project  \\\n",
       "effort_read        1.000000     0.467344    0.418508        0.247580   \n",
       "effort_info        0.467344     1.000000    0.642064        0.468721   \n",
       "effort_res         0.418508     0.642064    1.000000        0.372938   \n",
       "effort_project     0.247580     0.468721    0.372938        1.000000   \n",
       "effort_overall     0.239919     0.252594    0.324249        0.327957   \n",
       "\n",
       "                effort_overall  \n",
       "effort_read           0.239919  \n",
       "effort_info           0.252594  \n",
       "effort_res            0.324249  \n",
       "effort_project        0.327957  \n",
       "effort_overall        1.000000  "
      ]
     },
     "execution_count": 39,
     "metadata": {},
     "output_type": "execute_result"
    }
   ],
   "source": [
    "# 多个变量的相关分析\n",
    "df[[ \"effort_read\",\"effort_info\",\"effort_res\",\"effort_project\",\"effort_overall\"]].corr()"
   ]
  },
  {
   "cell_type": "code",
   "execution_count": 60,
   "metadata": {},
   "outputs": [
    {
     "data": {
      "text/html": [
       "<div>\n",
       "<style scoped>\n",
       "    .dataframe tbody tr th:only-of-type {\n",
       "        vertical-align: middle;\n",
       "    }\n",
       "\n",
       "    .dataframe tbody tr th {\n",
       "        vertical-align: top;\n",
       "    }\n",
       "\n",
       "    .dataframe thead th {\n",
       "        text-align: right;\n",
       "    }\n",
       "</style>\n",
       "<table border=\"1\" class=\"dataframe\">\n",
       "  <thead>\n",
       "    <tr style=\"text-align: right;\">\n",
       "      <th></th>\n",
       "      <th>effort_read</th>\n",
       "      <th>effort_info</th>\n",
       "      <th>effort_res</th>\n",
       "      <th>effort_project</th>\n",
       "      <th>effort_overall</th>\n",
       "    </tr>\n",
       "  </thead>\n",
       "  <tbody>\n",
       "    <tr>\n",
       "      <th>effort_read</th>\n",
       "      <td>-</td>\n",
       "      <td>***</td>\n",
       "      <td>***</td>\n",
       "      <td>*</td>\n",
       "      <td>*</td>\n",
       "    </tr>\n",
       "    <tr>\n",
       "      <th>effort_info</th>\n",
       "      <td>0.467</td>\n",
       "      <td>-</td>\n",
       "      <td>***</td>\n",
       "      <td>***</td>\n",
       "      <td>*</td>\n",
       "    </tr>\n",
       "    <tr>\n",
       "      <th>effort_res</th>\n",
       "      <td>0.419</td>\n",
       "      <td>0.642</td>\n",
       "      <td>-</td>\n",
       "      <td>***</td>\n",
       "      <td>**</td>\n",
       "    </tr>\n",
       "    <tr>\n",
       "      <th>effort_project</th>\n",
       "      <td>0.248</td>\n",
       "      <td>0.469</td>\n",
       "      <td>0.373</td>\n",
       "      <td>-</td>\n",
       "      <td>**</td>\n",
       "    </tr>\n",
       "    <tr>\n",
       "      <th>effort_overall</th>\n",
       "      <td>0.24</td>\n",
       "      <td>0.253</td>\n",
       "      <td>0.324</td>\n",
       "      <td>0.328</td>\n",
       "      <td>-</td>\n",
       "    </tr>\n",
       "  </tbody>\n",
       "</table>\n",
       "</div>"
      ],
      "text/plain": [
       "               effort_read effort_info effort_res effort_project  \\\n",
       "effort_read              -         ***        ***              *   \n",
       "effort_info          0.467           -        ***            ***   \n",
       "effort_res           0.419       0.642          -            ***   \n",
       "effort_project       0.248       0.469      0.373              -   \n",
       "effort_overall        0.24       0.253      0.324          0.328   \n",
       "\n",
       "               effort_overall  \n",
       "effort_read                 *  \n",
       "effort_info                 *  \n",
       "effort_res                 **  \n",
       "effort_project             **  \n",
       "effort_overall              -  "
      ]
     },
     "execution_count": 60,
     "metadata": {},
     "output_type": "execute_result"
    }
   ],
   "source": [
    "\n",
    "df[[ \"effort_read\",\"effort_info\",\"effort_res\",\"effort_project\",\"effort_overall\"]].rcorr()"
   ]
  },
  {
   "cell_type": "code",
   "execution_count": 40,
   "metadata": {},
   "outputs": [
    {
     "data": {
      "text/plain": [
       "<seaborn.axisgrid.PairGrid at 0x1e93df24ee0>"
      ]
     },
     "execution_count": 40,
     "metadata": {},
     "output_type": "execute_result"
    },
    {
     "data": {
      "image/png": "[encoded data removed]",
      "text/plain": [
       "<Figure size 900x900 with 30 Axes>"
      ]
     },
     "metadata": {},
     "output_type": "display_data"
    }
   ],
   "source": [
    "# 散点图（多个变量）\n",
    "sns.pairplot(df.filter(regex=\"effort_*\"), kind=\"reg\")#用正则表达式的方法筛选以“effort_”为开头的变量"
   ]
  },
  {
   "cell_type": "markdown",
   "metadata": {},
   "source": [
    "### 5、回归分析"
   ]
  },
  {
   "cell_type": "markdown",
   "metadata": {},
   "source": [
    "以\"ranking\"（学习成绩）为因变量，\"maj_work\"，“maj_dir”，“effort_overall”为自变量建立回归模型"
   ]
  },
  {
   "cell_type": "code",
   "execution_count": 41,
   "metadata": {},
   "outputs": [
    {
     "data": {
      "text/html": [
       "<table class=\"simpletable\">\n",
       "<caption>OLS Regression Results</caption>\n",
       "<tr>\n",
       "  <th>Dep. Variable:</th>         <td>ranking</td>     <th>  R-squared:         </th> <td>   0.170</td>\n",
       "</tr>\n",
       "<tr>\n",
       "  <th>Model:</th>                   <td>OLS</td>       <th>  Adj. R-squared:    </th> <td>   0.137</td>\n",
       "</tr>\n",
       "<tr>\n",
       "  <th>Method:</th>             <td>Least Squares</td>  <th>  F-statistic:       </th> <td>   5.197</td>\n",
       "</tr>\n",
       "<tr>\n",
       "  <th>Date:</th>             <td>Mon, 20 Dec 2021</td> <th>  Prob (F-statistic):</th>  <td>0.00256</td>\n",
       "</tr>\n",
       "<tr>\n",
       "  <th>Time:</th>                 <td>23:45:39</td>     <th>  Log-Likelihood:    </th> <td> -92.492</td>\n",
       "</tr>\n",
       "<tr>\n",
       "  <th>No. Observations:</th>      <td>    80</td>      <th>  AIC:               </th> <td>   193.0</td>\n",
       "</tr>\n",
       "<tr>\n",
       "  <th>Df Residuals:</th>          <td>    76</td>      <th>  BIC:               </th> <td>   202.5</td>\n",
       "</tr>\n",
       "<tr>\n",
       "  <th>Df Model:</th>              <td>     3</td>      <th>                     </th>     <td> </td>   \n",
       "</tr>\n",
       "<tr>\n",
       "  <th>Covariance Type:</th>      <td>nonrobust</td>    <th>                     </th>     <td> </td>   \n",
       "</tr>\n",
       "</table>\n",
       "<table class=\"simpletable\">\n",
       "<tr>\n",
       "         <td></td>           <th>coef</th>     <th>std err</th>      <th>t</th>      <th>P>|t|</th>  <th>[0.025</th>    <th>0.975]</th>  \n",
       "</tr>\n",
       "<tr>\n",
       "  <th>Intercept</th>      <td>    1.7129</td> <td>    0.536</td> <td>    3.195</td> <td> 0.002</td> <td>    0.645</td> <td>    2.781</td>\n",
       "</tr>\n",
       "<tr>\n",
       "  <th>maj_work</th>       <td>   -0.0797</td> <td>    0.098</td> <td>   -0.814</td> <td> 0.418</td> <td>   -0.275</td> <td>    0.115</td>\n",
       "</tr>\n",
       "<tr>\n",
       "  <th>maj_dir</th>        <td>    0.2179</td> <td>    0.079</td> <td>    2.751</td> <td> 0.007</td> <td>    0.060</td> <td>    0.376</td>\n",
       "</tr>\n",
       "<tr>\n",
       "  <th>effort_overall</th> <td>    0.3679</td> <td>    0.127</td> <td>    2.888</td> <td> 0.005</td> <td>    0.114</td> <td>    0.622</td>\n",
       "</tr>\n",
       "</table>\n",
       "<table class=\"simpletable\">\n",
       "<tr>\n",
       "  <th>Omnibus:</th>       <td> 0.771</td> <th>  Durbin-Watson:     </th> <td>   2.023</td>\n",
       "</tr>\n",
       "<tr>\n",
       "  <th>Prob(Omnibus):</th> <td> 0.680</td> <th>  Jarque-Bera (JB):  </th> <td>   0.326</td>\n",
       "</tr>\n",
       "<tr>\n",
       "  <th>Skew:</th>          <td>-0.107</td> <th>  Prob(JB):          </th> <td>   0.850</td>\n",
       "</tr>\n",
       "<tr>\n",
       "  <th>Kurtosis:</th>      <td> 3.228</td> <th>  Cond. No.          </th> <td>    34.6</td>\n",
       "</tr>\n",
       "</table><br/><br/>Notes:<br/>[1] Standard Errors assume that the covariance matrix of the errors is correctly specified."
      ],
      "text/plain": [
       "<class 'statsmodels.iolib.summary.Summary'>\n",
       "\"\"\"\n",
       "                            OLS Regression Results                            \n",
       "==============================================================================\n",
       "Dep. Variable:                ranking   R-squared:                       0.170\n",
       "Model:                            OLS   Adj. R-squared:                  0.137\n",
       "Method:                 Least Squares   F-statistic:                     5.197\n",
       "Date:                Mon, 20 Dec 2021   Prob (F-statistic):            0.00256\n",
       "Time:                        23:45:39   Log-Likelihood:                -92.492\n",
       "No. Observations:                  80   AIC:                             193.0\n",
       "Df Residuals:                      76   BIC:                             202.5\n",
       "Df Model:                           3                                         \n",
       "Covariance Type:            nonrobust                                         \n",
       "==================================================================================\n",
       "                     coef    std err          t      P>|t|      [0.025      0.975]\n",
       "----------------------------------------------------------------------------------\n",
       "Intercept          1.7129      0.536      3.195      0.002       0.645       2.781\n",
       "maj_work          -0.0797      0.098     -0.814      0.418      -0.275       0.115\n",
       "maj_dir            0.2179      0.079      2.751      0.007       0.060       0.376\n",
       "effort_overall     0.3679      0.127      2.888      0.005       0.114       0.622\n",
       "==============================================================================\n",
       "Omnibus:                        0.771   Durbin-Watson:                   2.023\n",
       "Prob(Omnibus):                  0.680   Jarque-Bera (JB):                0.326\n",
       "Skew:                          -0.107   Prob(JB):                        0.850\n",
       "Kurtosis:                       3.228   Cond. No.                         34.6\n",
       "==============================================================================\n",
       "\n",
       "Notes:\n",
       "[1] Standard Errors assume that the covariance matrix of the errors is correctly specified.\n",
       "\"\"\""
      ]
     },
     "execution_count": 41,
     "metadata": {},
     "output_type": "execute_result"
    }
   ],
   "source": [
    "model = smf.ols(\"ranking ~ maj_work + maj_dir + effort_overall\",\n",
    "        data = df).fit()\n",
    "\n",
    "model.summary()"
   ]
  },
  {
   "cell_type": "markdown",
   "metadata": {},
   "source": [
    "**结果解读：**\n",
    "\n",
    "回归方程为： ranking = 1.71 - 0.08(mai_work) + 0.02(maj_dir) + 0.37(effort_overall)。F检验的结果显示回归模型具有统计学意义(F = 5.20， p = 0.00256 < 0.05)；R方为0.17,这意味着三个自变量能解释因变量17%的变异；t检验的结果显示maj_dir(t = 2.75,p =0.007 < 0.05)和effort_overall(t = 2.89,p =0.005 < 0.05)两个变量都能显著影响ranking。"
   ]
  },
  {
   "cell_type": "markdown",
   "metadata": {},
   "source": [
    "### 6、信度分析"
   ]
  },
  {
   "cell_type": "code",
   "execution_count": 42,
   "metadata": {},
   "outputs": [],
   "source": [
    "df_effort = df.filter(regex = \"^effort_.*\")"
   ]
  },
  {
   "cell_type": "code",
   "execution_count": 42,
   "metadata": {},
   "outputs": [
    {
     "data": {
      "text/plain": [
       "(0.753786045633211, array([0.657, 0.83 ]))"
      ]
     },
     "execution_count": 42,
     "metadata": {},
     "output_type": "execute_result"
    }
   ],
   "source": [
    "pg.cronbach_alpha(data=df_effort) #返回Cronbach's α值及其置信区间"
   ]
  }
 ],
 "metadata": {
  "kernelspec": {
   "display_name": "Python 3",
   "language": "python",
   "name": "python3"
  },
  "language_info": {
   "codemirror_mode": {
    "name": "ipython",
    "version": 3
   },
   "file_extension": ".py",
   "mimetype": "text/x-python",
   "name": "python",
   "nbconvert_exporter": "python",
   "pygments_lexer": "ipython3",
   "version": "3.8.8"
  }
 },
 "nbformat": 4,
 "nbformat_minor": 4
}
