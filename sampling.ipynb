{
 "cells": [
  {
   "cell_type": "code",
   "execution_count": 15,
   "source": [
    "# 用于数值计算的库\r\n",
    "import numpy as np\r\n",
    "import pandas as pd\r\n",
    "import scipy as sp\r\n",
    "from scipy import stats\r\n",
    "\r\n",
    "# 用于绘图的库\r\n",
    "from matplotlib import pyplot as plt\r\n",
    "import seaborn as sns\r\n",
    "sns.set()\r\n",
    "\r\n",
    "# 设置浮点数打印精度\r\n",
    "%precision 3\r\n",
    "# 在 Jupyter Notebook 里显示图形\r\n",
    "%matplotlib inline"
   ],
   "outputs": [],
   "metadata": {}
  },
  {
   "cell_type": "markdown",
   "source": [
    "# 1.随机抽取一位同学"
   ],
   "metadata": {}
  },
  {
   "cell_type": "code",
   "execution_count": 16,
   "source": [
    "import numpy as np"
   ],
   "outputs": [],
   "metadata": {}
  },
  {
   "cell_type": "code",
   "execution_count": 17,
   "source": [
    "#同学名单\r\n",
    "# class = "
   ],
   "outputs": [],
   "metadata": {}
  },
  {
   "cell_type": "code",
   "execution_count": 18,
   "source": [
    "np.random.choice(class, size = 1, replace = False)"
   ],
   "outputs": [
    {
     "output_type": "error",
     "ename": "SyntaxError",
     "evalue": "invalid syntax (<ipython-input-18-4cc3023090fc>, line 1)",
     "traceback": [
      "\u001b[1;36m  File \u001b[1;32m\"<ipython-input-18-4cc3023090fc>\"\u001b[1;36m, line \u001b[1;32m1\u001b[0m\n\u001b[1;33m    np.random.choice(class, size = 1, replace = False)\u001b[0m\n\u001b[1;37m                     ^\u001b[0m\n\u001b[1;31mSyntaxError\u001b[0m\u001b[1;31m:\u001b[0m invalid syntax\n"
     ]
    }
   ],
   "metadata": {}
  },
  {
   "cell_type": "markdown",
   "source": [
    "# 2.中心极限定理"
   ],
   "metadata": {}
  },
  {
   "cell_type": "markdown",
   "source": [
    "有一个班级，有100位同学，他们的考试成绩分别1-100分。\n",
    "\n",
    "现在我们想通过抽样的办法来推断这个班级的平均分。\n",
    "\n",
    "我们分别"
   ],
   "metadata": {}
  },
  {
   "cell_type": "code",
   "execution_count": null,
   "source": [
    "data = np.array(range(1, 101))"
   ],
   "outputs": [],
   "metadata": {
    "tags": []
   }
  },
  {
   "cell_type": "markdown",
   "source": [
    "## n = 1 的情形"
   ],
   "metadata": {}
  },
  {
   "cell_type": "code",
   "execution_count": null,
   "source": [
    "# 重复抽取100次\r\n",
    "\r\n",
    "sample_mean =[]\r\n",
    "for i in range(1, 1000):\r\n",
    "    s = np.random.choice(data, size=1).mean()\r\n",
    "    sample_mean.append(s)\r\n",
    "sns.histplot(sample_mean)\r\n",
    "plt.title(\"Size=1\")   "
   ],
   "outputs": [
    {
     "output_type": "execute_result",
     "data": {
      "text/plain": [
       "Text(0.5, 1.0, 'Size=1')"
      ]
     },
     "metadata": {},
     "execution_count": 4
    },
    {
     "output_type": "display_data",
     "data": {
      "image/png": "[encoded data removed]",
      "text/plain": [
       "<Figure size 432x288 with 1 Axes>"
      ]
     },
     "metadata": {
      "needs_background": "light"
     }
    }
   ],
   "metadata": {}
  },
  {
   "cell_type": "markdown",
   "source": [
    "## n = 5 的情形"
   ],
   "metadata": {}
  },
  {
   "cell_type": "code",
   "execution_count": null,
   "source": [
    "# 重复抽取100次\r\n",
    "\r\n",
    "sample_mean =[]\r\n",
    "for i in range(1, 100):\r\n",
    "    s = np.random.choice(data, size=5).mean()\r\n",
    "    sample_mean.append(s)\r\n",
    "sns.histplot(sample_mean)\r\n",
    "plt.title(\"Size=5\")   "
   ],
   "outputs": [
    {
     "output_type": "execute_result",
     "data": {
      "text/plain": [
       "Text(0.5, 1.0, 'Size=5')"
      ]
     },
     "metadata": {},
     "execution_count": 5
    },
    {
     "output_type": "display_data",
     "data": {
      "image/png": "[encoded data removed]",
      "text/plain": [
       "<Figure size 432x288 with 1 Axes>"
      ]
     },
     "metadata": {
      "needs_background": "light"
     }
    }
   ],
   "metadata": {}
  },
  {
   "cell_type": "markdown",
   "source": [
    "## n = 10 的情形"
   ],
   "metadata": {}
  },
  {
   "cell_type": "code",
   "execution_count": null,
   "source": [
    "# 重复抽取100次\r\n",
    "\r\n",
    "sample_mean =[]\r\n",
    "for i in range(1, 100):\r\n",
    "    s = np.random.choice(data, size=10).mean()\r\n",
    "    sample_mean.append(s)\r\n",
    "sns.histplot(sample_mean)\r\n",
    "plt.title(\"Size=10\")   "
   ],
   "outputs": [
    {
     "output_type": "execute_result",
     "data": {
      "text/plain": [
       "Text(0.5, 1.0, 'Size=10')"
      ]
     },
     "metadata": {},
     "execution_count": 6
    },
    {
     "output_type": "display_data",
     "data": {
      "image/png": "[encoded data removed]",
      "text/plain": [
       "<Figure size 432x288 with 1 Axes>"
      ]
     },
     "metadata": {
      "needs_background": "light"
     }
    }
   ],
   "metadata": {}
  },
  {
   "cell_type": "markdown",
   "source": [
    "## n = 50 的情形"
   ],
   "metadata": {}
  },
  {
   "cell_type": "code",
   "execution_count": null,
   "source": [
    "# 重复抽取100次\r\n",
    "\r\n",
    "sample_mean =[]\r\n",
    "for i in range(1, 100):\r\n",
    "    s = np.random.choice(data, size=50).mean()\r\n",
    "    sample_mean.append(s)\r\n",
    "sns.histplot(sample_mean)\r\n",
    "plt.title(\"Size=50\")   "
   ],
   "outputs": [
    {
     "output_type": "execute_result",
     "data": {
      "text/plain": [
       "Text(0.5, 1.0, 'Size=50')"
      ]
     },
     "metadata": {},
     "execution_count": 7
    },
    {
     "output_type": "display_data",
     "data": {
      "image/png": "[encoded data removed]",
      "text/plain": [
       "<Figure size 432x288 with 1 Axes>"
      ]
     },
     "metadata": {
      "needs_background": "light"
     }
    }
   ],
   "metadata": {}
  },
  {
   "cell_type": "code",
   "execution_count": null,
   "source": [
    "# 重复抽取100次\r\n",
    "\r\n",
    "sample_mean =[]\r\n",
    "for i in range(1, 100):\r\n",
    "    s = np.random.choice(data, size=90).mean()\r\n",
    "    sample_mean.append(s)\r\n",
    "sns.histplot(sample_mean)\r\n",
    "plt.title(\"Size=90\")   "
   ],
   "outputs": [
    {
     "output_type": "execute_result",
     "data": {
      "text/plain": [
       "Text(0.5, 1.0, 'Size=90')"
      ]
     },
     "metadata": {},
     "execution_count": 9
    },
    {
     "output_type": "display_data",
     "data": {
      "image/png": "[encoded data removed]",
      "text/plain": [
       "<Figure size 432x288 with 1 Axes>"
      ]
     },
     "metadata": {
      "needs_background": "light"
     }
    }
   ],
   "metadata": {}
  }
 ],
 "metadata": {
  "kernelspec": {
   "name": "python3",
   "display_name": "Python 3.8.8 64-bit ('base': conda)"
  },
  "language_info": {
   "codemirror_mode": {
    "name": "ipython",
    "version": 3
   },
   "file_extension": ".py",
   "mimetype": "text/x-python",
   "name": "python",
   "nbconvert_exporter": "python",
   "pygments_lexer": "ipython3",
   "version": "3.8.8"
  },
  "interpreter": {
   "hash": "8ab0d968002a578cf1e1aa041721a175249ba338f6da29efa5ef1a380c630376"
  }
 },
 "nbformat": 4,
 "nbformat_minor": 5
}