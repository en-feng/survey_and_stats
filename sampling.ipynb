{
 "cells": [
  {
   "cell_type": "code",
   "execution_count": null,
   "id": "880ec8b5-8ab8-4f02-a6e5-97f19fd984c9",
   "metadata": {},
   "outputs": [],
   "source": [
    "import numpy as np\n"
   ]
  },
  {
   "cell_type": "code",
   "execution_count": 8,
   "id": "5cfd5950-805c-47cb-af30-b0dfef735fb5",
   "metadata": {},
   "outputs": [],
   "source": [
    "class_j = [\"曾奕\",\"李乐遥\",\"高钿\",\"黎信杏\",\"余欣儒\",\"王佳雯\",\"周晓茵\",\"李奕博\",\"吴思怡\",\"张仁俊\",\"刘文燚\",\"黄骏飞\",\"胡榕津\",\"毕志盛\",\"张原\",\"唐昊赟\",\"吴玉萍\",\"陈沐迟\",\"谢国涛\",\"陈美菁\",\"余婷芳\",\"陈嘉慧\",\"叶馨宇\",\"梁心韵\",\"林静怡\",\"周莹\",\"李佩芸\",\"余炳坤\",\"林依云\",\"吴其威\",\"林映彤\",\"刘晓倩\",\"唐喆\",\"李凯茵\",\"刘泓江\",\"刘凝霏\"]\n",
    "class_tue = [\"孙伟华\",\"郑炜楠\",\"张冰丽\",\"潘丽璇\",\"梁馨文\",\"吴鑫杰\",\"陈航宇\",\"张璟怡\",\"郑枫霖\",\"李懿轩\",\"梁颖欣\",\"吴晓燕\",\"温桂君\",\"黄晓颖\",\"黄兴祥\",\"杨志伟\",\"饶洁茹\",\"黄芷君\",\"连丹琪\",\"刘洁明\",\"欧紫玲\",\"杨国娟\",\"黄子轩\",\"谢芷祺\",\"方泽斌\",\"严泳心\",\"陈佳男\",\"叶浩驹\",\"区思莹\",\"聂嘉禧\",\"何健豪\",\"郑师宇\",\"段鸿斌\",\"钟莉\",\"黎杨锐\",\"温舒燃\",\"莫娇娇\",\"黄雯\",\"胡佩琪\",\"高湘林\",\"陈洁珊\",\"姚晓琪\",\"陈希\",\"宋晓婷\",\"张瑜婷\"]\n",
    "class_thur_am = [\"杜炫萍\",\"吴嘉雯\",\"张星\",\"陈颖\",\"杨文山\",\"叶静茹\",\"黄雯忆\",\"陈梓基\",\"黄子杨\",\"黄南辉\",\"曾子璇\",\"周铭峰\",\"郑婉筠\",\"范沛坤\",\"朱怡静\",\"姚卓凡\",\"陈怡霖\",\"李嘉浩\",\"李茜谕\",\"陈灿\",\"钟天\",\"唐丽玲\",\"刘咏琳\",\"刘嘉欣\",\"朱卫彬\",\"杨乐霖\",\"何睿\",\"林诗颖\",\"刘奕璇\",\"肖亮书\",\"张敏彤\",\"杨培君\",\"何润琼\",\"林嘉颖\",\"宋丹丽\",\"冯雅雯\",\"吴蔼琳\",\"李漫琪\",\"龙楚怡\",\"黄俊豪\",\"张渚\",\"洪铃雅\",\"林金梅\",\"陈珂\",\"林芷莹\",\"陈蕙兰\",\"陈志立\",\"岳珊先\",\"林俊彦\",\"王重乔\",\"利蕊\",\"陈佳洪\",\"林尚仪\",\"蔡明丽\",\"陈柔静\"]\n",
    "class_thur_pm = [\"周欣雨\",\"李卓映\",\"林从龙\",\"汪铭宇\",\"许伊榕\",\"高智浩\",\"庄家薇\",\"张海青\",\"李慧婷\",\"李婧雯\",\"朱迪伦\",\"麦锋源\",\"李俊荣\",\"冯艳芬\",\"林世立\",\"丘棠\",\"吴润森\",\"杨洁杏\",\"郑芷晴\",\"黄意晴\",\"吴桂婉\",\"邓颖欣\",\"聂俊杰\",\"高晋詠\",\"杨阳\",\"林韵婷\",\"邬晓婧\",\"郭子菲\",\"刘馨雨\",\"邹心瑜\",\"黄泽豪\",\"何虹霖\",\"余晓锋\",\"黄炜\",\"颜晓洁\",\"张洁琳\"]"
   ]
  },
  {
   "cell_type": "code",
   "execution_count": null,
   "id": "2c838757-c4df-4320-b1a3-d8025f004c24",
   "metadata": {},
   "outputs": [],
   "source": [
    "np.random.choice(class_j, size = 1, replace = False)"
   ]
  },
  {
   "cell_type": "code",
   "execution_count": null,
   "id": "db237f83-ee04-4a49-a532-d661498c7b63",
   "metadata": {},
   "outputs": [],
   "source": [
    "np.random.choice(class_tue, size = 1, replace = False)"
   ]
  },
  {
   "cell_type": "code",
   "execution_count": 9,
   "id": "e4e500f7-b10e-494f-8ac9-81799e999847",
   "metadata": {},
   "outputs": [
    {
     "data": {
      "text/plain": [
       "array(['黄俊豪'], dtype='<U3')"
      ]
     },
     "execution_count": 9,
     "metadata": {},
     "output_type": "execute_result"
    }
   ],
   "source": [
    "np.random.choice(class_thur_am, size = 1, replace = False)"
   ]
  },
  {
   "cell_type": "code",
   "execution_count": null,
   "id": "5cbcfac4-b027-4c76-9931-6c6a733c2adf",
   "metadata": {},
   "outputs": [],
   "source": [
    "np.random.choice(class_thur_pm, size = 1, replace = False)"
   ]
  },
  {
   "cell_type": "code",
   "execution_count": null,
   "id": "4f08c044-1b3c-4fb8-9ad3-1b808c87b373",
   "metadata": {},
   "outputs": [],
   "source": []
  },
  {
   "cell_type": "code",
   "execution_count": null,
   "id": "10b09065-748b-471c-8628-27bdf363c295",
   "metadata": {},
   "outputs": [],
   "source": []
  },
  {
   "cell_type": "code",
   "execution_count": null,
   "id": "c7895c45-9f42-4c02-98e4-803976134125",
   "metadata": {},
   "outputs": [],
   "source": []
  }
 ],
 "metadata": {
  "kernelspec": {
   "display_name": "Python 3",
   "language": "python",
   "name": "python3"
  },
  "language_info": {
   "codemirror_mode": {
    "name": "ipython",
    "version": 3
   },
   "file_extension": ".py",
   "mimetype": "text/x-python",
   "name": "python",
   "nbconvert_exporter": "python",
   "pygments_lexer": "ipython3",
   "version": "3.8.8"
  }
 },
 "nbformat": 4,
 "nbformat_minor": 5
}
