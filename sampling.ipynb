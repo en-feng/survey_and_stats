{
 "cells": [
  {
   "cell_type": "code",
   "execution_count": 2,
   "id": "049d4d57",
   "metadata": {},
   "outputs": [],
   "source": [
    "# 用于数值计算的库\n",
    "import numpy as np\n",
    "import pandas as pd\n",
    "import scipy as sp\n",
    "from scipy import stats\n",
    "\n",
    "# 用于绘图的库\n",
    "from matplotlib import pyplot as plt\n",
    "import seaborn as sns\n",
    "sns.set()\n",
    "\n",
    "# 设置浮点数打印精度\n",
    "%precision 3\n",
    "# 在 Jupyter Notebook 里显示图形\n",
    "%matplotlib inline"
   ]
  },
  {
   "cell_type": "markdown",
   "id": "95961eed",
   "metadata": {},
   "source": [
    "# 1.随机抽取一位同学"
   ]
  },
  {
   "cell_type": "code",
   "execution_count": 3,
   "id": "f2fb07ff",
   "metadata": {},
   "outputs": [],
   "source": [
    "import numpy as np"
   ]
  },
  {
   "cell_type": "code",
   "execution_count": 17,
   "id": "2ed7b932",
   "metadata": {},
   "outputs": [],
   "source": [
    "#同学名单（输入同学名单）\n",
    "# class = "
   ]
  },
  {
   "cell_type": "code",
   "execution_count": 18,
   "id": "86ea00c0",
   "metadata": {},
   "outputs": [
    {
     "ename": "SyntaxError",
     "evalue": "invalid syntax (<ipython-input-18-4cc3023090fc>, line 1)",
     "output_type": "error",
     "traceback": [
      "\u001b[1;36m  File \u001b[1;32m\"<ipython-input-18-4cc3023090fc>\"\u001b[1;36m, line \u001b[1;32m1\u001b[0m\n\u001b[1;33m    np.random.choice(class, size = 1, replace = False)\u001b[0m\n\u001b[1;37m                     ^\u001b[0m\n\u001b[1;31mSyntaxError\u001b[0m\u001b[1;31m:\u001b[0m invalid syntax\n"
     ]
    }
   ],
   "source": [
    "np.random.choice(class, size = 1, replace = False)"
   ]
  },
  {
   "cell_type": "markdown",
   "id": "27eeabcb",
   "metadata": {},
   "source": [
    "# 2.中心极限定理"
   ]
  },
  {
   "cell_type": "markdown",
   "id": "2f438265",
   "metadata": {},
   "source": [
    "有一个班级，有100位同学，他们的考试成绩分别1-100分。\n",
    "\n",
    "现在我们想通过抽样的办法来推断这个班级的平均分。\n",
    "\n",
    "样本容量分别位1，5，10，50的抽样方式（都是重复抽样10000次），结果会怎么样？\n"
   ]
  },
  {
   "cell_type": "code",
   "execution_count": 10,
   "id": "8232e4fc",
   "metadata": {
    "tags": []
   },
   "outputs": [
    {
     "data": {
      "text/plain": [
       "Text(0.5, 1.0, 'Distibution of population')"
      ]
     },
     "execution_count": 10,
     "metadata": {},
     "output_type": "execute_result"
    },
    {
     "data": {
      "image/png": "[encoded data removed]",
      "text/plain": [
       "<Figure size 432x288 with 1 Axes>"
      ]
     },
     "metadata": {
      "needs_background": "light"
     },
     "output_type": "display_data"
    }
   ],
   "source": [
    "data = np.array(range(1, 101))\n",
    "\n",
    "sns.histplot(data)\n",
    "plt.title(\"Distibution of population\")   "
   ]
  },
  {
   "cell_type": "markdown",
   "id": "efee30d1",
   "metadata": {},
   "source": [
    "## n = 1 的情形"
   ]
  },
  {
   "cell_type": "code",
   "execution_count": 5,
   "id": "269dda00",
   "metadata": {},
   "outputs": [
    {
     "data": {
      "text/plain": [
       "Text(0.5, 1.0, 'Size=1')"
      ]
     },
     "execution_count": 5,
     "metadata": {},
     "output_type": "execute_result"
    },
    {
     "data": {
      "image/png": "[encoded data removed]",
      "text/plain": [
       "<Figure size 432x288 with 1 Axes>"
      ]
     },
     "metadata": {
      "needs_background": "light"
     },
     "output_type": "display_data"
    }
   ],
   "source": [
    "# 重复抽取100次\n",
    "\n",
    "sample_mean =[]\n",
    "for i in range(1, 10000):\n",
    "    s = np.random.choice(data, size=1).mean()\n",
    "    sample_mean.append(s)\n",
    "sns.histplot(sample_mean)\n",
    "plt.title(\"Size=1\")   "
   ]
  },
  {
   "cell_type": "markdown",
   "id": "6ad5e28e",
   "metadata": {},
   "source": [
    "## n = 5 的情形"
   ]
  },
  {
   "cell_type": "code",
   "execution_count": 6,
   "id": "cbfbc35b",
   "metadata": {},
   "outputs": [
    {
     "data": {
      "text/plain": [
       "Text(0.5, 1.0, 'Size=5')"
      ]
     },
     "execution_count": 6,
     "metadata": {},
     "output_type": "execute_result"
    },
    {
     "data": {
      "image/png": "[encoded data removed]",
      "text/plain": [
       "<Figure size 432x288 with 1 Axes>"
      ]
     },
     "metadata": {
      "needs_background": "light"
     },
     "output_type": "display_data"
    }
   ],
   "source": [
    "# 重复抽取10000次\n",
    "\n",
    "sample_mean =[]\n",
    "for i in range(1, 10000):\n",
    "    s = np.random.choice(data, size=5).mean()\n",
    "    sample_mean.append(s)\n",
    "sns.histplot(sample_mean)\n",
    "plt.title(\"Size=5\")   "
   ]
  },
  {
   "cell_type": "markdown",
   "id": "2c8fd081",
   "metadata": {},
   "source": [
    "## n = 10 的情形"
   ]
  },
  {
   "cell_type": "code",
   "execution_count": 7,
   "id": "fe62873f",
   "metadata": {},
   "outputs": [
    {
     "data": {
      "text/plain": [
       "Text(0.5, 1.0, 'Size=10')"
      ]
     },
     "execution_count": 7,
     "metadata": {},
     "output_type": "execute_result"
    },
    {
     "data": {
      "image/png": "[encoded data removed]",
      "text/plain": [
       "<Figure size 432x288 with 1 Axes>"
      ]
     },
     "metadata": {
      "needs_background": "light"
     },
     "output_type": "display_data"
    }
   ],
   "source": [
    "# 重复抽取10000次\n",
    "\n",
    "sample_mean =[]\n",
    "for i in range(1, 10000):\n",
    "    s = np.random.choice(data, size=10).mean()\n",
    "    sample_mean.append(s)\n",
    "sns.histplot(sample_mean)\n",
    "plt.title(\"Size=10\")   "
   ]
  },
  {
   "cell_type": "markdown",
   "id": "9d7052e4",
   "metadata": {},
   "source": [
    "## n = 50 的情形"
   ]
  },
  {
   "cell_type": "code",
   "execution_count": 8,
   "id": "b84ba8a6",
   "metadata": {},
   "outputs": [
    {
     "data": {
      "text/plain": [
       "Text(0.5, 1.0, 'Size=50')"
      ]
     },
     "execution_count": 8,
     "metadata": {},
     "output_type": "execute_result"
    },
    {
     "data": {
      "image/png": "[encoded data removed]",
      "text/plain": [
       "<Figure size 432x288 with 1 Axes>"
      ]
     },
     "metadata": {
      "needs_background": "light"
     },
     "output_type": "display_data"
    }
   ],
   "source": [
    "# 重复抽取10000次\n",
    "\n",
    "sample_mean =[]\n",
    "for i in range(1, 10000):\n",
    "    s = np.random.choice(data, size=50).mean()\n",
    "    sample_mean.append(s)\n",
    "sns.histplot(sample_mean)\n",
    "plt.title(\"Size=50\")   "
   ]
  },
  {
   "cell_type": "code",
   "execution_count": null,
   "id": "a7c8a896-41b0-4292-9364-5f7aaf2a70ec",
   "metadata": {},
   "outputs": [],
   "source": []
  }
 ],
 "metadata": {
  "interpreter": {
   "hash": "8ab0d968002a578cf1e1aa041721a175249ba338f6da29efa5ef1a380c630376"
  },
  "kernelspec": {
   "display_name": "Python 3",
   "language": "python",
   "name": "python3"
  },
  "language_info": {
   "codemirror_mode": {
    "name": "ipython",
    "version": 3
   },
   "file_extension": ".py",
   "mimetype": "text/x-python",
   "name": "python",
   "nbconvert_exporter": "python",
   "pygments_lexer": "ipython3",
   "version": "3.8.8"
  }
 },
 "nbformat": 4,
 "nbformat_minor": 5
}
