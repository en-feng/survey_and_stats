{
 "cells": [
  {
   "cell_type": "code",
   "execution_count": null,
   "id": "880ec8b5-8ab8-4f02-a6e5-97f19fd984c9",
   "metadata": {},
   "outputs": [],
   "source": [
    "import numpy as np\n"
   ]
  },
  {
   "cell_type": "code",
   "execution_count": 8,
   "id": "5cfd5950-805c-47cb-af30-b0dfef735fb5",
   "metadata": {},
   "outputs": [],
   "source": [
    "class = "
   ]
  },
  {
   "cell_type": "code",
   "execution_count": null,
   "id": "5cbcfac4-b027-4c76-9931-6c6a733c2adf",
   "metadata": {},
   "outputs": [],
   "source": [
    "np.random.choice(class, size = 1, replace = False)"
   ]
  },
  {
   "cell_type": "code",
   "execution_count": null,
   "id": "4f08c044-1b3c-4fb8-9ad3-1b808c87b373",
   "metadata": {},
   "outputs": [],
   "source": []
  },
  {
   "cell_type": "code",
   "execution_count": null,
   "id": "10b09065-748b-471c-8628-27bdf363c295",
   "metadata": {},
   "outputs": [],
   "source": []
  },
  {
   "cell_type": "code",
   "execution_count": null,
   "id": "c7895c45-9f42-4c02-98e4-803976134125",
   "metadata": {},
   "outputs": [],
   "source": []
  }
 ],
 "metadata": {
  "kernelspec": {
   "display_name": "Python 3",
   "language": "python",
   "name": "python3"
  },
  "language_info": {
   "codemirror_mode": {
    "name": "ipython",
    "version": 3
   },
   "file_extension": ".py",
   "mimetype": "text/x-python",
   "name": "python",
   "nbconvert_exporter": "python",
   "pygments_lexer": "ipython3",
   "version": "3.8.8"
  }
 },
 "nbformat": 4,
 "nbformat_minor": 5
}
