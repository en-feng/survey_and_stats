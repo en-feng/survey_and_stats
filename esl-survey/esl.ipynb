{
 "cells": [
  {
   "cell_type": "code",
   "execution_count": 1,
   "metadata": {},
   "outputs": [],
   "source": [
    "# 整理数据的库\n",
    "import numpy as np\n",
    "import pandas as pd\n",
    "# 数据可视化的库\n",
    "import matplotlib as mpl\n",
    "import matplotlib.pyplot as plt\n",
    "import seaborn as sns\n",
    "\n",
    "plt.rcParams['font.sans-serif'] = ['SimHei']  # 中文字体设置-黑体\n",
    "plt.rcParams['axes.unicode_minus'] = False  # 解决保存图像是负号'-'显示为方块的问题\n",
    "sns.set(font='SimHei')  # 解决Seaborn中文显示问题\n",
    "# 数据分析的库\n",
    "from scipy import stats\n",
    "import scipy.stats as stats\n",
    "import statsmodels.formula.api as smf # 回归分析\n",
    "from scipy.stats import chi2_contingency #卡方检验\n",
    "import pingouin as pg\n",
    "# 其它\n",
    "import warnings\n",
    "warnings.filterwarnings('ignore') #忽视警告\n"
   ]
  },
  {
   "cell_type": "code",
   "execution_count": 2,
   "metadata": {},
   "outputs": [],
   "source": [
    "# 读取数据\n",
    "df = pd.read_excel(\"D:\\\\work\\github\\\\survey_and_stats\\\\esl-survey\\\\esl.xlsx\")"
   ]
  },
  {
   "cell_type": "markdown",
   "metadata": {},
   "source": [
    "# 数据清洗"
   ]
  },
  {
   "cell_type": "code",
   "execution_count": 3,
   "metadata": {},
   "outputs": [],
   "source": [
    "# 定义函数方法:将数字和数字和代表含义一一映射\n",
    "\n",
    "# usage：1为\"是\"，其余为\"否\"\n",
    "def usage(series):\n",
    "    if series == 1:\n",
    "        return '是'\n",
    "    else:\n",
    "        return '否'\n",
    "\n",
    "# select：1为\"选中\"，其余为\"未选中\"\n",
    "def select(series):\n",
    "    if series == 1:\n",
    "        return '选中'\n",
    "    else:\n",
    "        return '未选中'\n",
    "\n",
    "# cet：1为\"通过了\"，2为\"未通过\"\n",
    "def cet(series):\n",
    "    if series == 1:\n",
    "        return '通过了'\n",
    "    else:\n",
    "        return '未通过'\n",
    "\n",
    "# gender变量：1为男性，2为女性\n",
    "def gender(series):\n",
    "    if series == 1:\n",
    "        return '男性'\n",
    "    else:\n",
    "        return '女性'\n",
    "# hukou变量：1为城镇，2为非城镇\n",
    "def hukou(series):\n",
    "    if series == 1:\n",
    "        return '城镇类'\n",
    "    else:\n",
    "        return '非城镇类'\n",
    "# grade变量：1-4为大一~大四\n",
    "def grade (series):\n",
    "    if series == 1:\n",
    "        return \"大一\"\n",
    "    elif series == 2:\n",
    "        return \"大二\"\n",
    "    elif series == 3:\n",
    "        return \"大三\"\n",
    "    else:\n",
    "        return \"大四\"\n",
    "# like变量：1为喜欢，0为不喜欢\n",
    "def major_type(series):\n",
    "    if series == 1:\n",
    "        return '人文社科类'\n",
    "    else:\n",
    "        return '理工医类'\n",
    "# school变量：1=商学院,2=电子与计算机工程学院,3=文学与传媒学院,4=护理与健康学院,5=艺术设计与创意产业系,6=会计学院,7=外国语学院,8=云康医学与健康学院,9=公共管理学院,10=音乐系，\n",
    "def school (series):\n",
    "    if series == 1:\n",
    "        return \"商学院\"\n",
    "    elif series == 2:\n",
    "        return \"电子与计算机工程学院\"\n",
    "    elif series == 3:\n",
    "        return \"文学与传媒学院\"\n",
    "    elif series == 4:\n",
    "        return \"护理与健康学院\"\n",
    "    elif series == 5:\n",
    "        return \"艺术设计与创意产业系\"\n",
    "    elif series == 6:\n",
    "        return \"会计学院\"\n",
    "    elif series == 7:\n",
    "        return \"外国语学院\"\n",
    "    elif series == 8:\n",
    "        return \"云康医学与健康学院\"\n",
    "    elif series == 9:\n",
    "        return \"公共管理学院\"\n",
    "    else:\n",
    "        return \"音乐系\"\n",
    "# major变量：1=英语系,2=日语系,3=法语系,4=汉语国际教育系\n",
    "def major (series):\n",
    "    if series == 1:\n",
    "        return \"英语系\"\n",
    "    elif series == 2:\n",
    "        return \"日语系\"\n",
    "    elif series == 3:\n",
    "        return \"法语系\"\n",
    "    else:\n",
    "        return \"汉语国际教育系\"\n",
    "\n"
   ]
  },
  {
   "cell_type": "code",
   "execution_count": 4,
   "metadata": {},
   "outputs": [],
   "source": [
    "# 将Q1，Q3,Q4,Q12 ~ Q17 变量转为“类别型变量”\n",
    "df.usage = df.usage.apply(usage).astype('category')\n",
    "df.cet4 = df.cet4.apply(cet).astype('category')\n",
    "df.cet6 = df.cet6.apply(cet).astype('category')\n",
    "df.gender = df.gender.apply(gender).astype('category')\n",
    "df.hukou = df.hukou.apply(hukou).astype('category')\n",
    "df.grade = df.grade.apply(grade).astype('category')\n",
    "df.major_type = df.major_type.apply(major_type).astype('category')\n",
    "df.grade = df.grade.apply(grade).astype('category')\n",
    "df.school = df.school.apply(school).astype('category')\n",
    "df.major = df.major.apply(major).astype('category')"
   ]
  },
  {
   "cell_type": "code",
   "execution_count": 5,
   "metadata": {},
   "outputs": [
    {
     "name": "stdout",
     "output_type": "stream",
     "text": [
      "0 usage\n",
      "1 platform_bilibili\n",
      "2 platform_icourse\n",
      "3 platform_tencent\n",
      "4 platform_other\n",
      "5 cet4\n",
      "6 cet6\n",
      "7 gaokao\n",
      "8 digital_skill\n",
      "9 study_grammar\n",
      "10 study_vocabulary\n",
      "11 study_listening\n",
      "12 study_speaking\n",
      "13 study_writing\n",
      "14 study_translation\n",
      "15 study_reading\n",
      "16 behav_1\n",
      "17 behav_2\n",
      "18 behav_3\n",
      "19 behav_4\n",
      "20 behav_5\n",
      "21 behav_6\n",
      "22 cogn_1\n",
      "23 cogn_2\n",
      "24 cogn_3\n",
      "25 cogn_4\n",
      "26 cogn_5\n",
      "27 cogn_6\n",
      "28 emo_1\n",
      "29 emo_2\n",
      "30 emo_3\n",
      "31 emo_4\n",
      "32 soc_1\n",
      "33 soc_2\n",
      "34 soc_3\n",
      "35 gender\n",
      "36 hukou\n",
      "37 grade\n",
      "38 major_type\n",
      "39 school\n",
      "40 major\n"
     ]
    }
   ],
   "source": [
    "# 看一下每一个变量对应的是第几个变量（变量名前的数字为其顺序）\n",
    "for i in range(len(df.columns)):\n",
    "    print(i,df.columns[i])"
   ]
  },
  {
   "cell_type": "code",
   "execution_count": 6,
   "metadata": {},
   "outputs": [],
   "source": [
    "# 将以“platform_”开头的变量（第1~9列的变量）转为“类别型变量”\n",
    "for i in range(1,5):\n",
    "    df.iloc[:,i] = df.iloc[:,i].apply(select).astype('category')"
   ]
  },
  {
   "cell_type": "code",
   "execution_count": 7,
   "metadata": {},
   "outputs": [
    {
     "data": {
      "text/html": [
       "<div>\n",
       "<style scoped>\n",
       "    .dataframe tbody tr th:only-of-type {\n",
       "        vertical-align: middle;\n",
       "    }\n",
       "\n",
       "    .dataframe tbody tr th {\n",
       "        vertical-align: top;\n",
       "    }\n",
       "\n",
       "    .dataframe thead th {\n",
       "        text-align: right;\n",
       "    }\n",
       "</style>\n",
       "<table border=\"1\" class=\"dataframe\">\n",
       "  <thead>\n",
       "    <tr style=\"text-align: right;\">\n",
       "      <th></th>\n",
       "      <th>platform_bilibili</th>\n",
       "      <th>platform_icourse</th>\n",
       "      <th>platform_tencent</th>\n",
       "      <th>platform_other</th>\n",
       "    </tr>\n",
       "  </thead>\n",
       "  <tbody>\n",
       "    <tr>\n",
       "      <th>0</th>\n",
       "      <td>未选中</td>\n",
       "      <td>未选中</td>\n",
       "      <td>未选中</td>\n",
       "      <td>未选中</td>\n",
       "    </tr>\n",
       "    <tr>\n",
       "      <th>1</th>\n",
       "      <td>选中</td>\n",
       "      <td>选中</td>\n",
       "      <td>选中</td>\n",
       "      <td>未选中</td>\n",
       "    </tr>\n",
       "    <tr>\n",
       "      <th>2</th>\n",
       "      <td>未选中</td>\n",
       "      <td>未选中</td>\n",
       "      <td>未选中</td>\n",
       "      <td>未选中</td>\n",
       "    </tr>\n",
       "    <tr>\n",
       "      <th>3</th>\n",
       "      <td>未选中</td>\n",
       "      <td>未选中</td>\n",
       "      <td>未选中</td>\n",
       "      <td>未选中</td>\n",
       "    </tr>\n",
       "    <tr>\n",
       "      <th>4</th>\n",
       "      <td>未选中</td>\n",
       "      <td>未选中</td>\n",
       "      <td>未选中</td>\n",
       "      <td>未选中</td>\n",
       "    </tr>\n",
       "  </tbody>\n",
       "</table>\n",
       "</div>"
      ],
      "text/plain": [
       "  platform_bilibili platform_icourse platform_tencent platform_other\n",
       "0               未选中              未选中              未选中            未选中\n",
       "1                选中               选中               选中            未选中\n",
       "2               未选中              未选中              未选中            未选中\n",
       "3               未选中              未选中              未选中            未选中\n",
       "4               未选中              未选中              未选中            未选中"
      ]
     },
     "execution_count": 7,
     "metadata": {},
     "output_type": "execute_result"
    }
   ],
   "source": [
    "# 检查一下结果\n",
    "df.filter(regex = \"^platform_.*\").head(5)"
   ]
  },
  {
   "cell_type": "markdown",
   "metadata": {},
   "source": [
    "# 拆分子样本"
   ]
  },
  {
   "cell_type": "code",
   "execution_count": 8,
   "metadata": {},
   "outputs": [],
   "source": [
    "df_subsample = df[df.usage == \"是\"]"
   ]
  },
  {
   "cell_type": "code",
   "execution_count": 9,
   "metadata": {},
   "outputs": [
    {
     "data": {
      "text/html": [
       "<div>\n",
       "<style scoped>\n",
       "    .dataframe tbody tr th:only-of-type {\n",
       "        vertical-align: middle;\n",
       "    }\n",
       "\n",
       "    .dataframe tbody tr th {\n",
       "        vertical-align: top;\n",
       "    }\n",
       "\n",
       "    .dataframe thead th {\n",
       "        text-align: right;\n",
       "    }\n",
       "</style>\n",
       "<table border=\"1\" class=\"dataframe\">\n",
       "  <thead>\n",
       "    <tr style=\"text-align: right;\">\n",
       "      <th></th>\n",
       "      <th>usage</th>\n",
       "      <th>platform_bilibili</th>\n",
       "      <th>platform_icourse</th>\n",
       "      <th>platform_tencent</th>\n",
       "      <th>platform_other</th>\n",
       "      <th>cet4</th>\n",
       "      <th>cet6</th>\n",
       "      <th>gaokao</th>\n",
       "      <th>digital_skill</th>\n",
       "      <th>study_grammar</th>\n",
       "      <th>...</th>\n",
       "      <th>emo_4</th>\n",
       "      <th>soc_1</th>\n",
       "      <th>soc_2</th>\n",
       "      <th>soc_3</th>\n",
       "      <th>gender</th>\n",
       "      <th>hukou</th>\n",
       "      <th>grade</th>\n",
       "      <th>major_type</th>\n",
       "      <th>school</th>\n",
       "      <th>major</th>\n",
       "    </tr>\n",
       "  </thead>\n",
       "  <tbody>\n",
       "    <tr>\n",
       "      <th>1</th>\n",
       "      <td>是</td>\n",
       "      <td>选中</td>\n",
       "      <td>选中</td>\n",
       "      <td>选中</td>\n",
       "      <td>未选中</td>\n",
       "      <td>未通过</td>\n",
       "      <td>未通过</td>\n",
       "      <td>4</td>\n",
       "      <td>4</td>\n",
       "      <td>2</td>\n",
       "      <td>...</td>\n",
       "      <td>4</td>\n",
       "      <td>4</td>\n",
       "      <td>5</td>\n",
       "      <td>4</td>\n",
       "      <td>男性</td>\n",
       "      <td>城镇类</td>\n",
       "      <td>大四</td>\n",
       "      <td>人文社科类</td>\n",
       "      <td>文学与传媒学院</td>\n",
       "      <td>汉语国际教育系</td>\n",
       "    </tr>\n",
       "    <tr>\n",
       "      <th>5</th>\n",
       "      <td>是</td>\n",
       "      <td>选中</td>\n",
       "      <td>未选中</td>\n",
       "      <td>未选中</td>\n",
       "      <td>未选中</td>\n",
       "      <td>通过了</td>\n",
       "      <td>未通过</td>\n",
       "      <td>4</td>\n",
       "      <td>4</td>\n",
       "      <td>1</td>\n",
       "      <td>...</td>\n",
       "      <td>6</td>\n",
       "      <td>6</td>\n",
       "      <td>6</td>\n",
       "      <td>6</td>\n",
       "      <td>女性</td>\n",
       "      <td>城镇类</td>\n",
       "      <td>大四</td>\n",
       "      <td>人文社科类</td>\n",
       "      <td>文学与传媒学院</td>\n",
       "      <td>汉语国际教育系</td>\n",
       "    </tr>\n",
       "    <tr>\n",
       "      <th>8</th>\n",
       "      <td>是</td>\n",
       "      <td>未选中</td>\n",
       "      <td>未选中</td>\n",
       "      <td>未选中</td>\n",
       "      <td>选中</td>\n",
       "      <td>未通过</td>\n",
       "      <td>未通过</td>\n",
       "      <td>3</td>\n",
       "      <td>4</td>\n",
       "      <td>1</td>\n",
       "      <td>...</td>\n",
       "      <td>5</td>\n",
       "      <td>2</td>\n",
       "      <td>2</td>\n",
       "      <td>2</td>\n",
       "      <td>女性</td>\n",
       "      <td>城镇类</td>\n",
       "      <td>大四</td>\n",
       "      <td>人文社科类</td>\n",
       "      <td>文学与传媒学院</td>\n",
       "      <td>汉语国际教育系</td>\n",
       "    </tr>\n",
       "    <tr>\n",
       "      <th>9</th>\n",
       "      <td>是</td>\n",
       "      <td>选中</td>\n",
       "      <td>选中</td>\n",
       "      <td>未选中</td>\n",
       "      <td>未选中</td>\n",
       "      <td>未通过</td>\n",
       "      <td>未通过</td>\n",
       "      <td>2</td>\n",
       "      <td>4</td>\n",
       "      <td>3</td>\n",
       "      <td>...</td>\n",
       "      <td>3</td>\n",
       "      <td>2</td>\n",
       "      <td>3</td>\n",
       "      <td>3</td>\n",
       "      <td>女性</td>\n",
       "      <td>非城镇类</td>\n",
       "      <td>大四</td>\n",
       "      <td>人文社科类</td>\n",
       "      <td>文学与传媒学院</td>\n",
       "      <td>汉语国际教育系</td>\n",
       "    </tr>\n",
       "    <tr>\n",
       "      <th>12</th>\n",
       "      <td>是</td>\n",
       "      <td>选中</td>\n",
       "      <td>未选中</td>\n",
       "      <td>未选中</td>\n",
       "      <td>未选中</td>\n",
       "      <td>通过了</td>\n",
       "      <td>通过了</td>\n",
       "      <td>3</td>\n",
       "      <td>5</td>\n",
       "      <td>1</td>\n",
       "      <td>...</td>\n",
       "      <td>4</td>\n",
       "      <td>3</td>\n",
       "      <td>3</td>\n",
       "      <td>3</td>\n",
       "      <td>女性</td>\n",
       "      <td>非城镇类</td>\n",
       "      <td>大四</td>\n",
       "      <td>理工医类</td>\n",
       "      <td>文学与传媒学院</td>\n",
       "      <td>汉语国际教育系</td>\n",
       "    </tr>\n",
       "  </tbody>\n",
       "</table>\n",
       "<p>5 rows × 41 columns</p>\n",
       "</div>"
      ],
      "text/plain": [
       "   usage platform_bilibili platform_icourse platform_tencent platform_other  \\\n",
       "1      是                选中               选中               选中            未选中   \n",
       "5      是                选中              未选中              未选中            未选中   \n",
       "8      是               未选中              未选中              未选中             选中   \n",
       "9      是                选中               选中              未选中            未选中   \n",
       "12     是                选中              未选中              未选中            未选中   \n",
       "\n",
       "   cet4 cet6  gaokao  digital_skill  study_grammar  ...  emo_4  soc_1  soc_2  \\\n",
       "1   未通过  未通过       4              4              2  ...      4      4      5   \n",
       "5   通过了  未通过       4              4              1  ...      6      6      6   \n",
       "8   未通过  未通过       3              4              1  ...      5      2      2   \n",
       "9   未通过  未通过       2              4              3  ...      3      2      3   \n",
       "12  通过了  通过了       3              5              1  ...      4      3      3   \n",
       "\n",
       "    soc_3  gender  hukou  grade  major_type   school    major  \n",
       "1       4      男性    城镇类     大四       人文社科类  文学与传媒学院  汉语国际教育系  \n",
       "5       6      女性    城镇类     大四       人文社科类  文学与传媒学院  汉语国际教育系  \n",
       "8       2      女性    城镇类     大四       人文社科类  文学与传媒学院  汉语国际教育系  \n",
       "9       3      女性   非城镇类     大四       人文社科类  文学与传媒学院  汉语国际教育系  \n",
       "12      3      女性   非城镇类     大四        理工医类  文学与传媒学院  汉语国际教育系  \n",
       "\n",
       "[5 rows x 41 columns]"
      ]
     },
     "execution_count": 9,
     "metadata": {},
     "output_type": "execute_result"
    }
   ],
   "source": [
    "#检查一下结果\n",
    "df_subsample.head(5)"
   ]
  },
  {
   "cell_type": "markdown",
   "metadata": {},
   "source": [
    "# 数据计算"
   ]
  },
  {
   "cell_type": "code",
   "execution_count": 10,
   "metadata": {},
   "outputs": [],
   "source": [
    "#计算behav,cogn,emo,soc这四个变量"
   ]
  },
  {
   "cell_type": "code",
   "execution_count": 11,
   "metadata": {},
   "outputs": [],
   "source": [
    "df_subsample[\"behav\"]=(df_subsample.behav_1+df_subsample.behav_2+df_subsample.behav_3+df_subsample.behav_4+df_subsample.behav_5+df_subsample.behav_6)/6\n",
    "df_subsample[\"cogn\"]=(df_subsample.cogn_1+df_subsample.cogn_2+df_subsample.cogn_3+df_subsample.cogn_4+df_subsample.cogn_5+df_subsample.cogn_6)/6\n",
    "df_subsample[\"emo\"]=(df_subsample.emo_1+df_subsample.emo_2+df_subsample.emo_3+df_subsample.emo_4)/4\n",
    "df_subsample[\"soc\"]=(df_subsample.soc_1+df_subsample.soc_2+df_subsample.soc_3)/3"
   ]
  },
  {
   "cell_type": "code",
   "execution_count": 12,
   "metadata": {},
   "outputs": [
    {
     "data": {
      "text/html": [
       "<div>\n",
       "<style scoped>\n",
       "    .dataframe tbody tr th:only-of-type {\n",
       "        vertical-align: middle;\n",
       "    }\n",
       "\n",
       "    .dataframe tbody tr th {\n",
       "        vertical-align: top;\n",
       "    }\n",
       "\n",
       "    .dataframe thead th {\n",
       "        text-align: right;\n",
       "    }\n",
       "</style>\n",
       "<table border=\"1\" class=\"dataframe\">\n",
       "  <thead>\n",
       "    <tr style=\"text-align: right;\">\n",
       "      <th></th>\n",
       "      <th>usage</th>\n",
       "      <th>platform_bilibili</th>\n",
       "      <th>platform_icourse</th>\n",
       "      <th>platform_tencent</th>\n",
       "      <th>platform_other</th>\n",
       "      <th>cet4</th>\n",
       "      <th>cet6</th>\n",
       "      <th>gaokao</th>\n",
       "      <th>digital_skill</th>\n",
       "      <th>study_grammar</th>\n",
       "      <th>...</th>\n",
       "      <th>gender</th>\n",
       "      <th>hukou</th>\n",
       "      <th>grade</th>\n",
       "      <th>major_type</th>\n",
       "      <th>school</th>\n",
       "      <th>major</th>\n",
       "      <th>behav</th>\n",
       "      <th>cogn</th>\n",
       "      <th>emo</th>\n",
       "      <th>soc</th>\n",
       "    </tr>\n",
       "  </thead>\n",
       "  <tbody>\n",
       "    <tr>\n",
       "      <th>1</th>\n",
       "      <td>是</td>\n",
       "      <td>选中</td>\n",
       "      <td>选中</td>\n",
       "      <td>选中</td>\n",
       "      <td>未选中</td>\n",
       "      <td>未通过</td>\n",
       "      <td>未通过</td>\n",
       "      <td>4</td>\n",
       "      <td>4</td>\n",
       "      <td>2</td>\n",
       "      <td>...</td>\n",
       "      <td>男性</td>\n",
       "      <td>城镇类</td>\n",
       "      <td>大四</td>\n",
       "      <td>人文社科类</td>\n",
       "      <td>文学与传媒学院</td>\n",
       "      <td>汉语国际教育系</td>\n",
       "      <td>3.333333</td>\n",
       "      <td>4.000000</td>\n",
       "      <td>4.75</td>\n",
       "      <td>4.333333</td>\n",
       "    </tr>\n",
       "    <tr>\n",
       "      <th>5</th>\n",
       "      <td>是</td>\n",
       "      <td>选中</td>\n",
       "      <td>未选中</td>\n",
       "      <td>未选中</td>\n",
       "      <td>未选中</td>\n",
       "      <td>通过了</td>\n",
       "      <td>未通过</td>\n",
       "      <td>4</td>\n",
       "      <td>4</td>\n",
       "      <td>1</td>\n",
       "      <td>...</td>\n",
       "      <td>女性</td>\n",
       "      <td>城镇类</td>\n",
       "      <td>大四</td>\n",
       "      <td>人文社科类</td>\n",
       "      <td>文学与传媒学院</td>\n",
       "      <td>汉语国际教育系</td>\n",
       "      <td>4.000000</td>\n",
       "      <td>6.000000</td>\n",
       "      <td>6.00</td>\n",
       "      <td>6.000000</td>\n",
       "    </tr>\n",
       "    <tr>\n",
       "      <th>8</th>\n",
       "      <td>是</td>\n",
       "      <td>未选中</td>\n",
       "      <td>未选中</td>\n",
       "      <td>未选中</td>\n",
       "      <td>选中</td>\n",
       "      <td>未通过</td>\n",
       "      <td>未通过</td>\n",
       "      <td>3</td>\n",
       "      <td>4</td>\n",
       "      <td>1</td>\n",
       "      <td>...</td>\n",
       "      <td>女性</td>\n",
       "      <td>城镇类</td>\n",
       "      <td>大四</td>\n",
       "      <td>人文社科类</td>\n",
       "      <td>文学与传媒学院</td>\n",
       "      <td>汉语国际教育系</td>\n",
       "      <td>2.500000</td>\n",
       "      <td>2.000000</td>\n",
       "      <td>2.75</td>\n",
       "      <td>2.000000</td>\n",
       "    </tr>\n",
       "    <tr>\n",
       "      <th>9</th>\n",
       "      <td>是</td>\n",
       "      <td>选中</td>\n",
       "      <td>选中</td>\n",
       "      <td>未选中</td>\n",
       "      <td>未选中</td>\n",
       "      <td>未通过</td>\n",
       "      <td>未通过</td>\n",
       "      <td>2</td>\n",
       "      <td>4</td>\n",
       "      <td>3</td>\n",
       "      <td>...</td>\n",
       "      <td>女性</td>\n",
       "      <td>非城镇类</td>\n",
       "      <td>大四</td>\n",
       "      <td>人文社科类</td>\n",
       "      <td>文学与传媒学院</td>\n",
       "      <td>汉语国际教育系</td>\n",
       "      <td>3.833333</td>\n",
       "      <td>4.333333</td>\n",
       "      <td>4.25</td>\n",
       "      <td>2.666667</td>\n",
       "    </tr>\n",
       "    <tr>\n",
       "      <th>12</th>\n",
       "      <td>是</td>\n",
       "      <td>选中</td>\n",
       "      <td>未选中</td>\n",
       "      <td>未选中</td>\n",
       "      <td>未选中</td>\n",
       "      <td>通过了</td>\n",
       "      <td>通过了</td>\n",
       "      <td>3</td>\n",
       "      <td>5</td>\n",
       "      <td>1</td>\n",
       "      <td>...</td>\n",
       "      <td>女性</td>\n",
       "      <td>非城镇类</td>\n",
       "      <td>大四</td>\n",
       "      <td>理工医类</td>\n",
       "      <td>文学与传媒学院</td>\n",
       "      <td>汉语国际教育系</td>\n",
       "      <td>3.166667</td>\n",
       "      <td>3.000000</td>\n",
       "      <td>4.00</td>\n",
       "      <td>3.000000</td>\n",
       "    </tr>\n",
       "  </tbody>\n",
       "</table>\n",
       "<p>5 rows × 45 columns</p>\n",
       "</div>"
      ],
      "text/plain": [
       "   usage platform_bilibili platform_icourse platform_tencent platform_other  \\\n",
       "1      是                选中               选中               选中            未选中   \n",
       "5      是                选中              未选中              未选中            未选中   \n",
       "8      是               未选中              未选中              未选中             选中   \n",
       "9      是                选中               选中              未选中            未选中   \n",
       "12     是                选中              未选中              未选中            未选中   \n",
       "\n",
       "   cet4 cet6  gaokao  digital_skill  study_grammar  ...  gender  hukou  grade  \\\n",
       "1   未通过  未通过       4              4              2  ...      男性    城镇类     大四   \n",
       "5   通过了  未通过       4              4              1  ...      女性    城镇类     大四   \n",
       "8   未通过  未通过       3              4              1  ...      女性    城镇类     大四   \n",
       "9   未通过  未通过       2              4              3  ...      女性   非城镇类     大四   \n",
       "12  通过了  通过了       3              5              1  ...      女性   非城镇类     大四   \n",
       "\n",
       "    major_type   school    major     behav      cogn   emo       soc  \n",
       "1        人文社科类  文学与传媒学院  汉语国际教育系  3.333333  4.000000  4.75  4.333333  \n",
       "5        人文社科类  文学与传媒学院  汉语国际教育系  4.000000  6.000000  6.00  6.000000  \n",
       "8        人文社科类  文学与传媒学院  汉语国际教育系  2.500000  2.000000  2.75  2.000000  \n",
       "9        人文社科类  文学与传媒学院  汉语国际教育系  3.833333  4.333333  4.25  2.666667  \n",
       "12        理工医类  文学与传媒学院  汉语国际教育系  3.166667  3.000000  4.00  3.000000  \n",
       "\n",
       "[5 rows x 45 columns]"
      ]
     },
     "execution_count": 12,
     "metadata": {},
     "output_type": "execute_result"
    }
   ],
   "source": [
    "#检查一下数据\n",
    "df_subsample.head(5)"
   ]
  },
  {
   "cell_type": "code",
   "execution_count": 38,
   "metadata": {},
   "outputs": [
    {
     "data": {
      "text/plain": [
       "0        文学与传媒学院\n",
       "1        文学与传媒学院\n",
       "2        文学与传媒学院\n",
       "3        文学与传媒学院\n",
       "4        文学与传媒学院\n",
       "5        文学与传媒学院\n",
       "6        文学与传媒学院\n",
       "7        文学与传媒学院\n",
       "8        文学与传媒学院\n",
       "9        文学与传媒学院\n",
       "10       文学与传媒学院\n",
       "11       文学与传媒学院\n",
       "12       文学与传媒学院\n",
       "13       文学与传媒学院\n",
       "14       文学与传媒学院\n",
       "15       文学与传媒学院\n",
       "16       文学与传媒学院\n",
       "17       文学与传媒学院\n",
       "18       文学与传媒学院\n",
       "19       文学与传媒学院\n",
       "20       文学与传媒学院\n",
       "21       文学与传媒学院\n",
       "22       文学与传媒学院\n",
       "23       文学与传媒学院\n",
       "24       文学与传媒学院\n",
       "25    电子与计算机工程学院\n",
       "26       文学与传媒学院\n",
       "27       文学与传媒学院\n",
       "28       文学与传媒学院\n",
       "29       文学与传媒学院\n",
       "30    电子与计算机工程学院\n",
       "31       文学与传媒学院\n",
       "32    电子与计算机工程学院\n",
       "33           商学院\n",
       "34          会计学院\n",
       "35        公共管理学院\n",
       "36           商学院\n",
       "37           商学院\n",
       "38          会计学院\n",
       "39           音乐系\n",
       "40       文学与传媒学院\n",
       "41        公共管理学院\n",
       "42          会计学院\n",
       "43          会计学院\n",
       "44        公共管理学院\n",
       "45        公共管理学院\n",
       "46    艺术设计与创意产业系\n",
       "47           商学院\n",
       "48           商学院\n",
       "49           商学院\n",
       "50           商学院\n",
       "51           商学院\n",
       "52           商学院\n",
       "53    电子与计算机工程学院\n",
       "54           商学院\n",
       "55          会计学院\n",
       "56     云康医学与健康学院\n",
       "Name: school, dtype: category\n",
       "Categories (8, object): ['云康医学与健康学院', '会计学院', '公共管理学院', '商学院', '文学与传媒学院', '电子与计算机工程学院', '艺术设计与创意产业系', '音乐系']"
      ]
     },
     "execution_count": 38,
     "metadata": {},
     "output_type": "execute_result"
    }
   ],
   "source": [
    "df[\"school\"]"
   ]
  },
  {
   "cell_type": "markdown",
   "metadata": {},
   "source": [
    "# 数据分析"
   ]
  },
  {
   "cell_type": "markdown",
   "metadata": {},
   "source": [
    "## ✨探索数据（描述性统计）"
   ]
  },
  {
   "cell_type": "code",
   "execution_count": 13,
   "metadata": {},
   "outputs": [
    {
     "data": {
      "text/html": [
       "<div>\n",
       "<style scoped>\n",
       "    .dataframe tbody tr th:only-of-type {\n",
       "        vertical-align: middle;\n",
       "    }\n",
       "\n",
       "    .dataframe tbody tr th {\n",
       "        vertical-align: top;\n",
       "    }\n",
       "\n",
       "    .dataframe thead th {\n",
       "        text-align: right;\n",
       "    }\n",
       "</style>\n",
       "<table border=\"1\" class=\"dataframe\">\n",
       "  <thead>\n",
       "    <tr style=\"text-align: right;\">\n",
       "      <th></th>\n",
       "      <th>gaokao</th>\n",
       "      <th>digital_skill</th>\n",
       "      <th>study_grammar</th>\n",
       "      <th>study_vocabulary</th>\n",
       "      <th>study_listening</th>\n",
       "      <th>study_speaking</th>\n",
       "      <th>study_writing</th>\n",
       "      <th>study_translation</th>\n",
       "      <th>study_reading</th>\n",
       "      <th>behav_1</th>\n",
       "      <th>...</th>\n",
       "      <th>emo_2</th>\n",
       "      <th>emo_3</th>\n",
       "      <th>emo_4</th>\n",
       "      <th>soc_1</th>\n",
       "      <th>soc_2</th>\n",
       "      <th>soc_3</th>\n",
       "      <th>behav</th>\n",
       "      <th>cogn</th>\n",
       "      <th>emo</th>\n",
       "      <th>soc</th>\n",
       "    </tr>\n",
       "  </thead>\n",
       "  <tbody>\n",
       "    <tr>\n",
       "      <th>count</th>\n",
       "      <td>29.000000</td>\n",
       "      <td>29.000000</td>\n",
       "      <td>29.000000</td>\n",
       "      <td>29.000000</td>\n",
       "      <td>29.000000</td>\n",
       "      <td>29.000000</td>\n",
       "      <td>29.000000</td>\n",
       "      <td>29.000000</td>\n",
       "      <td>29.000000</td>\n",
       "      <td>29.000000</td>\n",
       "      <td>...</td>\n",
       "      <td>29.000000</td>\n",
       "      <td>29.000000</td>\n",
       "      <td>29.000000</td>\n",
       "      <td>29.000000</td>\n",
       "      <td>29.000000</td>\n",
       "      <td>29.000000</td>\n",
       "      <td>29.000000</td>\n",
       "      <td>29.000000</td>\n",
       "      <td>29.000000</td>\n",
       "      <td>29.000000</td>\n",
       "    </tr>\n",
       "    <tr>\n",
       "      <th>mean</th>\n",
       "      <td>2.827586</td>\n",
       "      <td>3.896552</td>\n",
       "      <td>1.896552</td>\n",
       "      <td>2.862069</td>\n",
       "      <td>2.344828</td>\n",
       "      <td>1.931034</td>\n",
       "      <td>2.034483</td>\n",
       "      <td>2.206897</td>\n",
       "      <td>2.482759</td>\n",
       "      <td>3.413793</td>\n",
       "      <td>...</td>\n",
       "      <td>3.758621</td>\n",
       "      <td>3.758621</td>\n",
       "      <td>4.034483</td>\n",
       "      <td>3.517241</td>\n",
       "      <td>3.241379</td>\n",
       "      <td>3.482759</td>\n",
       "      <td>3.298851</td>\n",
       "      <td>3.793103</td>\n",
       "      <td>3.896552</td>\n",
       "      <td>3.413793</td>\n",
       "    </tr>\n",
       "    <tr>\n",
       "      <th>std</th>\n",
       "      <td>1.071346</td>\n",
       "      <td>0.859602</td>\n",
       "      <td>0.816999</td>\n",
       "      <td>0.953345</td>\n",
       "      <td>0.813979</td>\n",
       "      <td>0.842235</td>\n",
       "      <td>0.778403</td>\n",
       "      <td>0.861034</td>\n",
       "      <td>0.911070</td>\n",
       "      <td>1.401969</td>\n",
       "      <td>...</td>\n",
       "      <td>1.272095</td>\n",
       "      <td>1.122980</td>\n",
       "      <td>1.017095</td>\n",
       "      <td>1.326130</td>\n",
       "      <td>1.405478</td>\n",
       "      <td>1.271127</td>\n",
       "      <td>1.054449</td>\n",
       "      <td>1.074280</td>\n",
       "      <td>0.978604</td>\n",
       "      <td>1.268217</td>\n",
       "    </tr>\n",
       "    <tr>\n",
       "      <th>min</th>\n",
       "      <td>1.000000</td>\n",
       "      <td>2.000000</td>\n",
       "      <td>1.000000</td>\n",
       "      <td>1.000000</td>\n",
       "      <td>1.000000</td>\n",
       "      <td>1.000000</td>\n",
       "      <td>1.000000</td>\n",
       "      <td>1.000000</td>\n",
       "      <td>1.000000</td>\n",
       "      <td>1.000000</td>\n",
       "      <td>...</td>\n",
       "      <td>1.000000</td>\n",
       "      <td>1.000000</td>\n",
       "      <td>1.000000</td>\n",
       "      <td>1.000000</td>\n",
       "      <td>1.000000</td>\n",
       "      <td>1.000000</td>\n",
       "      <td>1.000000</td>\n",
       "      <td>1.000000</td>\n",
       "      <td>1.000000</td>\n",
       "      <td>1.000000</td>\n",
       "    </tr>\n",
       "    <tr>\n",
       "      <th>25%</th>\n",
       "      <td>2.000000</td>\n",
       "      <td>3.000000</td>\n",
       "      <td>1.000000</td>\n",
       "      <td>2.000000</td>\n",
       "      <td>2.000000</td>\n",
       "      <td>1.000000</td>\n",
       "      <td>1.000000</td>\n",
       "      <td>2.000000</td>\n",
       "      <td>2.000000</td>\n",
       "      <td>2.000000</td>\n",
       "      <td>...</td>\n",
       "      <td>3.000000</td>\n",
       "      <td>3.000000</td>\n",
       "      <td>4.000000</td>\n",
       "      <td>3.000000</td>\n",
       "      <td>2.000000</td>\n",
       "      <td>3.000000</td>\n",
       "      <td>2.500000</td>\n",
       "      <td>3.333333</td>\n",
       "      <td>3.500000</td>\n",
       "      <td>2.333333</td>\n",
       "    </tr>\n",
       "    <tr>\n",
       "      <th>50%</th>\n",
       "      <td>3.000000</td>\n",
       "      <td>4.000000</td>\n",
       "      <td>2.000000</td>\n",
       "      <td>3.000000</td>\n",
       "      <td>2.000000</td>\n",
       "      <td>2.000000</td>\n",
       "      <td>2.000000</td>\n",
       "      <td>2.000000</td>\n",
       "      <td>3.000000</td>\n",
       "      <td>4.000000</td>\n",
       "      <td>...</td>\n",
       "      <td>4.000000</td>\n",
       "      <td>4.000000</td>\n",
       "      <td>4.000000</td>\n",
       "      <td>4.000000</td>\n",
       "      <td>3.000000</td>\n",
       "      <td>4.000000</td>\n",
       "      <td>3.500000</td>\n",
       "      <td>4.000000</td>\n",
       "      <td>4.000000</td>\n",
       "      <td>3.333333</td>\n",
       "    </tr>\n",
       "    <tr>\n",
       "      <th>75%</th>\n",
       "      <td>4.000000</td>\n",
       "      <td>4.000000</td>\n",
       "      <td>2.000000</td>\n",
       "      <td>4.000000</td>\n",
       "      <td>3.000000</td>\n",
       "      <td>2.000000</td>\n",
       "      <td>3.000000</td>\n",
       "      <td>3.000000</td>\n",
       "      <td>3.000000</td>\n",
       "      <td>4.000000</td>\n",
       "      <td>...</td>\n",
       "      <td>4.000000</td>\n",
       "      <td>4.000000</td>\n",
       "      <td>5.000000</td>\n",
       "      <td>4.000000</td>\n",
       "      <td>4.000000</td>\n",
       "      <td>4.000000</td>\n",
       "      <td>4.000000</td>\n",
       "      <td>4.333333</td>\n",
       "      <td>4.250000</td>\n",
       "      <td>4.333333</td>\n",
       "    </tr>\n",
       "    <tr>\n",
       "      <th>max</th>\n",
       "      <td>4.000000</td>\n",
       "      <td>5.000000</td>\n",
       "      <td>4.000000</td>\n",
       "      <td>4.000000</td>\n",
       "      <td>4.000000</td>\n",
       "      <td>4.000000</td>\n",
       "      <td>3.000000</td>\n",
       "      <td>4.000000</td>\n",
       "      <td>4.000000</td>\n",
       "      <td>6.000000</td>\n",
       "      <td>...</td>\n",
       "      <td>6.000000</td>\n",
       "      <td>6.000000</td>\n",
       "      <td>6.000000</td>\n",
       "      <td>6.000000</td>\n",
       "      <td>6.000000</td>\n",
       "      <td>6.000000</td>\n",
       "      <td>5.000000</td>\n",
       "      <td>6.000000</td>\n",
       "      <td>6.000000</td>\n",
       "      <td>6.000000</td>\n",
       "    </tr>\n",
       "  </tbody>\n",
       "</table>\n",
       "<p>8 rows × 32 columns</p>\n",
       "</div>"
      ],
      "text/plain": [
       "          gaokao  digital_skill  study_grammar  study_vocabulary  \\\n",
       "count  29.000000      29.000000      29.000000         29.000000   \n",
       "mean    2.827586       3.896552       1.896552          2.862069   \n",
       "std     1.071346       0.859602       0.816999          0.953345   \n",
       "min     1.000000       2.000000       1.000000          1.000000   \n",
       "25%     2.000000       3.000000       1.000000          2.000000   \n",
       "50%     3.000000       4.000000       2.000000          3.000000   \n",
       "75%     4.000000       4.000000       2.000000          4.000000   \n",
       "max     4.000000       5.000000       4.000000          4.000000   \n",
       "\n",
       "       study_listening  study_speaking  study_writing  study_translation  \\\n",
       "count        29.000000       29.000000      29.000000          29.000000   \n",
       "mean          2.344828        1.931034       2.034483           2.206897   \n",
       "std           0.813979        0.842235       0.778403           0.861034   \n",
       "min           1.000000        1.000000       1.000000           1.000000   \n",
       "25%           2.000000        1.000000       1.000000           2.000000   \n",
       "50%           2.000000        2.000000       2.000000           2.000000   \n",
       "75%           3.000000        2.000000       3.000000           3.000000   \n",
       "max           4.000000        4.000000       3.000000           4.000000   \n",
       "\n",
       "       study_reading    behav_1  ...      emo_2      emo_3      emo_4  \\\n",
       "count      29.000000  29.000000  ...  29.000000  29.000000  29.000000   \n",
       "mean        2.482759   3.413793  ...   3.758621   3.758621   4.034483   \n",
       "std         0.911070   1.401969  ...   1.272095   1.122980   1.017095   \n",
       "min         1.000000   1.000000  ...   1.000000   1.000000   1.000000   \n",
       "25%         2.000000   2.000000  ...   3.000000   3.000000   4.000000   \n",
       "50%         3.000000   4.000000  ...   4.000000   4.000000   4.000000   \n",
       "75%         3.000000   4.000000  ...   4.000000   4.000000   5.000000   \n",
       "max         4.000000   6.000000  ...   6.000000   6.000000   6.000000   \n",
       "\n",
       "           soc_1      soc_2      soc_3      behav       cogn        emo  \\\n",
       "count  29.000000  29.000000  29.000000  29.000000  29.000000  29.000000   \n",
       "mean    3.517241   3.241379   3.482759   3.298851   3.793103   3.896552   \n",
       "std     1.326130   1.405478   1.271127   1.054449   1.074280   0.978604   \n",
       "min     1.000000   1.000000   1.000000   1.000000   1.000000   1.000000   \n",
       "25%     3.000000   2.000000   3.000000   2.500000   3.333333   3.500000   \n",
       "50%     4.000000   3.000000   4.000000   3.500000   4.000000   4.000000   \n",
       "75%     4.000000   4.000000   4.000000   4.000000   4.333333   4.250000   \n",
       "max     6.000000   6.000000   6.000000   5.000000   6.000000   6.000000   \n",
       "\n",
       "             soc  \n",
       "count  29.000000  \n",
       "mean    3.413793  \n",
       "std     1.268217  \n",
       "min     1.000000  \n",
       "25%     2.333333  \n",
       "50%     3.333333  \n",
       "75%     4.333333  \n",
       "max     6.000000  \n",
       "\n",
       "[8 rows x 32 columns]"
      ]
     },
     "execution_count": 13,
     "metadata": {},
     "output_type": "execute_result"
    }
   ],
   "source": [
    "# 返回所有变量的描述性统计结果（注意——这里的描述性统计结果仅适用于“数值型变量”）\n",
    "df_subsample.describe()"
   ]
  },
  {
   "cell_type": "code",
   "execution_count": 14,
   "metadata": {},
   "outputs": [
    {
     "data": {
      "text/plain": [
       "count    29.000000\n",
       "mean      3.298851\n",
       "std       1.054449\n",
       "min       1.000000\n",
       "25%       2.500000\n",
       "50%       3.500000\n",
       "75%       4.000000\n",
       "max       5.000000\n",
       "Name: behav, dtype: float64"
      ]
     },
     "execution_count": 14,
     "metadata": {},
     "output_type": "execute_result"
    }
   ],
   "source": [
    "# 返回单个变量的描述性统计结果\n",
    "df_subsample[\"behav\"].describe()\n"
   ]
  },
  {
   "cell_type": "code",
   "execution_count": 15,
   "metadata": {},
   "outputs": [
    {
     "data": {
      "text/plain": [
       "<seaborn.axisgrid.FacetGrid at 0x1b908fbe250>"
      ]
     },
     "execution_count": 15,
     "metadata": {},
     "output_type": "execute_result"
    },
    {
     "data": {
      "image/png": "[encoded data removed]",
      "text/plain": [
       "<Figure size 360x360 with 1 Axes>"
      ]
     },
     "metadata": {},
     "output_type": "display_data"
    }
   ],
   "source": [
    "# 直方图\n",
    "sns.displot(data=df_subsample, x = \"behav\")"
   ]
  },
  {
   "cell_type": "code",
   "execution_count": 16,
   "metadata": {},
   "outputs": [
    {
     "data": {
      "text/plain": [
       "女性    47\n",
       "男性    10\n",
       "Name: gender, dtype: int64"
      ]
     },
     "execution_count": 16,
     "metadata": {},
     "output_type": "execute_result"
    }
   ],
   "source": [
    "# 类别型变量的描述性统计结果\n",
    "df.gender.value_counts()"
   ]
  },
  {
   "cell_type": "code",
   "execution_count": 17,
   "metadata": {},
   "outputs": [
    {
     "data": {
      "text/plain": [
       "<AxesSubplot:xlabel='gender', ylabel='count'>"
      ]
     },
     "execution_count": 17,
     "metadata": {},
     "output_type": "execute_result"
    },
    {
     "data": {
      "image/png": "[encoded data removed]",
      "text/plain": [
       "<Figure size 432x288 with 1 Axes>"
      ]
     },
     "metadata": {},
     "output_type": "display_data"
    }
   ],
   "source": [
    "# 条形图\n",
    "sns.countplot(x=\"gender\", data=df_subsample)"
   ]
  },
  {
   "cell_type": "code",
   "execution_count": 18,
   "metadata": {},
   "outputs": [
    {
     "data": {
      "text/plain": [
       "文学与传媒学院       17\n",
       "商学院            5\n",
       "公共管理学院         3\n",
       "云康医学与健康学院      1\n",
       "会计学院           1\n",
       "电子与计算机工程学院     1\n",
       "艺术设计与创意产业系     1\n",
       "音乐系            0\n",
       "Name: school, dtype: int64"
      ]
     },
     "execution_count": 18,
     "metadata": {},
     "output_type": "execute_result"
    }
   ],
   "source": [
    "# 饼状图\n",
    "table_school = df_subsample.school.value_counts()#将学院变量整理成表格\n",
    "table_school\n"
   ]
  },
  {
   "cell_type": "code",
   "execution_count": 19,
   "metadata": {},
   "outputs": [
    {
     "data": {
      "text/plain": [
       "<AxesSubplot:ylabel='school'>"
      ]
     },
     "execution_count": 19,
     "metadata": {},
     "output_type": "execute_result"
    },
    {
     "data": {
      "image/png": "[encoded data removed]",
      "text/plain": [
       "<Figure size 432x288 with 1 Axes>"
      ]
     },
     "metadata": {},
     "output_type": "display_data"
    }
   ],
   "source": [
    "colors = sns.color_palette('pastel')[0:5] #使用seaborn的调色板\n",
    "\n",
    "table_school.plot.pie(colors = colors)#用matplotlib画图"
   ]
  },
  {
   "cell_type": "markdown",
   "metadata": {},
   "source": [
    "## 🎉推断性统计"
   ]
  },
  {
   "cell_type": "markdown",
   "metadata": {},
   "source": [
    "### 1、独立样本t检验"
   ]
  },
  {
   "cell_type": "markdown",
   "metadata": {},
   "source": [
    "性别（gender） & 行为投入(behav)"
   ]
  },
  {
   "cell_type": "code",
   "execution_count": 20,
   "metadata": {},
   "outputs": [
    {
     "data": {
      "text/plain": [
       "gender\n",
       "女性    3.405797\n",
       "男性    2.888889\n",
       "Name: behav, dtype: float64"
      ]
     },
     "execution_count": 20,
     "metadata": {},
     "output_type": "execute_result"
    }
   ],
   "source": [
    "# 男女生行为投入的平均值\n",
    "df_subsample.groupby('gender').behav.mean()"
   ]
  },
  {
   "cell_type": "code",
   "execution_count": 67,
   "metadata": {},
   "outputs": [
    {
     "data": {
      "text/plain": [
       "Ttest_indResult(statistic=-1.0722246921722047, pvalue=0.2931097853713329)"
      ]
     },
     "execution_count": 67,
     "metadata": {},
     "output_type": "execute_result"
    }
   ],
   "source": [
    "# 独立样本t检验结果（检验统计量t值，p值）\n",
    "stats.ttest_ind(df_subsample['behav'][df_subsample['gender'] == \"男性\"],\n",
    "               df_subsample['behav'][df_subsample['gender'] == \"女性\"])   "
   ]
  },
  {
   "cell_type": "code",
   "execution_count": 22,
   "metadata": {},
   "outputs": [
    {
     "data": {
      "text/plain": [
       "<AxesSubplot:xlabel='gender', ylabel='behav'>"
      ]
     },
     "execution_count": 22,
     "metadata": {},
     "output_type": "execute_result"
    },
    {
     "data": {
      "image/png": "[encoded data removed]",
      "text/plain": [
       "<Figure size 432x288 with 1 Axes>"
      ]
     },
     "metadata": {},
     "output_type": "display_data"
    }
   ],
   "source": [
    "## 独立样本t检验结果可视化\n",
    "sns.boxplot(x = df_subsample[\"gender\"], y = df_subsample[\"behav\"]) "
   ]
  },
  {
   "cell_type": "markdown",
   "metadata": {},
   "source": [
    "**结果解读：**\n",
    "男生和女生行为投入分别是3.41和2.89.独立样本t检验显示男生和女生行为投入**没有显著差异**(t=2.41,p=0.29 > 0.05)。"
   ]
  },
  {
   "cell_type": "markdown",
   "metadata": {},
   "source": [
    "### 2、单因素方差分析"
   ]
  },
  {
   "cell_type": "markdown",
   "metadata": {},
   "source": [
    "学院（school） & 行为投入（behav）"
   ]
  },
  {
   "cell_type": "code",
   "execution_count": 23,
   "metadata": {},
   "outputs": [
    {
     "data": {
      "text/plain": [
       "school\n",
       "云康医学与健康学院     4.500000\n",
       "会计学院          3.500000\n",
       "公共管理学院        3.333333\n",
       "商学院           3.700000\n",
       "文学与传媒学院       3.186275\n",
       "电子与计算机工程学院    1.000000\n",
       "艺术设计与创意产业系    4.000000\n",
       "音乐系                NaN\n",
       "Name: behav, dtype: float64"
      ]
     },
     "execution_count": 23,
     "metadata": {},
     "output_type": "execute_result"
    }
   ],
   "source": [
    "df_subsample.groupby('school').behav.mean()"
   ]
  },
  {
   "cell_type": "code",
   "execution_count": 59,
   "metadata": {},
   "outputs": [
    {
     "name": "stdout",
     "output_type": "stream",
     "text": [
      "   Source         SS  DF        MS        F     p-unc       np2\n",
      "0  school   8.283164   6  1.380527  1.32923  0.286206  0.266064\n",
      "1  Within  22.849020  22  1.038592      NaN       NaN       NaN\n"
     ]
    }
   ],
   "source": [
    "# 单因素方差分析\n",
    "aov = pg.anova(data=df_subsample, dv='behav', between='school', detailed=True)\n",
    "print(aov)\n"
   ]
  },
  {
   "cell_type": "code",
   "execution_count": 71,
   "metadata": {},
   "outputs": [
    {
     "ename": "AssertionError",
     "evalue": "The T-value must be a int or a float.",
     "output_type": "error",
     "traceback": [
      "\u001b[1;31m---------------------------------------------------------------------------\u001b[0m",
      "\u001b[1;31mAssertionError\u001b[0m                            Traceback (most recent call last)",
      "\u001b[1;32m<ipython-input-71-a46cf567b6ab>\u001b[0m in \u001b[0;36m<module>\u001b[1;34m\u001b[0m\n\u001b[0;32m      1\u001b[0m \u001b[1;31m#事后检验\u001b[0m\u001b[1;33m\u001b[0m\u001b[1;33m\u001b[0m\u001b[1;33m\u001b[0m\u001b[0m\n\u001b[1;32m----> 2\u001b[1;33m \u001b[0mposthoc\u001b[0m \u001b[1;33m=\u001b[0m \u001b[0mpg\u001b[0m\u001b[1;33m.\u001b[0m\u001b[0mpairwise_ttests\u001b[0m\u001b[1;33m(\u001b[0m\u001b[0mdata\u001b[0m\u001b[1;33m=\u001b[0m\u001b[0mdf_subsample\u001b[0m\u001b[1;33m,\u001b[0m \u001b[0mdv\u001b[0m\u001b[1;33m=\u001b[0m\u001b[1;34m'behav'\u001b[0m\u001b[1;33m,\u001b[0m \u001b[0mbetween\u001b[0m\u001b[1;33m=\u001b[0m\u001b[1;34m'school'\u001b[0m\u001b[1;33m)\u001b[0m\u001b[1;33m\u001b[0m\u001b[1;33m\u001b[0m\u001b[0m\n\u001b[0m\u001b[0;32m      3\u001b[0m \u001b[0mpg\u001b[0m\u001b[1;33m.\u001b[0m\u001b[0mprint_table\u001b[0m\u001b[1;33m(\u001b[0m\u001b[0mposthoc\u001b[0m\u001b[1;33m,\u001b[0m \u001b[0mfloatfmt\u001b[0m\u001b[1;33m=\u001b[0m\u001b[1;34m'.3f'\u001b[0m\u001b[1;33m)\u001b[0m\u001b[1;33m\u001b[0m\u001b[1;33m\u001b[0m\u001b[0m\n",
      "\u001b[1;32mE:\\ProgramData\\Anaconda3\\lib\\site-packages\\pingouin\\pairwise.py\u001b[0m in \u001b[0;36mpairwise_ttests\u001b[1;34m(data, dv, between, within, subject, parametric, marginal, alpha, alternative, padjust, effsize, correction, nan_policy, return_desc, interaction, within_first)\u001b[0m\n\u001b[0;32m    372\u001b[0m             \u001b[1;32mif\u001b[0m \u001b[0mparametric\u001b[0m\u001b[1;33m:\u001b[0m\u001b[1;33m\u001b[0m\u001b[1;33m\u001b[0m\u001b[0m\n\u001b[0;32m    373\u001b[0m                 \u001b[0mstat_name\u001b[0m \u001b[1;33m=\u001b[0m \u001b[1;34m'T'\u001b[0m\u001b[1;33m\u001b[0m\u001b[1;33m\u001b[0m\u001b[0m\n\u001b[1;32m--> 374\u001b[1;33m                 df_ttest = ttest(x, y, paired=paired, alternative=alternative,\n\u001b[0m\u001b[0;32m    375\u001b[0m                                  correction=correction)\n\u001b[0;32m    376\u001b[0m                 \u001b[0mstats\u001b[0m\u001b[1;33m.\u001b[0m\u001b[0mat\u001b[0m\u001b[1;33m[\u001b[0m\u001b[0mi\u001b[0m\u001b[1;33m,\u001b[0m \u001b[1;34m'BF10'\u001b[0m\u001b[1;33m]\u001b[0m \u001b[1;33m=\u001b[0m \u001b[0mdf_ttest\u001b[0m\u001b[1;33m.\u001b[0m\u001b[0mat\u001b[0m\u001b[1;33m[\u001b[0m\u001b[1;34m'T-test'\u001b[0m\u001b[1;33m,\u001b[0m \u001b[1;34m'BF10'\u001b[0m\u001b[1;33m]\u001b[0m\u001b[1;33m\u001b[0m\u001b[1;33m\u001b[0m\u001b[0m\n",
      "\u001b[1;32mE:\\ProgramData\\Anaconda3\\lib\\site-packages\\pingouin\\parametric.py\u001b[0m in \u001b[0;36mttest\u001b[1;34m(x, y, paired, alternative, correction, r, confidence)\u001b[0m\n\u001b[0;32m    294\u001b[0m \u001b[1;33m\u001b[0m\u001b[0m\n\u001b[0;32m    295\u001b[0m     \u001b[1;31m# Bayes factor\u001b[0m\u001b[1;33m\u001b[0m\u001b[1;33m\u001b[0m\u001b[1;33m\u001b[0m\u001b[0m\n\u001b[1;32m--> 296\u001b[1;33m     \u001b[0mbf\u001b[0m \u001b[1;33m=\u001b[0m \u001b[0mbayesfactor_ttest\u001b[0m\u001b[1;33m(\u001b[0m\u001b[0mtval\u001b[0m\u001b[1;33m,\u001b[0m \u001b[0mnx\u001b[0m\u001b[1;33m,\u001b[0m \u001b[0mny\u001b[0m\u001b[1;33m,\u001b[0m \u001b[0mpaired\u001b[0m\u001b[1;33m=\u001b[0m\u001b[0mpaired\u001b[0m\u001b[1;33m,\u001b[0m \u001b[0malternative\u001b[0m\u001b[1;33m=\u001b[0m\u001b[0malternative\u001b[0m\u001b[1;33m,\u001b[0m \u001b[0mr\u001b[0m\u001b[1;33m=\u001b[0m\u001b[0mr\u001b[0m\u001b[1;33m)\u001b[0m\u001b[1;33m\u001b[0m\u001b[1;33m\u001b[0m\u001b[0m\n\u001b[0m\u001b[0;32m    297\u001b[0m \u001b[1;33m\u001b[0m\u001b[0m\n\u001b[0;32m    298\u001b[0m     \u001b[1;31m# Create output dictionnary\u001b[0m\u001b[1;33m\u001b[0m\u001b[1;33m\u001b[0m\u001b[1;33m\u001b[0m\u001b[0m\n",
      "\u001b[1;32mE:\\ProgramData\\Anaconda3\\lib\\site-packages\\pingouin\\bayesian.py\u001b[0m in \u001b[0;36mbayesfactor_ttest\u001b[1;34m(t, nx, ny, paired, alternative, r)\u001b[0m\n\u001b[0;32m    124\u001b[0m \u001b[1;33m\u001b[0m\u001b[0m\n\u001b[0;32m    125\u001b[0m     \u001b[1;31m# Check T-value\u001b[0m\u001b[1;33m\u001b[0m\u001b[1;33m\u001b[0m\u001b[1;33m\u001b[0m\u001b[0m\n\u001b[1;32m--> 126\u001b[1;33m     \u001b[1;32massert\u001b[0m \u001b[0misinstance\u001b[0m\u001b[1;33m(\u001b[0m\u001b[0mt\u001b[0m\u001b[1;33m,\u001b[0m \u001b[1;33m(\u001b[0m\u001b[0mint\u001b[0m\u001b[1;33m,\u001b[0m \u001b[0mfloat\u001b[0m\u001b[1;33m)\u001b[0m\u001b[1;33m)\u001b[0m\u001b[1;33m,\u001b[0m \u001b[1;34m'The T-value must be a int or a float.'\u001b[0m\u001b[1;33m\u001b[0m\u001b[1;33m\u001b[0m\u001b[0m\n\u001b[0m\u001b[0;32m    127\u001b[0m     \u001b[1;32mif\u001b[0m \u001b[1;32mnot\u001b[0m \u001b[0mnp\u001b[0m\u001b[1;33m.\u001b[0m\u001b[0misfinite\u001b[0m\u001b[1;33m(\u001b[0m\u001b[0mt\u001b[0m\u001b[1;33m)\u001b[0m\u001b[1;33m:\u001b[0m\u001b[1;33m\u001b[0m\u001b[1;33m\u001b[0m\u001b[0m\n\u001b[0;32m    128\u001b[0m         \u001b[1;32mreturn\u001b[0m \u001b[0mnp\u001b[0m\u001b[1;33m.\u001b[0m\u001b[0mnan\u001b[0m\u001b[1;33m\u001b[0m\u001b[1;33m\u001b[0m\u001b[0m\n",
      "\u001b[1;31mAssertionError\u001b[0m: The T-value must be a int or a float."
     ]
    }
   ],
   "source": [
    "#事后检验\n",
    "\n",
    "\n",
    "\n",
    "posthoc = pg.pairwise_ttests(data=df_subsample, dv='behav', between='school')\n",
    "pg.print_table(posthoc, floatfmt='.3f')"
   ]
  },
  {
   "cell_type": "code",
   "execution_count": 41,
   "metadata": {},
   "outputs": [
    {
     "data": {
      "text/plain": [
       "<AxesSubplot:xlabel='school', ylabel='behav'>"
      ]
     },
     "execution_count": 41,
     "metadata": {},
     "output_type": "execute_result"
    },
    {
     "data": {
      "image/png": "[encoded data removed]",
      "text/plain": [
       "<Figure size 432x288 with 1 Axes>"
      ]
     },
     "metadata": {},
     "output_type": "display_data"
    }
   ],
   "source": [
    "# 单因素方差分析结果可视化\n",
    "sns.boxplot(x = 'school', y = 'behav', data = df_subsample) "
   ]
  },
  {
   "cell_type": "code",
   "execution_count": 57,
   "metadata": {},
   "outputs": [
    {
     "data": {
      "text/plain": [
       "<AxesSubplot:xlabel='school', ylabel='behav'>"
      ]
     },
     "execution_count": 57,
     "metadata": {},
     "output_type": "execute_result"
    },
    {
     "data": {
      "image/png": "[encoded data removed]",
      "text/plain": [
       "<Figure size 432x288 with 1 Axes>"
      ]
     },
     "metadata": {},
     "output_type": "display_data"
    }
   ],
   "source": [
    "# 筛选\"文学与传媒学院\",\"商学院\",\"公共管理学院\"这三个学院\n",
    "sns.boxplot(x = 'school', y = 'behav', data = df_subsample, order= [\"文学与传媒学院\",\"商学院\",\"公共管理学院\"]) "
   ]
  },
  {
   "cell_type": "markdown",
   "metadata": {},
   "source": [
    "**结果解读：**\n",
    "不同学院的学生在行为投入上**没有显著差异**(F = 1.33, p = 0.29 > 0.05)。"
   ]
  },
  {
   "cell_type": "markdown",
   "metadata": {},
   "source": [
    "### 3、卡方检验"
   ]
  },
  {
   "cell_type": "markdown",
   "metadata": {},
   "source": [
    "四级成绩(cet4) & 平台使用（usage）"
   ]
  },
  {
   "cell_type": "code",
   "execution_count": 39,
   "metadata": {},
   "outputs": [
    {
     "data": {
      "text/html": [
       "<div>\n",
       "<style scoped>\n",
       "    .dataframe tbody tr th:only-of-type {\n",
       "        vertical-align: middle;\n",
       "    }\n",
       "\n",
       "    .dataframe tbody tr th {\n",
       "        vertical-align: top;\n",
       "    }\n",
       "\n",
       "    .dataframe thead th {\n",
       "        text-align: right;\n",
       "    }\n",
       "</style>\n",
       "<table border=\"1\" class=\"dataframe\">\n",
       "  <thead>\n",
       "    <tr style=\"text-align: right;\">\n",
       "      <th>usage</th>\n",
       "      <th>否</th>\n",
       "      <th>是</th>\n",
       "    </tr>\n",
       "    <tr>\n",
       "      <th>cet4</th>\n",
       "      <th></th>\n",
       "      <th></th>\n",
       "    </tr>\n",
       "  </thead>\n",
       "  <tbody>\n",
       "    <tr>\n",
       "      <th>未通过</th>\n",
       "      <td>13</td>\n",
       "      <td>12</td>\n",
       "    </tr>\n",
       "    <tr>\n",
       "      <th>通过了</th>\n",
       "      <td>15</td>\n",
       "      <td>17</td>\n",
       "    </tr>\n",
       "  </tbody>\n",
       "</table>\n",
       "</div>"
      ],
      "text/plain": [
       "usage   否   是\n",
       "cet4         \n",
       "未通过    13  12\n",
       "通过了    15  17"
      ]
     },
     "execution_count": 39,
     "metadata": {},
     "output_type": "execute_result"
    }
   ],
   "source": [
    "# 列联表\n",
    "crosstab = pd.crosstab(df.cet4,df.usage)\n",
    "crosstab\n"
   ]
  },
  {
   "cell_type": "code",
   "execution_count": 40,
   "metadata": {},
   "outputs": [],
   "source": [
    "# 卡方检验结果（检验统计量卡方值，p值,自由度，期望频数）\n",
    "stat, p, dof, expected = chi2_contingency(crosstab) \n"
   ]
  },
  {
   "cell_type": "code",
   "execution_count": 41,
   "metadata": {},
   "outputs": [
    {
     "data": {
      "text/plain": [
       "0.013710360221674767"
      ]
     },
     "execution_count": 41,
     "metadata": {},
     "output_type": "execute_result"
    }
   ],
   "source": [
    "#卡方值\n",
    "stat"
   ]
  },
  {
   "cell_type": "code",
   "execution_count": 42,
   "metadata": {},
   "outputs": [
    {
     "name": "stdout",
     "output_type": "stream",
     "text": [
      "p = 0.9067877455744078\n"
     ]
    }
   ],
   "source": [
    "# p值\n",
    "print(\"p = \" + str(p))"
   ]
  },
  {
   "cell_type": "code",
   "execution_count": 43,
   "metadata": {},
   "outputs": [
    {
     "data": {
      "text/plain": [
       "<AxesSubplot:xlabel='cet4', ylabel='count'>"
      ]
     },
     "execution_count": 43,
     "metadata": {},
     "output_type": "execute_result"
    },
    {
     "data": {
      "image/png": "[encoded data removed]",
      "text/plain": [
       "<Figure size 432x288 with 1 Axes>"
      ]
     },
     "metadata": {},
     "output_type": "display_data"
    }
   ],
   "source": [
    "# 卡方检验结果可视化\n",
    "sns.countplot(x = 'cet4', hue = 'usage', data = df) "
   ]
  },
  {
   "cell_type": "markdown",
   "metadata": {},
   "source": [
    "**结果解读：**\n",
    "卡方检验的结果显示“四级成绩”与“英语学习平台”**没有显著关联**（chisq=0.14,p=0.91 >0.05）。"
   ]
  },
  {
   "cell_type": "markdown",
   "metadata": {},
   "source": [
    "### 4、相关分析"
   ]
  },
  {
   "cell_type": "markdown",
   "metadata": {},
   "source": [
    "数字能力（digital_skill） & 行为投入（behav）"
   ]
  },
  {
   "cell_type": "code",
   "execution_count": 34,
   "metadata": {},
   "outputs": [
    {
     "data": {
      "text/html": [
       "<div>\n",
       "<style scoped>\n",
       "    .dataframe tbody tr th:only-of-type {\n",
       "        vertical-align: middle;\n",
       "    }\n",
       "\n",
       "    .dataframe tbody tr th {\n",
       "        vertical-align: top;\n",
       "    }\n",
       "\n",
       "    .dataframe thead th {\n",
       "        text-align: right;\n",
       "    }\n",
       "</style>\n",
       "<table border=\"1\" class=\"dataframe\">\n",
       "  <thead>\n",
       "    <tr style=\"text-align: right;\">\n",
       "      <th></th>\n",
       "      <th>X</th>\n",
       "      <th>Y</th>\n",
       "      <th>method</th>\n",
       "      <th>alternative</th>\n",
       "      <th>n</th>\n",
       "      <th>r</th>\n",
       "      <th>CI95%</th>\n",
       "      <th>p-unc</th>\n",
       "      <th>BF10</th>\n",
       "      <th>power</th>\n",
       "    </tr>\n",
       "  </thead>\n",
       "  <tbody>\n",
       "    <tr>\n",
       "      <th>0</th>\n",
       "      <td>digital_skill</td>\n",
       "      <td>behav</td>\n",
       "      <td>pearson</td>\n",
       "      <td>two-sided</td>\n",
       "      <td>29</td>\n",
       "      <td>0.153532</td>\n",
       "      <td>[-0.23, 0.49]</td>\n",
       "      <td>0.426522</td>\n",
       "      <td>0.312</td>\n",
       "      <td>0.125557</td>\n",
       "    </tr>\n",
       "  </tbody>\n",
       "</table>\n",
       "</div>"
      ],
      "text/plain": [
       "               X      Y   method alternative   n         r          CI95%  \\\n",
       "0  digital_skill  behav  pearson   two-sided  29  0.153532  [-0.23, 0.49]   \n",
       "\n",
       "      p-unc   BF10     power  \n",
       "0  0.426522  0.312  0.125557  "
      ]
     },
     "execution_count": 34,
     "metadata": {},
     "output_type": "execute_result"
    }
   ],
   "source": [
    "# 努力方式与排名的相关关系\n",
    "pg.pairwise_corr(df_subsample, columns=[\"digital_skill\",\"behav\"], method='pearson')"
   ]
  },
  {
   "cell_type": "code",
   "execution_count": 35,
   "metadata": {},
   "outputs": [
    {
     "data": {
      "text/plain": [
       "<AxesSubplot:xlabel='digital_skill', ylabel='behav'>"
      ]
     },
     "execution_count": 35,
     "metadata": {},
     "output_type": "execute_result"
    },
    {
     "data": {
      "image/png": "[encoded data removed]",
      "text/plain": [
       "<Figure size 432x288 with 1 Axes>"
      ]
     },
     "metadata": {},
     "output_type": "display_data"
    }
   ],
   "source": [
    "# 散点图（两变量）（包含拟合直线）\n",
    "sns.regplot(x = \"digital_skill\", y = \"behav\", data = df_subsample)"
   ]
  },
  {
   "cell_type": "markdown",
   "metadata": {},
   "source": [
    "**结果解读：**\n",
    "相关分析的结果显示“数字能力”与“行为投入”**没有显著相关**（r=0.15,p=0.43 > 0.05）。"
   ]
  },
  {
   "cell_type": "code",
   "execution_count": 37,
   "metadata": {},
   "outputs": [
    {
     "data": {
      "text/html": [
       "<div>\n",
       "<style scoped>\n",
       "    .dataframe tbody tr th:only-of-type {\n",
       "        vertical-align: middle;\n",
       "    }\n",
       "\n",
       "    .dataframe tbody tr th {\n",
       "        vertical-align: top;\n",
       "    }\n",
       "\n",
       "    .dataframe thead th {\n",
       "        text-align: right;\n",
       "    }\n",
       "</style>\n",
       "<table border=\"1\" class=\"dataframe\">\n",
       "  <thead>\n",
       "    <tr style=\"text-align: right;\">\n",
       "      <th></th>\n",
       "      <th>behav</th>\n",
       "      <th>cogn</th>\n",
       "      <th>emo</th>\n",
       "      <th>soc</th>\n",
       "    </tr>\n",
       "  </thead>\n",
       "  <tbody>\n",
       "    <tr>\n",
       "      <th>behav</th>\n",
       "      <td>-</td>\n",
       "      <td>***</td>\n",
       "      <td>***</td>\n",
       "      <td>***</td>\n",
       "    </tr>\n",
       "    <tr>\n",
       "      <th>cogn</th>\n",
       "      <td>0.762</td>\n",
       "      <td>-</td>\n",
       "      <td>***</td>\n",
       "      <td>***</td>\n",
       "    </tr>\n",
       "    <tr>\n",
       "      <th>emo</th>\n",
       "      <td>0.826</td>\n",
       "      <td>0.883</td>\n",
       "      <td>-</td>\n",
       "      <td>***</td>\n",
       "    </tr>\n",
       "    <tr>\n",
       "      <th>soc</th>\n",
       "      <td>0.765</td>\n",
       "      <td>0.792</td>\n",
       "      <td>0.844</td>\n",
       "      <td>-</td>\n",
       "    </tr>\n",
       "  </tbody>\n",
       "</table>\n",
       "</div>"
      ],
      "text/plain": [
       "       behav   cogn    emo  soc\n",
       "behav      -    ***    ***  ***\n",
       "cogn   0.762      -    ***  ***\n",
       "emo    0.826  0.883      -  ***\n",
       "soc    0.765  0.792  0.844    -"
      ]
     },
     "execution_count": 37,
     "metadata": {},
     "output_type": "execute_result"
    }
   ],
   "source": [
    "# 多个变量的相关分析\n",
    "df_subsample[[ \"behav\",\"cogn\",\"emo\",\"soc\"]].rcorr()"
   ]
  },
  {
   "cell_type": "code",
   "execution_count": 38,
   "metadata": {},
   "outputs": [
    {
     "data": {
      "text/plain": [
       "<seaborn.axisgrid.PairGrid at 0x258c17c25e0>"
      ]
     },
     "execution_count": 38,
     "metadata": {},
     "output_type": "execute_result"
    },
    {
     "data": {
      "image/png": "[encoded data removed]",
      "text/plain": [
       "<Figure size 720x720 with 20 Axes>"
      ]
     },
     "metadata": {},
     "output_type": "display_data"
    }
   ],
   "source": [
    "# 筛选多个变量画出散点图（含回归直线）“矩阵”\n",
    "sns.pairplot(df_subsample[[\"behav\",\"cogn\",\"emo\",\"soc\"]], kind=\"reg\")"
   ]
  },
  {
   "cell_type": "markdown",
   "metadata": {},
   "source": [
    "**结果解读：**\n",
    "相关分析的结果显示“行为投入”、“认知投入”、“情感投入”和“社会性投入”两两之间显著相关。"
   ]
  },
  {
   "cell_type": "markdown",
   "metadata": {},
   "source": [
    "### 6、信度分析"
   ]
  },
  {
   "cell_type": "code",
   "execution_count": 60,
   "metadata": {},
   "outputs": [
    {
     "data": {
      "text/plain": [
       "0.8372900129222817"
      ]
     },
     "execution_count": 60,
     "metadata": {},
     "output_type": "execute_result"
    }
   ],
   "source": [
    "df_subsample_behav = df_subsample.filter(regex = \"^behav_.*\")#以正则表达式的办法筛选以\"behav_\"开头的变量\n",
    "pg.cronbach_alpha(data=df_subsample_behav)[0]"
   ]
  },
  {
   "cell_type": "code",
   "execution_count": 57,
   "metadata": {},
   "outputs": [
    {
     "data": {
      "text/plain": [
       "0.9382025136352858"
      ]
     },
     "execution_count": 57,
     "metadata": {},
     "output_type": "execute_result"
    }
   ],
   "source": [
    "df_subsample_cogn = df_subsample.filter(regex = \"^cogn_.*\")#以正则表达式的办法筛选以\"behav_\"开头的变量\n",
    "pg.cronbach_alpha(data=df_subsample_cogn)[0]"
   ]
  },
  {
   "cell_type": "code",
   "execution_count": 58,
   "metadata": {},
   "outputs": [
    {
     "data": {
      "text/plain": [
       "0.8716712211327224"
      ]
     },
     "execution_count": 58,
     "metadata": {},
     "output_type": "execute_result"
    }
   ],
   "source": [
    "df_subsample_emo = df_subsample.filter(regex = \"^emo_.*\")#以正则表达式的办法筛选以\"behav_\"开头的变量\n",
    "pg.cronbach_alpha(data=df_subsample_emo)[0]"
   ]
  },
  {
   "cell_type": "code",
   "execution_count": 59,
   "metadata": {},
   "outputs": [
    {
     "data": {
      "text/plain": [
       "0.9456355283307809"
      ]
     },
     "execution_count": 59,
     "metadata": {},
     "output_type": "execute_result"
    }
   ],
   "source": [
    "df_subsample_soc = df_subsample.filter(regex = \"^soc_.*\")#以正则表达式的办法筛选以\"behav_\"开头的变量\n",
    "pg.cronbach_alpha(data=df_subsample_soc)[0]"
   ]
  },
  {
   "cell_type": "markdown",
   "metadata": {},
   "source": [
    "**结果解读：**\n",
    "“行为投入”、“认知投入”、“情感投入”和“社会性投入”等变量的克隆巴赫系数分别为0.83, 0.94, 0.87, 0.95，说明这几个变量的信度水平较高。"
   ]
  }
 ],
 "metadata": {
  "kernelspec": {
   "display_name": "Python 3",
   "language": "python",
   "name": "python3"
  },
  "language_info": {
   "codemirror_mode": {
    "name": "ipython",
    "version": 3
   },
   "file_extension": ".py",
   "mimetype": "text/x-python",
   "name": "python",
   "nbconvert_exporter": "python",
   "pygments_lexer": "ipython3",
   "version": "3.8.8"
  }
 },
 "nbformat": 4,
 "nbformat_minor": 4
}
