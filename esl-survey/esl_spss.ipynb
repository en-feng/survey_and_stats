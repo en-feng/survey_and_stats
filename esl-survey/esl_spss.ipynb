{
 "cells": [
  {
   "cell_type": "code",
   "execution_count": 108,
   "metadata": {},
   "outputs": [],
   "source": [
    "# 整理数据的库\n",
    "import numpy as np\n",
    "import pandas as pd\n",
    "import pyreadstat #读取sav格式文件需要\n",
    "# 数据可视化的库\n",
    "import matplotlib as mpl\n",
    "import matplotlib.pyplot as plt\n",
    "import seaborn as sns\n",
    "\n",
    "plt.rcParams['font.sans-serif'] = ['SimHei']  # 中文字体设置-黑体\n",
    "plt.rcParams['axes.unicode_minus'] = False  # 解决保存图像是负号'-'显示为方块的问题\n",
    "sns.set(font='SimHei')  # 解决Seaborn中文显示问题\n",
    "# 数据分析的库\n",
    "from scipy import stats\n",
    "import scipy.stats as stats\n",
    "import statsmodels.formula.api as smf # 回归分析\n",
    "from scipy.stats import chi2_contingency #卡方检验\n",
    "import pingouin as pg\n",
    "from statsmodels.stats.multicomp import pairwise_tukeyhsd #事后检验\n",
    "# 其它\n",
    "import warnings\n",
    "warnings.filterwarnings('ignore') #忽视警告"
   ]
  },
  {
   "cell_type": "markdown",
   "metadata": {},
   "source": [
    "# 读取数据及初步处理"
   ]
  },
  {
   "cell_type": "code",
   "execution_count": 109,
   "metadata": {},
   "outputs": [],
   "source": [
    "df_1,meta_1 = pyreadstat.read_sav(\"esl.sav\",encoding='utf-8') #dataframe的值为纯数字"
   ]
  },
  {
   "cell_type": "code",
   "execution_count": 110,
   "metadata": {},
   "outputs": [],
   "source": [
    "df_2,meta_2 = pyreadstat.read_sav(\"esl.sav\",encoding='utf-8',apply_value_formats=True)# dataframe的值为元信息\n",
    "#注意：李克特计分方法的变量pyreadstat认定为类别型变量，这个和我们的需求是不同的"
   ]
  },
  {
   "cell_type": "code",
   "execution_count": 111,
   "metadata": {},
   "outputs": [],
   "source": [
    "# 我们要做的是取df_1中的数值型变量出来，取df_2的类别型变量出来，合并成新的df\n",
    "df_a = df_2.loc[:,\"Q1\":\"Q4\"] #取出Q1~Q4变量（类别型变量）\n",
    "df_b = df_1.loc[:,\"Q5\":\"Q11_行3\"]#取出Q5~Q11_行3变量（数值型变量）\n",
    "df_c =df_2.loc[:,\"Q12\":\"Q17\"]#取出Q12~Q17变量（类别型变量）\n",
    "\n",
    "df = pd.concat([df_a,df_b,df_c],axis=1)#按列（变量）合并三个df"
   ]
  },
  {
   "cell_type": "code",
   "execution_count": 112,
   "metadata": {},
   "outputs": [
    {
     "data": {
      "text/html": [
       "<div>\n",
       "<style scoped>\n",
       "    .dataframe tbody tr th:only-of-type {\n",
       "        vertical-align: middle;\n",
       "    }\n",
       "\n",
       "    .dataframe tbody tr th {\n",
       "        vertical-align: top;\n",
       "    }\n",
       "\n",
       "    .dataframe thead th {\n",
       "        text-align: right;\n",
       "    }\n",
       "</style>\n",
       "<table border=\"1\" class=\"dataframe\">\n",
       "  <thead>\n",
       "    <tr style=\"text-align: right;\">\n",
       "      <th></th>\n",
       "      <th>Q1</th>\n",
       "      <th>Q2_选项1</th>\n",
       "      <th>Q2_选项2</th>\n",
       "      <th>Q2_选项3</th>\n",
       "      <th>Q2_选项4</th>\n",
       "      <th>Q3</th>\n",
       "      <th>Q4</th>\n",
       "      <th>Q5</th>\n",
       "      <th>Q6</th>\n",
       "      <th>Q7_行1</th>\n",
       "      <th>...</th>\n",
       "      <th>Q10_行4</th>\n",
       "      <th>Q11_行1</th>\n",
       "      <th>Q11_行2</th>\n",
       "      <th>Q11_行3</th>\n",
       "      <th>Q12</th>\n",
       "      <th>Q13</th>\n",
       "      <th>Q14</th>\n",
       "      <th>Q15</th>\n",
       "      <th>Q16</th>\n",
       "      <th>Q17</th>\n",
       "    </tr>\n",
       "  </thead>\n",
       "  <tbody>\n",
       "    <tr>\n",
       "      <th>0</th>\n",
       "      <td>否</td>\n",
       "      <td>NaN</td>\n",
       "      <td>NaN</td>\n",
       "      <td>NaN</td>\n",
       "      <td>NaN</td>\n",
       "      <td>通过了</td>\n",
       "      <td>未通过</td>\n",
       "      <td>2.0</td>\n",
       "      <td>4.0</td>\n",
       "      <td>NaN</td>\n",
       "      <td>...</td>\n",
       "      <td>NaN</td>\n",
       "      <td>NaN</td>\n",
       "      <td>NaN</td>\n",
       "      <td>NaN</td>\n",
       "      <td>女</td>\n",
       "      <td>非城镇类</td>\n",
       "      <td>大三</td>\n",
       "      <td>人文社科类</td>\n",
       "      <td>文学与传媒学院</td>\n",
       "      <td>NaN</td>\n",
       "    </tr>\n",
       "    <tr>\n",
       "      <th>1</th>\n",
       "      <td>是</td>\n",
       "      <td>选中</td>\n",
       "      <td>选中</td>\n",
       "      <td>选中</td>\n",
       "      <td>未选中</td>\n",
       "      <td>未通过</td>\n",
       "      <td>NaN</td>\n",
       "      <td>4.0</td>\n",
       "      <td>4.0</td>\n",
       "      <td>2.0</td>\n",
       "      <td>...</td>\n",
       "      <td>4.0</td>\n",
       "      <td>4.0</td>\n",
       "      <td>5.0</td>\n",
       "      <td>4.0</td>\n",
       "      <td>男</td>\n",
       "      <td>城镇类</td>\n",
       "      <td>大三</td>\n",
       "      <td>人文社科类</td>\n",
       "      <td>文学与传媒学院</td>\n",
       "      <td>NaN</td>\n",
       "    </tr>\n",
       "    <tr>\n",
       "      <th>2</th>\n",
       "      <td>否</td>\n",
       "      <td>NaN</td>\n",
       "      <td>NaN</td>\n",
       "      <td>NaN</td>\n",
       "      <td>NaN</td>\n",
       "      <td>通过了</td>\n",
       "      <td>未通过</td>\n",
       "      <td>3.0</td>\n",
       "      <td>5.0</td>\n",
       "      <td>NaN</td>\n",
       "      <td>...</td>\n",
       "      <td>NaN</td>\n",
       "      <td>NaN</td>\n",
       "      <td>NaN</td>\n",
       "      <td>NaN</td>\n",
       "      <td>女</td>\n",
       "      <td>城镇类</td>\n",
       "      <td>大三</td>\n",
       "      <td>人文社科类</td>\n",
       "      <td>文学与传媒学院</td>\n",
       "      <td>NaN</td>\n",
       "    </tr>\n",
       "  </tbody>\n",
       "</table>\n",
       "<p>3 rows × 41 columns</p>\n",
       "</div>"
      ],
      "text/plain": [
       "  Q1 Q2_选项1 Q2_选项2 Q2_选项3 Q2_选项4   Q3   Q4   Q5   Q6  Q7_行1  ...  Q10_行4  \\\n",
       "0  否    NaN    NaN    NaN    NaN  通过了  未通过  2.0  4.0    NaN  ...     NaN   \n",
       "1  是     选中     选中     选中    未选中  未通过  NaN  4.0  4.0    2.0  ...     4.0   \n",
       "2  否    NaN    NaN    NaN    NaN  通过了  未通过  3.0  5.0    NaN  ...     NaN   \n",
       "\n",
       "   Q11_行1  Q11_行2  Q11_行3  Q12   Q13  Q14    Q15      Q16  Q17  \n",
       "0     NaN     NaN     NaN    女  非城镇类   大三  人文社科类  文学与传媒学院  NaN  \n",
       "1     4.0     5.0     4.0    男   城镇类   大三  人文社科类  文学与传媒学院  NaN  \n",
       "2     NaN     NaN     NaN    女   城镇类   大三  人文社科类  文学与传媒学院  NaN  \n",
       "\n",
       "[3 rows x 41 columns]"
      ]
     },
     "execution_count": 112,
     "metadata": {},
     "output_type": "execute_result"
    }
   ],
   "source": [
    "# 查看一下数据\n",
    "df.head(3)"
   ]
  },
  {
   "attachments": {},
   "cell_type": "markdown",
   "metadata": {},
   "source": [
    "## 处理一下变量名"
   ]
  },
  {
   "cell_type": "code",
   "execution_count": 115,
   "metadata": {},
   "outputs": [
    {
     "data": {
      "text/plain": [
       "Index(['Q1', 'Q2_选项1', 'Q2_选项2', 'Q2_选项3', 'Q2_选项4', 'Q3', 'Q4', 'Q5', 'Q6',\n",
       "       'Q7_行1', 'Q7_行2', 'Q7_行3', 'Q7_行4', 'Q7_行5', 'Q7_行6', 'Q7_行7', 'Q8_行1',\n",
       "       'Q8_行2', 'Q8_行3', 'Q8_行4', 'Q8_行5', 'Q8_行6', 'Q9_行1', 'Q9_行2', 'Q9_行3',\n",
       "       'Q9_行4', 'Q9_行5', 'Q9_行6', 'Q10_行1', 'Q10_行2', 'Q10_行3', 'Q10_行4',\n",
       "       'Q11_行1', 'Q11_行2', 'Q11_行3', 'Q12', 'Q13', 'Q14', 'Q15', 'Q16', 'Q17'],\n",
       "      dtype='object')"
      ]
     },
     "execution_count": 115,
     "metadata": {},
     "output_type": "execute_result"
    }
   ],
   "source": [
    "df.columns #原变量名"
   ]
  },
  {
   "cell_type": "code",
   "execution_count": 116,
   "metadata": {},
   "outputs": [],
   "source": [
    "# 重命名变量名\n",
    "df.columns = ['usage', 'platform_bilibili', 'platform_icourse', 'platform_tencent',\n",
    "       'platform_other', 'cet4', 'cet6', 'gaokao', 'digital_skill',\n",
    "       'study_grammar', 'study_vocabulary', 'study_listening',\n",
    "       'study_speaking', 'study_writing', 'study_translation', 'study_reading',\n",
    "       'behav_1', 'behav_2', 'behav_3', 'behav_4', 'behav_5', 'behav_6',\n",
    "       'cogn_1', 'cogn_2', 'cogn_3', 'cogn_4', 'cogn_5', 'cogn_6', 'emo_1',\n",
    "       'emo_2', 'emo_3', 'emo_4', 'soc_1', 'soc_2', 'soc_3', 'gender', 'hukou',\n",
    "       'grade', 'major_type', 'school', 'major']"
   ]
  },
  {
   "cell_type": "code",
   "execution_count": 117,
   "metadata": {},
   "outputs": [
    {
     "data": {
      "text/plain": [
       "Index(['usage', 'platform_bilibili', 'platform_icourse', 'platform_tencent',\n",
       "       'platform_other', 'cet4', 'cet6', 'gaokao', 'digital_skill',\n",
       "       'study_grammar', 'study_vocabulary', 'study_listening',\n",
       "       'study_speaking', 'study_writing', 'study_translation', 'study_reading',\n",
       "       'behav_1', 'behav_2', 'behav_3', 'behav_4', 'behav_5', 'behav_6',\n",
       "       'cogn_1', 'cogn_2', 'cogn_3', 'cogn_4', 'cogn_5', 'cogn_6', 'emo_1',\n",
       "       'emo_2', 'emo_3', 'emo_4', 'soc_1', 'soc_2', 'soc_3', 'gender', 'hukou',\n",
       "       'grade', 'major_type', 'school', 'major'],\n",
       "      dtype='object')"
      ]
     },
     "execution_count": 117,
     "metadata": {},
     "output_type": "execute_result"
    }
   ],
   "source": [
    "df.columns #查看一下现变量名"
   ]
  },
  {
   "attachments": {},
   "cell_type": "markdown",
   "metadata": {},
   "source": [
    "# 注意:以下代码跟esl_excel.ipynb一致"
   ]
  },
  {
   "attachments": {},
   "cell_type": "markdown",
   "metadata": {},
   "source": [
    "## 反向编码"
   ]
  },
  {
   "cell_type": "code",
   "execution_count": 118,
   "metadata": {},
   "outputs": [
    {
     "data": {
      "text/plain": [
       "0    NaN\n",
       "1    4.0\n",
       "2    NaN\n",
       "3    NaN\n",
       "4    NaN\n",
       "5    6.0\n",
       "6    NaN\n",
       "7    NaN\n",
       "8    5.0\n",
       "9    3.0\n",
       "Name: emo_4, dtype: float64"
      ]
     },
     "execution_count": 118,
     "metadata": {},
     "output_type": "execute_result"
    }
   ],
   "source": [
    "# 第10题的第四小题是反向题，我们需要将数据的编码顺序进行反转。\n",
    "# 先看一下数据的形态\n",
    "df.emo_4.head(10)"
   ]
  },
  {
   "cell_type": "code",
   "execution_count": 119,
   "metadata": {},
   "outputs": [],
   "source": [
    "#通过列表的方式将编码形式进行转换\n",
    "before = [1,2,3,4,5,6]\n",
    "after = [6,5,4,3,2,1]\n",
    "\n",
    "df[\"emo_4_recode\"] = df[\"emo_4\"].replace(before,after)"
   ]
  },
  {
   "cell_type": "code",
   "execution_count": 120,
   "metadata": {},
   "outputs": [
    {
     "data": {
      "text/plain": [
       "0    NaN\n",
       "1    3.0\n",
       "2    NaN\n",
       "3    NaN\n",
       "4    NaN\n",
       "5    1.0\n",
       "6    NaN\n",
       "7    NaN\n",
       "8    2.0\n",
       "9    4.0\n",
       "Name: emo_4_recode, dtype: float64"
      ]
     },
     "execution_count": 120,
     "metadata": {},
     "output_type": "execute_result"
    }
   ],
   "source": [
    "#查看反向编码之后的结果\n",
    "df.emo_4_recode.head(10)"
   ]
  },
  {
   "cell_type": "markdown",
   "metadata": {},
   "source": [
    "# 数据计算"
   ]
  },
  {
   "cell_type": "code",
   "execution_count": 121,
   "metadata": {},
   "outputs": [],
   "source": [
    "#计算behav,cogn,emo,soc这四个变量"
   ]
  },
  {
   "cell_type": "code",
   "execution_count": 122,
   "metadata": {},
   "outputs": [],
   "source": [
    "df[\"behav\"] = (\n",
    "    df.behav_1\n",
    "    + df.behav_2\n",
    "    + df.behav_3\n",
    "    + df.behav_4\n",
    "    + df.behav_5\n",
    "    + df.behav_6\n",
    ") / 6\n",
    "df[\"cogn\"] = (\n",
    "    df.cogn_1\n",
    "    + df.cogn_2\n",
    "    + df.cogn_3\n",
    "    + df.cogn_4\n",
    "    + df.cogn_5\n",
    "    + df.cogn_6\n",
    ") / 6\n",
    "df[\"emo\"] = (\n",
    "    df.emo_1 + df.emo_2 + df.emo_3 + df.emo_4_recode   #注意这里用反转后的题目\n",
    ") / 4\n",
    "df[\"soc\"] = (df.soc_1 + df.soc_2 + df.soc_3) / 3\n",
    "\n"
   ]
  },
  {
   "cell_type": "code",
   "execution_count": 123,
   "metadata": {},
   "outputs": [
    {
     "data": {
      "text/html": [
       "<div>\n",
       "<style scoped>\n",
       "    .dataframe tbody tr th:only-of-type {\n",
       "        vertical-align: middle;\n",
       "    }\n",
       "\n",
       "    .dataframe tbody tr th {\n",
       "        vertical-align: top;\n",
       "    }\n",
       "\n",
       "    .dataframe thead th {\n",
       "        text-align: right;\n",
       "    }\n",
       "</style>\n",
       "<table border=\"1\" class=\"dataframe\">\n",
       "  <thead>\n",
       "    <tr style=\"text-align: right;\">\n",
       "      <th></th>\n",
       "      <th>usage</th>\n",
       "      <th>platform_bilibili</th>\n",
       "      <th>platform_icourse</th>\n",
       "      <th>platform_tencent</th>\n",
       "      <th>platform_other</th>\n",
       "      <th>cet4</th>\n",
       "      <th>cet6</th>\n",
       "      <th>gaokao</th>\n",
       "      <th>digital_skill</th>\n",
       "      <th>study_grammar</th>\n",
       "      <th>...</th>\n",
       "      <th>hukou</th>\n",
       "      <th>grade</th>\n",
       "      <th>major_type</th>\n",
       "      <th>school</th>\n",
       "      <th>major</th>\n",
       "      <th>emo_4_recode</th>\n",
       "      <th>behav</th>\n",
       "      <th>cogn</th>\n",
       "      <th>emo</th>\n",
       "      <th>soc</th>\n",
       "    </tr>\n",
       "  </thead>\n",
       "  <tbody>\n",
       "    <tr>\n",
       "      <th>0</th>\n",
       "      <td>否</td>\n",
       "      <td>NaN</td>\n",
       "      <td>NaN</td>\n",
       "      <td>NaN</td>\n",
       "      <td>NaN</td>\n",
       "      <td>通过了</td>\n",
       "      <td>未通过</td>\n",
       "      <td>2.0</td>\n",
       "      <td>4.0</td>\n",
       "      <td>NaN</td>\n",
       "      <td>...</td>\n",
       "      <td>非城镇类</td>\n",
       "      <td>大三</td>\n",
       "      <td>人文社科类</td>\n",
       "      <td>文学与传媒学院</td>\n",
       "      <td>NaN</td>\n",
       "      <td>NaN</td>\n",
       "      <td>NaN</td>\n",
       "      <td>NaN</td>\n",
       "      <td>NaN</td>\n",
       "      <td>NaN</td>\n",
       "    </tr>\n",
       "    <tr>\n",
       "      <th>1</th>\n",
       "      <td>是</td>\n",
       "      <td>选中</td>\n",
       "      <td>选中</td>\n",
       "      <td>选中</td>\n",
       "      <td>未选中</td>\n",
       "      <td>未通过</td>\n",
       "      <td>NaN</td>\n",
       "      <td>4.0</td>\n",
       "      <td>4.0</td>\n",
       "      <td>2.0</td>\n",
       "      <td>...</td>\n",
       "      <td>城镇类</td>\n",
       "      <td>大三</td>\n",
       "      <td>人文社科类</td>\n",
       "      <td>文学与传媒学院</td>\n",
       "      <td>NaN</td>\n",
       "      <td>3.0</td>\n",
       "      <td>3.333333</td>\n",
       "      <td>4.0</td>\n",
       "      <td>4.5</td>\n",
       "      <td>4.333333</td>\n",
       "    </tr>\n",
       "    <tr>\n",
       "      <th>2</th>\n",
       "      <td>否</td>\n",
       "      <td>NaN</td>\n",
       "      <td>NaN</td>\n",
       "      <td>NaN</td>\n",
       "      <td>NaN</td>\n",
       "      <td>通过了</td>\n",
       "      <td>未通过</td>\n",
       "      <td>3.0</td>\n",
       "      <td>5.0</td>\n",
       "      <td>NaN</td>\n",
       "      <td>...</td>\n",
       "      <td>城镇类</td>\n",
       "      <td>大三</td>\n",
       "      <td>人文社科类</td>\n",
       "      <td>文学与传媒学院</td>\n",
       "      <td>NaN</td>\n",
       "      <td>NaN</td>\n",
       "      <td>NaN</td>\n",
       "      <td>NaN</td>\n",
       "      <td>NaN</td>\n",
       "      <td>NaN</td>\n",
       "    </tr>\n",
       "    <tr>\n",
       "      <th>3</th>\n",
       "      <td>否</td>\n",
       "      <td>NaN</td>\n",
       "      <td>NaN</td>\n",
       "      <td>NaN</td>\n",
       "      <td>NaN</td>\n",
       "      <td>未通过</td>\n",
       "      <td>NaN</td>\n",
       "      <td>2.0</td>\n",
       "      <td>5.0</td>\n",
       "      <td>NaN</td>\n",
       "      <td>...</td>\n",
       "      <td>城镇类</td>\n",
       "      <td>大三</td>\n",
       "      <td>人文社科类</td>\n",
       "      <td>文学与传媒学院</td>\n",
       "      <td>NaN</td>\n",
       "      <td>NaN</td>\n",
       "      <td>NaN</td>\n",
       "      <td>NaN</td>\n",
       "      <td>NaN</td>\n",
       "      <td>NaN</td>\n",
       "    </tr>\n",
       "    <tr>\n",
       "      <th>4</th>\n",
       "      <td>否</td>\n",
       "      <td>NaN</td>\n",
       "      <td>NaN</td>\n",
       "      <td>NaN</td>\n",
       "      <td>NaN</td>\n",
       "      <td>未通过</td>\n",
       "      <td>NaN</td>\n",
       "      <td>2.0</td>\n",
       "      <td>5.0</td>\n",
       "      <td>NaN</td>\n",
       "      <td>...</td>\n",
       "      <td>非城镇类</td>\n",
       "      <td>大三</td>\n",
       "      <td>人文社科类</td>\n",
       "      <td>文学与传媒学院</td>\n",
       "      <td>NaN</td>\n",
       "      <td>NaN</td>\n",
       "      <td>NaN</td>\n",
       "      <td>NaN</td>\n",
       "      <td>NaN</td>\n",
       "      <td>NaN</td>\n",
       "    </tr>\n",
       "  </tbody>\n",
       "</table>\n",
       "<p>5 rows × 46 columns</p>\n",
       "</div>"
      ],
      "text/plain": [
       "  usage platform_bilibili platform_icourse platform_tencent platform_other  \\\n",
       "0     否               NaN              NaN              NaN            NaN   \n",
       "1     是                选中               选中               选中            未选中   \n",
       "2     否               NaN              NaN              NaN            NaN   \n",
       "3     否               NaN              NaN              NaN            NaN   \n",
       "4     否               NaN              NaN              NaN            NaN   \n",
       "\n",
       "  cet4 cet6  gaokao  digital_skill  study_grammar  ...  hukou  grade  \\\n",
       "0  通过了  未通过     2.0            4.0            NaN  ...   非城镇类     大三   \n",
       "1  未通过  NaN     4.0            4.0            2.0  ...    城镇类     大三   \n",
       "2  通过了  未通过     3.0            5.0            NaN  ...    城镇类     大三   \n",
       "3  未通过  NaN     2.0            5.0            NaN  ...    城镇类     大三   \n",
       "4  未通过  NaN     2.0            5.0            NaN  ...   非城镇类     大三   \n",
       "\n",
       "   major_type   school  major  emo_4_recode     behav  cogn  emo       soc  \n",
       "0       人文社科类  文学与传媒学院    NaN           NaN       NaN   NaN  NaN       NaN  \n",
       "1       人文社科类  文学与传媒学院    NaN           3.0  3.333333   4.0  4.5  4.333333  \n",
       "2       人文社科类  文学与传媒学院    NaN           NaN       NaN   NaN  NaN       NaN  \n",
       "3       人文社科类  文学与传媒学院    NaN           NaN       NaN   NaN  NaN       NaN  \n",
       "4       人文社科类  文学与传媒学院    NaN           NaN       NaN   NaN  NaN       NaN  \n",
       "\n",
       "[5 rows x 46 columns]"
      ]
     },
     "execution_count": 123,
     "metadata": {},
     "output_type": "execute_result"
    }
   ],
   "source": [
    "#检查一下数据\n",
    "df.head(5)"
   ]
  },
  {
   "cell_type": "markdown",
   "metadata": {},
   "source": [
    "#筛选一个数据集出来供部分统计分析使用"
   ]
  },
  {
   "cell_type": "code",
   "execution_count": 124,
   "metadata": {},
   "outputs": [],
   "source": [
    "df_yes = df[df.usage == \"是\"] # 使用在线英语学习平台的子样本"
   ]
  },
  {
   "cell_type": "markdown",
   "metadata": {},
   "source": [
    "# 数据分析"
   ]
  },
  {
   "cell_type": "markdown",
   "metadata": {},
   "source": [
    "## ✨探索数据（描述性统计）"
   ]
  },
  {
   "cell_type": "code",
   "execution_count": 125,
   "metadata": {},
   "outputs": [
    {
     "data": {
      "text/html": [
       "<div>\n",
       "<style scoped>\n",
       "    .dataframe tbody tr th:only-of-type {\n",
       "        vertical-align: middle;\n",
       "    }\n",
       "\n",
       "    .dataframe tbody tr th {\n",
       "        vertical-align: top;\n",
       "    }\n",
       "\n",
       "    .dataframe thead th {\n",
       "        text-align: right;\n",
       "    }\n",
       "</style>\n",
       "<table border=\"1\" class=\"dataframe\">\n",
       "  <thead>\n",
       "    <tr style=\"text-align: right;\">\n",
       "      <th></th>\n",
       "      <th>gaokao</th>\n",
       "      <th>digital_skill</th>\n",
       "      <th>study_grammar</th>\n",
       "      <th>study_vocabulary</th>\n",
       "      <th>study_listening</th>\n",
       "      <th>study_speaking</th>\n",
       "      <th>study_writing</th>\n",
       "      <th>study_translation</th>\n",
       "      <th>study_reading</th>\n",
       "      <th>behav_1</th>\n",
       "      <th>...</th>\n",
       "      <th>emo_3</th>\n",
       "      <th>emo_4</th>\n",
       "      <th>soc_1</th>\n",
       "      <th>soc_2</th>\n",
       "      <th>soc_3</th>\n",
       "      <th>emo_4_recode</th>\n",
       "      <th>behav</th>\n",
       "      <th>cogn</th>\n",
       "      <th>emo</th>\n",
       "      <th>soc</th>\n",
       "    </tr>\n",
       "  </thead>\n",
       "  <tbody>\n",
       "    <tr>\n",
       "      <th>count</th>\n",
       "      <td>57.000000</td>\n",
       "      <td>57.000000</td>\n",
       "      <td>29.000000</td>\n",
       "      <td>29.000000</td>\n",
       "      <td>29.000000</td>\n",
       "      <td>29.000000</td>\n",
       "      <td>29.000000</td>\n",
       "      <td>29.000000</td>\n",
       "      <td>29.000000</td>\n",
       "      <td>29.000000</td>\n",
       "      <td>...</td>\n",
       "      <td>29.000000</td>\n",
       "      <td>29.000000</td>\n",
       "      <td>29.000000</td>\n",
       "      <td>29.000000</td>\n",
       "      <td>29.000000</td>\n",
       "      <td>29.000000</td>\n",
       "      <td>29.000000</td>\n",
       "      <td>29.000000</td>\n",
       "      <td>29.000000</td>\n",
       "      <td>29.000000</td>\n",
       "    </tr>\n",
       "    <tr>\n",
       "      <th>mean</th>\n",
       "      <td>2.701754</td>\n",
       "      <td>3.894737</td>\n",
       "      <td>1.896552</td>\n",
       "      <td>2.862069</td>\n",
       "      <td>2.344828</td>\n",
       "      <td>1.931034</td>\n",
       "      <td>2.034483</td>\n",
       "      <td>2.206897</td>\n",
       "      <td>2.482759</td>\n",
       "      <td>3.413793</td>\n",
       "      <td>...</td>\n",
       "      <td>3.758621</td>\n",
       "      <td>4.034483</td>\n",
       "      <td>3.517241</td>\n",
       "      <td>3.241379</td>\n",
       "      <td>3.482759</td>\n",
       "      <td>2.965517</td>\n",
       "      <td>3.298851</td>\n",
       "      <td>3.793103</td>\n",
       "      <td>3.629310</td>\n",
       "      <td>3.413793</td>\n",
       "    </tr>\n",
       "    <tr>\n",
       "      <th>std</th>\n",
       "      <td>1.034493</td>\n",
       "      <td>0.938924</td>\n",
       "      <td>0.816999</td>\n",
       "      <td>0.953345</td>\n",
       "      <td>0.813979</td>\n",
       "      <td>0.842235</td>\n",
       "      <td>0.778403</td>\n",
       "      <td>0.861034</td>\n",
       "      <td>0.911070</td>\n",
       "      <td>1.401969</td>\n",
       "      <td>...</td>\n",
       "      <td>1.122980</td>\n",
       "      <td>1.017095</td>\n",
       "      <td>1.326130</td>\n",
       "      <td>1.405478</td>\n",
       "      <td>1.271127</td>\n",
       "      <td>1.017095</td>\n",
       "      <td>1.054449</td>\n",
       "      <td>1.074280</td>\n",
       "      <td>0.778106</td>\n",
       "      <td>1.268217</td>\n",
       "    </tr>\n",
       "    <tr>\n",
       "      <th>min</th>\n",
       "      <td>1.000000</td>\n",
       "      <td>2.000000</td>\n",
       "      <td>1.000000</td>\n",
       "      <td>1.000000</td>\n",
       "      <td>1.000000</td>\n",
       "      <td>1.000000</td>\n",
       "      <td>1.000000</td>\n",
       "      <td>1.000000</td>\n",
       "      <td>1.000000</td>\n",
       "      <td>1.000000</td>\n",
       "      <td>...</td>\n",
       "      <td>1.000000</td>\n",
       "      <td>1.000000</td>\n",
       "      <td>1.000000</td>\n",
       "      <td>1.000000</td>\n",
       "      <td>1.000000</td>\n",
       "      <td>1.000000</td>\n",
       "      <td>1.000000</td>\n",
       "      <td>1.000000</td>\n",
       "      <td>1.250000</td>\n",
       "      <td>1.000000</td>\n",
       "    </tr>\n",
       "    <tr>\n",
       "      <th>25%</th>\n",
       "      <td>2.000000</td>\n",
       "      <td>3.000000</td>\n",
       "      <td>1.000000</td>\n",
       "      <td>2.000000</td>\n",
       "      <td>2.000000</td>\n",
       "      <td>1.000000</td>\n",
       "      <td>1.000000</td>\n",
       "      <td>2.000000</td>\n",
       "      <td>2.000000</td>\n",
       "      <td>2.000000</td>\n",
       "      <td>...</td>\n",
       "      <td>3.000000</td>\n",
       "      <td>4.000000</td>\n",
       "      <td>3.000000</td>\n",
       "      <td>2.000000</td>\n",
       "      <td>3.000000</td>\n",
       "      <td>2.000000</td>\n",
       "      <td>2.500000</td>\n",
       "      <td>3.333333</td>\n",
       "      <td>3.250000</td>\n",
       "      <td>2.333333</td>\n",
       "    </tr>\n",
       "    <tr>\n",
       "      <th>50%</th>\n",
       "      <td>3.000000</td>\n",
       "      <td>4.000000</td>\n",
       "      <td>2.000000</td>\n",
       "      <td>3.000000</td>\n",
       "      <td>2.000000</td>\n",
       "      <td>2.000000</td>\n",
       "      <td>2.000000</td>\n",
       "      <td>2.000000</td>\n",
       "      <td>3.000000</td>\n",
       "      <td>4.000000</td>\n",
       "      <td>...</td>\n",
       "      <td>4.000000</td>\n",
       "      <td>4.000000</td>\n",
       "      <td>4.000000</td>\n",
       "      <td>3.000000</td>\n",
       "      <td>4.000000</td>\n",
       "      <td>3.000000</td>\n",
       "      <td>3.500000</td>\n",
       "      <td>4.000000</td>\n",
       "      <td>3.750000</td>\n",
       "      <td>3.333333</td>\n",
       "    </tr>\n",
       "    <tr>\n",
       "      <th>75%</th>\n",
       "      <td>3.000000</td>\n",
       "      <td>5.000000</td>\n",
       "      <td>2.000000</td>\n",
       "      <td>4.000000</td>\n",
       "      <td>3.000000</td>\n",
       "      <td>2.000000</td>\n",
       "      <td>3.000000</td>\n",
       "      <td>3.000000</td>\n",
       "      <td>3.000000</td>\n",
       "      <td>4.000000</td>\n",
       "      <td>...</td>\n",
       "      <td>4.000000</td>\n",
       "      <td>5.000000</td>\n",
       "      <td>4.000000</td>\n",
       "      <td>4.000000</td>\n",
       "      <td>4.000000</td>\n",
       "      <td>3.000000</td>\n",
       "      <td>4.000000</td>\n",
       "      <td>4.333333</td>\n",
       "      <td>4.000000</td>\n",
       "      <td>4.333333</td>\n",
       "    </tr>\n",
       "    <tr>\n",
       "      <th>max</th>\n",
       "      <td>5.000000</td>\n",
       "      <td>5.000000</td>\n",
       "      <td>4.000000</td>\n",
       "      <td>4.000000</td>\n",
       "      <td>4.000000</td>\n",
       "      <td>4.000000</td>\n",
       "      <td>3.000000</td>\n",
       "      <td>4.000000</td>\n",
       "      <td>4.000000</td>\n",
       "      <td>6.000000</td>\n",
       "      <td>...</td>\n",
       "      <td>6.000000</td>\n",
       "      <td>6.000000</td>\n",
       "      <td>6.000000</td>\n",
       "      <td>6.000000</td>\n",
       "      <td>6.000000</td>\n",
       "      <td>6.000000</td>\n",
       "      <td>5.000000</td>\n",
       "      <td>6.000000</td>\n",
       "      <td>4.750000</td>\n",
       "      <td>6.000000</td>\n",
       "    </tr>\n",
       "  </tbody>\n",
       "</table>\n",
       "<p>8 rows × 33 columns</p>\n",
       "</div>"
      ],
      "text/plain": [
       "          gaokao  digital_skill  study_grammar  study_vocabulary  \\\n",
       "count  57.000000      57.000000      29.000000         29.000000   \n",
       "mean    2.701754       3.894737       1.896552          2.862069   \n",
       "std     1.034493       0.938924       0.816999          0.953345   \n",
       "min     1.000000       2.000000       1.000000          1.000000   \n",
       "25%     2.000000       3.000000       1.000000          2.000000   \n",
       "50%     3.000000       4.000000       2.000000          3.000000   \n",
       "75%     3.000000       5.000000       2.000000          4.000000   \n",
       "max     5.000000       5.000000       4.000000          4.000000   \n",
       "\n",
       "       study_listening  study_speaking  study_writing  study_translation  \\\n",
       "count        29.000000       29.000000      29.000000          29.000000   \n",
       "mean          2.344828        1.931034       2.034483           2.206897   \n",
       "std           0.813979        0.842235       0.778403           0.861034   \n",
       "min           1.000000        1.000000       1.000000           1.000000   \n",
       "25%           2.000000        1.000000       1.000000           2.000000   \n",
       "50%           2.000000        2.000000       2.000000           2.000000   \n",
       "75%           3.000000        2.000000       3.000000           3.000000   \n",
       "max           4.000000        4.000000       3.000000           4.000000   \n",
       "\n",
       "       study_reading    behav_1  ...      emo_3      emo_4      soc_1  \\\n",
       "count      29.000000  29.000000  ...  29.000000  29.000000  29.000000   \n",
       "mean        2.482759   3.413793  ...   3.758621   4.034483   3.517241   \n",
       "std         0.911070   1.401969  ...   1.122980   1.017095   1.326130   \n",
       "min         1.000000   1.000000  ...   1.000000   1.000000   1.000000   \n",
       "25%         2.000000   2.000000  ...   3.000000   4.000000   3.000000   \n",
       "50%         3.000000   4.000000  ...   4.000000   4.000000   4.000000   \n",
       "75%         3.000000   4.000000  ...   4.000000   5.000000   4.000000   \n",
       "max         4.000000   6.000000  ...   6.000000   6.000000   6.000000   \n",
       "\n",
       "           soc_2      soc_3  emo_4_recode      behav       cogn        emo  \\\n",
       "count  29.000000  29.000000     29.000000  29.000000  29.000000  29.000000   \n",
       "mean    3.241379   3.482759      2.965517   3.298851   3.793103   3.629310   \n",
       "std     1.405478   1.271127      1.017095   1.054449   1.074280   0.778106   \n",
       "min     1.000000   1.000000      1.000000   1.000000   1.000000   1.250000   \n",
       "25%     2.000000   3.000000      2.000000   2.500000   3.333333   3.250000   \n",
       "50%     3.000000   4.000000      3.000000   3.500000   4.000000   3.750000   \n",
       "75%     4.000000   4.000000      3.000000   4.000000   4.333333   4.000000   \n",
       "max     6.000000   6.000000      6.000000   5.000000   6.000000   4.750000   \n",
       "\n",
       "             soc  \n",
       "count  29.000000  \n",
       "mean    3.413793  \n",
       "std     1.268217  \n",
       "min     1.000000  \n",
       "25%     2.333333  \n",
       "50%     3.333333  \n",
       "75%     4.333333  \n",
       "max     6.000000  \n",
       "\n",
       "[8 rows x 33 columns]"
      ]
     },
     "execution_count": 125,
     "metadata": {},
     "output_type": "execute_result"
    }
   ],
   "source": [
    "# 返回所有变量的描述性统计结果（注意——这里的描述性统计结果仅适用于“数值型变量”）\n",
    "df.describe()"
   ]
  },
  {
   "cell_type": "code",
   "execution_count": 126,
   "metadata": {},
   "outputs": [
    {
     "data": {
      "text/plain": [
       "count    29.000000\n",
       "mean      3.298851\n",
       "std       1.054449\n",
       "min       1.000000\n",
       "25%       2.500000\n",
       "50%       3.500000\n",
       "75%       4.000000\n",
       "max       5.000000\n",
       "Name: behav, dtype: float64"
      ]
     },
     "execution_count": 126,
     "metadata": {},
     "output_type": "execute_result"
    }
   ],
   "source": [
    "# 返回单个变量的描述性统计结果\n",
    "df[\"behav\"].describe()\n"
   ]
  },
  {
   "cell_type": "code",
   "execution_count": 127,
   "metadata": {},
   "outputs": [
    {
     "data": {
      "text/plain": [
       "<AxesSubplot: xlabel='behav', ylabel='Count'>"
      ]
     },
     "execution_count": 127,
     "metadata": {},
     "output_type": "execute_result"
    },
    {
     "data": {
      "image/png": "[encoded data removed]",
      "text/plain": [
       "<Figure size 432x288 with 1 Axes>"
      ]
     },
     "metadata": {},
     "output_type": "display_data"
    }
   ],
   "source": [
    "# 直方图\n",
    "sns.histplot(data=df, x = \"behav\")"
   ]
  },
  {
   "cell_type": "code",
   "execution_count": 128,
   "metadata": {},
   "outputs": [
    {
     "data": {
      "text/plain": [
       "女    47\n",
       "男    10\n",
       "Name: gender, dtype: int64"
      ]
     },
     "execution_count": 128,
     "metadata": {},
     "output_type": "execute_result"
    }
   ],
   "source": [
    "# 类别型变量的描述性统计结果\n",
    "df.gender.value_counts()"
   ]
  },
  {
   "cell_type": "code",
   "execution_count": 129,
   "metadata": {},
   "outputs": [
    {
     "data": {
      "text/plain": [
       "<AxesSubplot: xlabel='gender', ylabel='count'>"
      ]
     },
     "execution_count": 129,
     "metadata": {},
     "output_type": "execute_result"
    },
    {
     "data": {
      "image/png": "[encoded data removed]",
      "text/plain": [
       "<Figure size 432x288 with 1 Axes>"
      ]
     },
     "metadata": {},
     "output_type": "display_data"
    }
   ],
   "source": [
    "# 条形图\n",
    "sns.countplot(x=\"gender\", data=df)"
   ]
  },
  {
   "cell_type": "code",
   "execution_count": 130,
   "metadata": {},
   "outputs": [
    {
     "data": {
      "text/plain": [
       "文学与传媒学院       31\n",
       "商学院           10\n",
       "会计学院           5\n",
       "公共管理学院         4\n",
       "电子与计算机工程学院     4\n",
       "云康医学与健康学院      1\n",
       "艺术设计与创意产业系     1\n",
       "音乐系            1\n",
       "Name: school, dtype: int64"
      ]
     },
     "execution_count": 130,
     "metadata": {},
     "output_type": "execute_result"
    }
   ],
   "source": [
    "# 饼状图\n",
    "table_school = df.school.value_counts()#将学院变量整理成表格\n",
    "table_school\n"
   ]
  },
  {
   "cell_type": "code",
   "execution_count": 131,
   "metadata": {},
   "outputs": [
    {
     "data": {
      "text/plain": [
       "<AxesSubplot: ylabel='school'>"
      ]
     },
     "execution_count": 131,
     "metadata": {},
     "output_type": "execute_result"
    },
    {
     "data": {
      "image/png": "[encoded data removed]",
      "text/plain": [
       "<Figure size 432x288 with 1 Axes>"
      ]
     },
     "metadata": {},
     "output_type": "display_data"
    }
   ],
   "source": [
    "colors = sns.color_palette('pastel')[0:5] #使用seaborn的调色板\n",
    "\n",
    "table_school.plot.pie(colors = colors)#用matplotlib画图"
   ]
  },
  {
   "cell_type": "markdown",
   "metadata": {},
   "source": [
    "## 🎉推断性统计"
   ]
  },
  {
   "cell_type": "markdown",
   "metadata": {},
   "source": [
    "### 1、独立样本t检验"
   ]
  },
  {
   "cell_type": "markdown",
   "metadata": {},
   "source": [
    "性别（gender） & 行为投入(behav)"
   ]
  },
  {
   "cell_type": "code",
   "execution_count": 132,
   "metadata": {},
   "outputs": [
    {
     "data": {
      "text/plain": [
       "gender\n",
       "女    3.405797\n",
       "男    2.888889\n",
       "Name: behav, dtype: float64"
      ]
     },
     "execution_count": 132,
     "metadata": {},
     "output_type": "execute_result"
    }
   ],
   "source": [
    "# 男女生行为投入的平均值\n",
    "df.groupby(\"gender\").behav.mean()\n",
    "\n"
   ]
  },
  {
   "cell_type": "code",
   "execution_count": 133,
   "metadata": {},
   "outputs": [
    {
     "data": {
      "text/plain": [
       "Ttest_indResult(statistic=nan, pvalue=nan)"
      ]
     },
     "execution_count": 133,
     "metadata": {},
     "output_type": "execute_result"
    }
   ],
   "source": [
    "# 独立样本t检验结果（检验统计量t值，p值）\n",
    "stats.ttest_ind(\n",
    "    df_yes[\"behav\"][df_yes[\"gender\"] == \"男\"],\n",
    "    df_yes[\"behav\"][df_yes[\"gender\"] == \"女\"],\n",
    ")\n",
    "\n"
   ]
  },
  {
   "cell_type": "code",
   "execution_count": 134,
   "metadata": {},
   "outputs": [
    {
     "data": {
      "text/plain": [
       "<AxesSubplot: xlabel='gender', ylabel='behav'>"
      ]
     },
     "execution_count": 134,
     "metadata": {},
     "output_type": "execute_result"
    },
    {
     "data": {
      "image/png": "[encoded data removed]",
      "text/plain": [
       "<Figure size 432x288 with 1 Axes>"
      ]
     },
     "metadata": {},
     "output_type": "display_data"
    }
   ],
   "source": [
    "## 独立样本t检验结果可视化\n",
    "sns.boxplot(x = df[\"gender\"], y = df[\"behav\"]) "
   ]
  },
  {
   "cell_type": "markdown",
   "metadata": {},
   "source": [
    "**结果解读：**\n",
    "男生和女生行为投入分别是3.41和2.89.独立样本t检验显示男生和女生行为投入**没有显著差异**(t=-1.07,p=0.29 > 0.05)。"
   ]
  },
  {
   "cell_type": "markdown",
   "metadata": {},
   "source": [
    "### 2、单因素方差分析"
   ]
  },
  {
   "cell_type": "markdown",
   "metadata": {},
   "source": [
    "学院（school） & 行为投入（behav）"
   ]
  },
  {
   "cell_type": "code",
   "execution_count": 135,
   "metadata": {},
   "outputs": [
    {
     "data": {
      "text/plain": [
       "school\n",
       "云康医学与健康学院     4.500000\n",
       "会计学院          3.500000\n",
       "公共管理学院        3.333333\n",
       "商学院           3.700000\n",
       "文学与传媒学院       3.186275\n",
       "电子与计算机工程学院    1.000000\n",
       "艺术设计与创意产业系    4.000000\n",
       "音乐系                NaN\n",
       "Name: behav, dtype: float64"
      ]
     },
     "execution_count": 135,
     "metadata": {},
     "output_type": "execute_result"
    }
   ],
   "source": [
    "df.groupby('school').behav.mean()"
   ]
  },
  {
   "cell_type": "code",
   "execution_count": 136,
   "metadata": {},
   "outputs": [
    {
     "name": "stdout",
     "output_type": "stream",
     "text": [
      "   Source         SS  DF        MS        F     p-unc       np2\n",
      "0  school   8.283164   6  1.380527  1.32923  0.286206  0.266064\n",
      "1  Within  22.849020  22  1.038592      NaN       NaN       NaN\n"
     ]
    }
   ],
   "source": [
    "# 单因素方差分析\n",
    "aov = pg.anova(data=df, dv=\"behav\", between=\"school\", detailed=True)\n",
    "print(aov)\n"
   ]
  },
  {
   "cell_type": "code",
   "execution_count": 137,
   "metadata": {},
   "outputs": [
    {
     "name": "stdout",
     "output_type": "stream",
     "text": [
      "    Multiple Comparison of Means - Tukey HSD, FWER=0.05    \n",
      "===========================================================\n",
      "  group1     group2   meandiff p-adj   lower  upper  reject\n",
      "-----------------------------------------------------------\n",
      " 云康医学与健康学院       会计学院     -1.0 0.9916 -5.6643 3.6643  False\n",
      " 云康医学与健康学院     公共管理学院  -1.1667 0.9506 -4.9751 2.6417  False\n",
      " 云康医学与健康学院        商学院     -0.8 0.9901  -4.413  2.813  False\n",
      " 云康医学与健康学院    文学与传媒学院  -1.3137 0.8655 -4.7075 2.0801  False\n",
      " 云康医学与健康学院 电子与计算机工程学院     -3.5 0.2337 -8.1643 1.1643  False\n",
      " 云康医学与健康学院 艺术设计与创意产业系     -0.5 0.9998 -5.1643 4.1643  False\n",
      "      会计学院     公共管理学院  -0.1667    1.0 -3.9751 3.6417  False\n",
      "      会计学院        商学院      0.2    1.0  -3.413  3.813  False\n",
      "      会计学院    文学与传媒学院  -0.3137 0.9999 -3.7075 3.0801  False\n",
      "      会计学院 电子与计算机工程学院     -2.5 0.6018 -7.1643 2.1643  False\n",
      "      会计学院 艺术设计与创意产业系      0.5 0.9998 -4.1643 5.1643  False\n",
      "    公共管理学院        商学院   0.3667 0.9987  -2.042 2.7753  False\n",
      "    公共管理学院    文学与传媒学院  -0.1471    1.0 -2.2125 1.9183  False\n",
      "    公共管理学院 电子与计算机工程学院  -2.3333  0.452 -6.1417 1.4751  False\n",
      "    公共管理学院 艺术设计与创意产业系   0.6667 0.9972 -3.1417 4.4751  False\n",
      "       商学院    文学与传媒学院  -0.5137 0.9508 -2.1917 1.1642  False\n",
      "       商学院 电子与计算机工程学院     -2.7 0.2375  -6.313  0.913  False\n",
      "       商学院 艺术设计与创意产业系      0.3    1.0  -3.313  3.913  False\n",
      "   文学与传媒学院 电子与计算机工程学院  -2.1863 0.3947 -5.5801 1.2075  False\n",
      "   文学与传媒学院 艺术设计与创意产业系   0.8137  0.985 -2.5801 4.2075  False\n",
      "电子与计算机工程学院 艺术设计与创意产业系      3.0 0.3965 -1.6643 7.6643  False\n",
      "-----------------------------------------------------------\n"
     ]
    }
   ],
   "source": [
    "#事后检验\n",
    "posthoc = pairwise_tukeyhsd(df_yes['behav'], df_yes['school'])\n",
    "print(posthoc)"
   ]
  },
  {
   "cell_type": "code",
   "execution_count": 138,
   "metadata": {},
   "outputs": [
    {
     "data": {
      "text/plain": [
       "<AxesSubplot: xlabel='school', ylabel='behav'>"
      ]
     },
     "execution_count": 138,
     "metadata": {},
     "output_type": "execute_result"
    },
    {
     "data": {
      "image/png": "[encoded data removed]",
      "text/plain": [
       "<Figure size 432x288 with 1 Axes>"
      ]
     },
     "metadata": {},
     "output_type": "display_data"
    }
   ],
   "source": [
    "# 单因素方差分析结果可视化\n",
    "sns.boxplot(x=\"school\", y=\"behav\", data=df)"
   ]
  },
  {
   "cell_type": "code",
   "execution_count": 139,
   "metadata": {},
   "outputs": [
    {
     "data": {
      "text/plain": [
       "<AxesSubplot: xlabel='school', ylabel='behav'>"
      ]
     },
     "execution_count": 139,
     "metadata": {},
     "output_type": "execute_result"
    },
    {
     "data": {
      "image/png": "[encoded data removed]",
      "text/plain": [
       "<Figure size 432x288 with 1 Axes>"
      ]
     },
     "metadata": {},
     "output_type": "display_data"
    }
   ],
   "source": [
    "# 筛选\"文学与传媒学院\",\"商学院\",\"公共管理学院\"这三个学院\n",
    "sns.boxplot(x = 'school', y = 'behav', data = df, order= [\"文学与传媒学院\",\"商学院\",\"公共管理学院\"]) "
   ]
  },
  {
   "cell_type": "markdown",
   "metadata": {},
   "source": [
    "**结果解读：**\n",
    "不同学院的学生在行为投入上**没有显著差异**(F = 1.33, p = 0.29 > 0.05)。"
   ]
  },
  {
   "cell_type": "markdown",
   "metadata": {},
   "source": [
    "### 3、卡方检验"
   ]
  },
  {
   "cell_type": "markdown",
   "metadata": {},
   "source": [
    "四级成绩(cet4) & 平台使用（usage）"
   ]
  },
  {
   "cell_type": "code",
   "execution_count": 140,
   "metadata": {},
   "outputs": [
    {
     "data": {
      "text/html": [
       "<div>\n",
       "<style scoped>\n",
       "    .dataframe tbody tr th:only-of-type {\n",
       "        vertical-align: middle;\n",
       "    }\n",
       "\n",
       "    .dataframe tbody tr th {\n",
       "        vertical-align: top;\n",
       "    }\n",
       "\n",
       "    .dataframe thead th {\n",
       "        text-align: right;\n",
       "    }\n",
       "</style>\n",
       "<table border=\"1\" class=\"dataframe\">\n",
       "  <thead>\n",
       "    <tr style=\"text-align: right;\">\n",
       "      <th>usage</th>\n",
       "      <th>否</th>\n",
       "      <th>是</th>\n",
       "    </tr>\n",
       "    <tr>\n",
       "      <th>cet4</th>\n",
       "      <th></th>\n",
       "      <th></th>\n",
       "    </tr>\n",
       "  </thead>\n",
       "  <tbody>\n",
       "    <tr>\n",
       "      <th>未通过</th>\n",
       "      <td>13</td>\n",
       "      <td>12</td>\n",
       "    </tr>\n",
       "    <tr>\n",
       "      <th>通过了</th>\n",
       "      <td>15</td>\n",
       "      <td>17</td>\n",
       "    </tr>\n",
       "  </tbody>\n",
       "</table>\n",
       "</div>"
      ],
      "text/plain": [
       "usage   否   是\n",
       "cet4         \n",
       "未通过    13  12\n",
       "通过了    15  17"
      ]
     },
     "execution_count": 140,
     "metadata": {},
     "output_type": "execute_result"
    }
   ],
   "source": [
    "# 列联表\n",
    "crosstab = pd.crosstab(df.cet4,df.usage)\n",
    "crosstab\n"
   ]
  },
  {
   "cell_type": "code",
   "execution_count": 141,
   "metadata": {},
   "outputs": [],
   "source": [
    "# 卡方检验结果（检验统计量卡方值，p值,自由度，期望频数）\n",
    "stat, p, dof, expected = chi2_contingency(crosstab) \n"
   ]
  },
  {
   "cell_type": "code",
   "execution_count": 142,
   "metadata": {},
   "outputs": [
    {
     "data": {
      "text/plain": [
       "0.013710360221674767"
      ]
     },
     "execution_count": 142,
     "metadata": {},
     "output_type": "execute_result"
    }
   ],
   "source": [
    "#卡方值\n",
    "stat"
   ]
  },
  {
   "cell_type": "code",
   "execution_count": 143,
   "metadata": {},
   "outputs": [
    {
     "name": "stdout",
     "output_type": "stream",
     "text": [
      "p = 0.9067877455744078\n"
     ]
    }
   ],
   "source": [
    "# p值\n",
    "print(\"p = \" + str(p))"
   ]
  },
  {
   "cell_type": "code",
   "execution_count": 144,
   "metadata": {},
   "outputs": [
    {
     "data": {
      "text/plain": [
       "<AxesSubplot: xlabel='usage', ylabel='count'>"
      ]
     },
     "execution_count": 144,
     "metadata": {},
     "output_type": "execute_result"
    },
    {
     "data": {
      "image/png": "[encoded data removed]",
      "text/plain": [
       "<Figure size 432x288 with 1 Axes>"
      ]
     },
     "metadata": {},
     "output_type": "display_data"
    }
   ],
   "source": [
    "# 卡方检验结果可视化\n",
    "sns.countplot(x = 'usage', hue = 'cet4', data = df) "
   ]
  },
  {
   "cell_type": "markdown",
   "metadata": {},
   "source": [
    "**结果解读：**\n",
    "卡方检验的结果显示“四级成绩”与“英语学习平台”**没有显著关联**（chisq=0.14,p=0.91 >0.05）。"
   ]
  },
  {
   "cell_type": "markdown",
   "metadata": {},
   "source": [
    "### 4、相关分析"
   ]
  },
  {
   "cell_type": "markdown",
   "metadata": {},
   "source": [
    "数字能力（digital_skill） & 行为投入（behav）"
   ]
  },
  {
   "cell_type": "code",
   "execution_count": 145,
   "metadata": {},
   "outputs": [
    {
     "data": {
      "text/html": [
       "<div>\n",
       "<style scoped>\n",
       "    .dataframe tbody tr th:only-of-type {\n",
       "        vertical-align: middle;\n",
       "    }\n",
       "\n",
       "    .dataframe tbody tr th {\n",
       "        vertical-align: top;\n",
       "    }\n",
       "\n",
       "    .dataframe thead th {\n",
       "        text-align: right;\n",
       "    }\n",
       "</style>\n",
       "<table border=\"1\" class=\"dataframe\">\n",
       "  <thead>\n",
       "    <tr style=\"text-align: right;\">\n",
       "      <th></th>\n",
       "      <th>X</th>\n",
       "      <th>Y</th>\n",
       "      <th>method</th>\n",
       "      <th>alternative</th>\n",
       "      <th>n</th>\n",
       "      <th>r</th>\n",
       "      <th>CI95%</th>\n",
       "      <th>p-unc</th>\n",
       "      <th>BF10</th>\n",
       "      <th>power</th>\n",
       "    </tr>\n",
       "  </thead>\n",
       "  <tbody>\n",
       "    <tr>\n",
       "      <th>0</th>\n",
       "      <td>digital_skill</td>\n",
       "      <td>behav</td>\n",
       "      <td>pearson</td>\n",
       "      <td>two-sided</td>\n",
       "      <td>29</td>\n",
       "      <td>0.153532</td>\n",
       "      <td>[-0.23, 0.49]</td>\n",
       "      <td>0.426522</td>\n",
       "      <td>0.312</td>\n",
       "      <td>0.125557</td>\n",
       "    </tr>\n",
       "  </tbody>\n",
       "</table>\n",
       "</div>"
      ],
      "text/plain": [
       "               X      Y   method alternative   n         r          CI95%  \\\n",
       "0  digital_skill  behav  pearson   two-sided  29  0.153532  [-0.23, 0.49]   \n",
       "\n",
       "      p-unc   BF10     power  \n",
       "0  0.426522  0.312  0.125557  "
      ]
     },
     "execution_count": 145,
     "metadata": {},
     "output_type": "execute_result"
    }
   ],
   "source": [
    "# 努力方式与排名的相关关系\n",
    "pg.pairwise_corr(df, columns=[\"digital_skill\",\"behav\"], method='pearson')"
   ]
  },
  {
   "cell_type": "code",
   "execution_count": 146,
   "metadata": {},
   "outputs": [
    {
     "data": {
      "text/plain": [
       "<AxesSubplot: xlabel='digital_skill', ylabel='behav'>"
      ]
     },
     "execution_count": 146,
     "metadata": {},
     "output_type": "execute_result"
    },
    {
     "data": {
      "image/png": "[encoded data removed]",
      "text/plain": [
       "<Figure size 432x288 with 1 Axes>"
      ]
     },
     "metadata": {},
     "output_type": "display_data"
    }
   ],
   "source": [
    "# 散点图（两变量）（包含拟合直线）\n",
    "sns.regplot(x = \"digital_skill\", y = \"behav\", data = df)"
   ]
  },
  {
   "cell_type": "markdown",
   "metadata": {},
   "source": [
    "**结果解读：**\n",
    "相关分析的结果显示“数字能力”与“行为投入”**没有显著相关**（r=0.15,p=0.43 > 0.05）。"
   ]
  },
  {
   "cell_type": "code",
   "execution_count": 147,
   "metadata": {},
   "outputs": [
    {
     "data": {
      "text/html": [
       "<div>\n",
       "<style scoped>\n",
       "    .dataframe tbody tr th:only-of-type {\n",
       "        vertical-align: middle;\n",
       "    }\n",
       "\n",
       "    .dataframe tbody tr th {\n",
       "        vertical-align: top;\n",
       "    }\n",
       "\n",
       "    .dataframe thead th {\n",
       "        text-align: right;\n",
       "    }\n",
       "</style>\n",
       "<table border=\"1\" class=\"dataframe\">\n",
       "  <thead>\n",
       "    <tr style=\"text-align: right;\">\n",
       "      <th></th>\n",
       "      <th>behav</th>\n",
       "      <th>cogn</th>\n",
       "      <th>emo</th>\n",
       "      <th>soc</th>\n",
       "    </tr>\n",
       "  </thead>\n",
       "  <tbody>\n",
       "    <tr>\n",
       "      <th>behav</th>\n",
       "      <td>-</td>\n",
       "      <td>***</td>\n",
       "      <td>***</td>\n",
       "      <td>***</td>\n",
       "    </tr>\n",
       "    <tr>\n",
       "      <th>cogn</th>\n",
       "      <td>0.762</td>\n",
       "      <td>-</td>\n",
       "      <td>***</td>\n",
       "      <td>***</td>\n",
       "    </tr>\n",
       "    <tr>\n",
       "      <th>emo</th>\n",
       "      <td>0.74</td>\n",
       "      <td>0.818</td>\n",
       "      <td>-</td>\n",
       "      <td>***</td>\n",
       "    </tr>\n",
       "    <tr>\n",
       "      <th>soc</th>\n",
       "      <td>0.765</td>\n",
       "      <td>0.792</td>\n",
       "      <td>0.701</td>\n",
       "      <td>-</td>\n",
       "    </tr>\n",
       "  </tbody>\n",
       "</table>\n",
       "</div>"
      ],
      "text/plain": [
       "       behav   cogn    emo  soc\n",
       "behav      -    ***    ***  ***\n",
       "cogn   0.762      -    ***  ***\n",
       "emo     0.74  0.818      -  ***\n",
       "soc    0.765  0.792  0.701    -"
      ]
     },
     "execution_count": 147,
     "metadata": {},
     "output_type": "execute_result"
    }
   ],
   "source": [
    "# 多个变量的相关分析\n",
    "df[[ \"behav\",\"cogn\",\"emo\",\"soc\"]].rcorr()"
   ]
  },
  {
   "cell_type": "code",
   "execution_count": 148,
   "metadata": {},
   "outputs": [
    {
     "data": {
      "text/plain": [
       "<seaborn.axisgrid.PairGrid at 0x28e4fff3f40>"
      ]
     },
     "execution_count": 148,
     "metadata": {},
     "output_type": "execute_result"
    },
    {
     "data": {
      "image/png": "[encoded data removed]",
      "text/plain": [
       "<Figure size 720x720 with 20 Axes>"
      ]
     },
     "metadata": {},
     "output_type": "display_data"
    }
   ],
   "source": [
    "# 筛选多个变量画出散点图（含回归直线）“矩阵”\n",
    "sns.pairplot(df[[\"behav\",\"cogn\",\"emo\",\"soc\"]], kind=\"reg\")"
   ]
  },
  {
   "cell_type": "markdown",
   "metadata": {},
   "source": [
    "**结果解读：**\n",
    "相关分析的结果显示“行为投入”、“认知投入”、“情感投入”和“社会性投入”两两之间显著相关。"
   ]
  },
  {
   "cell_type": "markdown",
   "metadata": {},
   "source": [
    "### 5、信度分析"
   ]
  },
  {
   "cell_type": "code",
   "execution_count": 149,
   "metadata": {},
   "outputs": [
    {
     "data": {
      "text/plain": [
       "0.8372900129222817"
      ]
     },
     "execution_count": 149,
     "metadata": {},
     "output_type": "execute_result"
    }
   ],
   "source": [
    "df_behav = df.filter(regex = \"^behav_.*\")#以正则表达式的办法筛选以\"behav_\"开头的变量\n",
    "pg.cronbach_alpha(data=df_behav)[0]"
   ]
  },
  {
   "cell_type": "code",
   "execution_count": 150,
   "metadata": {},
   "outputs": [
    {
     "data": {
      "text/plain": [
       "0.9382025136352856"
      ]
     },
     "execution_count": 150,
     "metadata": {},
     "output_type": "execute_result"
    }
   ],
   "source": [
    "df_cogn = df.filter(regex = \"^cogn_.*\")#以正则表达式的办法筛选以\"cogn_\"开头的变量\n",
    "pg.cronbach_alpha(data=df_cogn)[0]"
   ]
  },
  {
   "cell_type": "code",
   "execution_count": 151,
   "metadata": {},
   "outputs": [
    {
     "data": {
      "text/plain": [
       "0.6031019577930332"
      ]
     },
     "execution_count": 151,
     "metadata": {},
     "output_type": "execute_result"
    }
   ],
   "source": [
    "df_emo = df[[\"emo_1\",\"emo_2\",\"emo_3\",\"emo_4_recode\"]]\n",
    "pg.cronbach_alpha(data=df_emo)[0]"
   ]
  },
  {
   "cell_type": "code",
   "execution_count": 152,
   "metadata": {},
   "outputs": [
    {
     "data": {
      "text/plain": [
       "0.9456355283307811"
      ]
     },
     "execution_count": 152,
     "metadata": {},
     "output_type": "execute_result"
    }
   ],
   "source": [
    "df_soc = df.filter(regex = \"^soc_.*\")#以正则表达式的办法筛选以\"soc_\"开头的变量\n",
    "pg.cronbach_alpha(data=df_soc)[0]"
   ]
  },
  {
   "cell_type": "markdown",
   "metadata": {},
   "source": [
    "**结果解读：**\n",
    "“行为投入”、“认知投入”、“情感投入”和“社会性投入”等变量的克隆巴赫系数分别为0.84, 0.94, 0.60, 0.95.“行为投入”、“认知投入”和“社会性投入”的信度水平较高,“情感投入”的信度水平一般般。"
   ]
  }
 ],
 "metadata": {
  "kernelspec": {
   "display_name": "Python 3 (ipykernel)",
   "language": "python",
   "name": "python3"
  },
  "language_info": {
   "codemirror_mode": {
    "name": "ipython",
    "version": 3
   },
   "file_extension": ".py",
   "mimetype": "text/x-python",
   "name": "python",
   "nbconvert_exporter": "python",
   "pygments_lexer": "ipython3",
   "version": "3.9.7"
  },
  "vscode": {
   "interpreter": {
    "hash": "393afc36cfb9449b98f4f044686da15eb8facededbe8675c5ddfde78742b5c22"
   }
  }
 },
 "nbformat": 4,
 "nbformat_minor": 4
}
